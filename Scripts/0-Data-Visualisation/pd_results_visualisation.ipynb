{
 "cells": [
  {
   "cell_type": "code",
   "execution_count": 284,
   "outputs": [],
   "source": [
    "import seaborn as sns\n",
    "import matplotlib.pyplot as plt\n",
    "import pandas as pd\n",
    "from Scripts.utils.pd_results_vis_funcs import *\n",
    "from Scripts.utils.pd_classification_funcs import *"
   ],
   "metadata": {
    "collapsed": false,
    "ExecuteTime": {
     "end_time": "2024-04-15T10:11:47.344085Z",
     "start_time": "2024-04-15T10:11:47.291275Z"
    }
   },
   "id": "9b3f1e64fea054e3"
  },
  {
   "cell_type": "code",
   "execution_count": 285,
   "outputs": [],
   "source": [
    "avg_results_paths = get_all_avg_results_paths()"
   ],
   "metadata": {
    "collapsed": false,
    "ExecuteTime": {
     "end_time": "2024-04-15T10:11:47.553721Z",
     "start_time": "2024-04-15T10:11:47.301236Z"
    }
   },
   "id": "befdc03e46f8deb8"
  },
  {
   "cell_type": "code",
   "execution_count": 286,
   "outputs": [
    {
     "data": {
      "text/plain": "['../../Results/average/pd_1000-1000-windows_classification_avg_results.csv',\n '../../Results/average/pd_500-100-windows_classification_avg_results.csv',\n '../../Results/average/pd_500-250-windows_classification_avg_results.csv',\n '../../Results/average/.DS_Store',\n '../../Results/average/pd_whole_classification_avg_results.csv',\n '../../Results/average/pd_500-500-windows_classification_avg_results.csv',\n '../../Results/average/pd_250-250-windows_classification_avg_results.csv',\n '../../Results/average/pd_1000-250-windows_classification_avg_results.csv',\n '../../Results/average/pd_light-intervals-windows_classification_avg_results.csv',\n '../../Results/average/pd_5000-1000-windows_classification_avg_results.csv']"
     },
     "execution_count": 286,
     "metadata": {},
     "output_type": "execute_result"
    }
   ],
   "source": [
    "avg_results_paths"
   ],
   "metadata": {
    "collapsed": false,
    "ExecuteTime": {
     "end_time": "2024-04-15T10:11:47.554143Z",
     "start_time": "2024-04-15T10:11:47.309295Z"
    }
   },
   "id": "3117347b9d18e517"
  },
  {
   "cell_type": "code",
   "execution_count": 287,
   "outputs": [],
   "source": [
    "final_results_dir = '../../Results/final/'"
   ],
   "metadata": {
    "collapsed": false,
    "ExecuteTime": {
     "end_time": "2024-04-15T10:11:47.554179Z",
     "start_time": "2024-04-15T10:11:47.311643Z"
    }
   },
   "id": "25afb41d02f2a3af"
  },
  {
   "cell_type": "markdown",
   "source": [
    "# Whole"
   ],
   "metadata": {
    "collapsed": false
   },
   "id": "27078a91a82f744"
  },
  {
   "cell_type": "code",
   "execution_count": 288,
   "outputs": [],
   "source": [
    "w_folds_scores_path = get_all_fold_scores_paths('whole')"
   ],
   "metadata": {
    "collapsed": false,
    "ExecuteTime": {
     "end_time": "2024-04-15T10:11:47.554210Z",
     "start_time": "2024-04-15T10:11:47.315949Z"
    }
   },
   "id": "9ea700f791b400cf"
  },
  {
   "cell_type": "code",
   "execution_count": 289,
   "outputs": [
    {
     "data": {
      "text/plain": "['../../Results/folds/whole/.DS_Store',\n '../../Results/folds/whole/pd_whole_Random-Forest_fold_scores.csv',\n '../../Results/folds/whole/pd_whole_Logistic-Regression_fold_scores.csv',\n '../../Results/folds/whole/pd_whole_Support-Vector-Machine_fold_scores.csv',\n '../../Results/folds/whole/pd_whole_ANN-(3,3)_fold_scores.csv',\n '../../Results/folds/whole/pd_whole_ANN-(4,4)_fold_scores.csv']"
     },
     "execution_count": 289,
     "metadata": {},
     "output_type": "execute_result"
    }
   ],
   "source": [
    "w_folds_scores_path"
   ],
   "metadata": {
    "collapsed": false,
    "ExecuteTime": {
     "end_time": "2024-04-15T10:11:47.554290Z",
     "start_time": "2024-04-15T10:11:47.319604Z"
    }
   },
   "id": "60f47c163b16efdf"
  },
  {
   "cell_type": "code",
   "execution_count": 290,
   "outputs": [],
   "source": [
    "w_avg_results_path = avg_results_paths[4]"
   ],
   "metadata": {
    "collapsed": false,
    "ExecuteTime": {
     "end_time": "2024-04-15T10:11:47.554869Z",
     "start_time": "2024-04-15T10:11:47.322823Z"
    }
   },
   "id": "3cd6552e50ebb2e8"
  },
  {
   "cell_type": "code",
   "execution_count": 291,
   "outputs": [
    {
     "data": {
      "text/plain": "'../../Results/average/pd_whole_classification_avg_results.csv'"
     },
     "execution_count": 291,
     "metadata": {},
     "output_type": "execute_result"
    }
   ],
   "source": [
    "w_avg_results_path"
   ],
   "metadata": {
    "collapsed": false,
    "ExecuteTime": {
     "end_time": "2024-04-15T10:11:47.554959Z",
     "start_time": "2024-04-15T10:11:47.325185Z"
    }
   },
   "id": "5c148ccd42a560af"
  },
  {
   "cell_type": "code",
   "execution_count": 292,
   "outputs": [],
   "source": [
    "w_avg_results = pd.read_csv(w_avg_results_path)"
   ],
   "metadata": {
    "collapsed": false,
    "ExecuteTime": {
     "end_time": "2024-04-15T10:11:47.613455Z",
     "start_time": "2024-04-15T10:11:47.337333Z"
    }
   },
   "id": "44999dc84d8d6a00"
  },
  {
   "cell_type": "code",
   "execution_count": 293,
   "outputs": [
    {
     "data": {
      "text/plain": "                     Model  Accuracy  Precision  Sensitivity  Specificity  \\\n0      Logistic Regression  0.816667   0.837229       0.8150        0.805   \n1   Support Vector Machine  0.805556   0.823384       0.8025        0.830   \n2            Random Forest  0.730556   0.750556       0.7550        0.760   \n3                ANN (1,1)  0.638889   0.255556       0.5750        0.575   \n4                ANN (1,2)  0.643056   0.565260       0.6650        0.755   \n5                ANN (1,3)  0.818056   0.597691       0.8250        0.850   \n6                ANN (1,4)  0.734722   0.805714       0.8275        0.900   \n7                ANN (1,5)  0.705556   0.815556       0.7275        0.885   \n8                ANN (2,1)  0.598611   0.601111       0.5875        0.725   \n9                ANN (2,2)  0.618056   0.471429       0.8650        0.785   \n10               ANN (2,3)  0.744444   0.759596       0.7950        0.925   \n11               ANN (2,4)  0.804167   0.806291       0.8375        0.650   \n12               ANN (2,5)  0.841667   0.839913       0.7725        0.780   \n13               ANN (3,1)  0.718056   0.748283       0.6450        0.675   \n14               ANN (3,2)  0.818056   0.642723       0.8175        0.800   \n15               ANN (3,3)  0.818056   0.815317       0.8175        0.880   \n16               ANN (3,4)  0.766667   0.844266       0.8275        0.780   \n17               ANN (3,5)  0.768056   0.854149       0.8175        0.760   \n18               ANN (4,1)  0.636111   0.565490       0.6075        0.800   \n19               ANN (4,2)  0.713889   0.836538       0.7000        0.575   \n20               ANN (4,3)  0.791667   0.823745       0.7925        0.830   \n21               ANN (4,4)  0.866667   0.811183       0.7550        0.830   \n22               ANN (4,5)  0.781944   0.856061       0.7825        0.830   \n23               ANN (5,1)  0.766667   0.705159       0.6175        0.680   \n24               ANN (5,2)  0.781944   0.868539       0.8175        0.790   \n25               ANN (5,3)  0.804167   0.827330       0.7875        0.880   \n26               ANN (5,4)  0.831944   0.824553       0.7775        0.780   \n27               ANN (5,5)  0.830556   0.824394       0.7650        0.810   \n\n          F1  \n0   0.811277  \n1   0.798594  \n2   0.774030  \n3   0.719239  \n4   0.635705  \n5   0.561386  \n6   0.821102  \n7   0.708646  \n8   0.680794  \n9   0.810252  \n10  0.623456  \n11  0.770089  \n12  0.830489  \n13  0.697579  \n14  0.663770  \n15  0.828407  \n16  0.848275  \n17  0.827329  \n18  0.690072  \n19  0.716184  \n20  0.810966  \n21  0.839005  \n22  0.834648  \n23  0.569897  \n24  0.716918  \n25  0.691878  \n26  0.775882  \n27  0.824424  ",
      "text/html": "<div>\n<style scoped>\n    .dataframe tbody tr th:only-of-type {\n        vertical-align: middle;\n    }\n\n    .dataframe tbody tr th {\n        vertical-align: top;\n    }\n\n    .dataframe thead th {\n        text-align: right;\n    }\n</style>\n<table border=\"1\" class=\"dataframe\">\n  <thead>\n    <tr style=\"text-align: right;\">\n      <th></th>\n      <th>Model</th>\n      <th>Accuracy</th>\n      <th>Precision</th>\n      <th>Sensitivity</th>\n      <th>Specificity</th>\n      <th>F1</th>\n    </tr>\n  </thead>\n  <tbody>\n    <tr>\n      <th>0</th>\n      <td>Logistic Regression</td>\n      <td>0.816667</td>\n      <td>0.837229</td>\n      <td>0.8150</td>\n      <td>0.805</td>\n      <td>0.811277</td>\n    </tr>\n    <tr>\n      <th>1</th>\n      <td>Support Vector Machine</td>\n      <td>0.805556</td>\n      <td>0.823384</td>\n      <td>0.8025</td>\n      <td>0.830</td>\n      <td>0.798594</td>\n    </tr>\n    <tr>\n      <th>2</th>\n      <td>Random Forest</td>\n      <td>0.730556</td>\n      <td>0.750556</td>\n      <td>0.7550</td>\n      <td>0.760</td>\n      <td>0.774030</td>\n    </tr>\n    <tr>\n      <th>3</th>\n      <td>ANN (1,1)</td>\n      <td>0.638889</td>\n      <td>0.255556</td>\n      <td>0.5750</td>\n      <td>0.575</td>\n      <td>0.719239</td>\n    </tr>\n    <tr>\n      <th>4</th>\n      <td>ANN (1,2)</td>\n      <td>0.643056</td>\n      <td>0.565260</td>\n      <td>0.6650</td>\n      <td>0.755</td>\n      <td>0.635705</td>\n    </tr>\n    <tr>\n      <th>5</th>\n      <td>ANN (1,3)</td>\n      <td>0.818056</td>\n      <td>0.597691</td>\n      <td>0.8250</td>\n      <td>0.850</td>\n      <td>0.561386</td>\n    </tr>\n    <tr>\n      <th>6</th>\n      <td>ANN (1,4)</td>\n      <td>0.734722</td>\n      <td>0.805714</td>\n      <td>0.8275</td>\n      <td>0.900</td>\n      <td>0.821102</td>\n    </tr>\n    <tr>\n      <th>7</th>\n      <td>ANN (1,5)</td>\n      <td>0.705556</td>\n      <td>0.815556</td>\n      <td>0.7275</td>\n      <td>0.885</td>\n      <td>0.708646</td>\n    </tr>\n    <tr>\n      <th>8</th>\n      <td>ANN (2,1)</td>\n      <td>0.598611</td>\n      <td>0.601111</td>\n      <td>0.5875</td>\n      <td>0.725</td>\n      <td>0.680794</td>\n    </tr>\n    <tr>\n      <th>9</th>\n      <td>ANN (2,2)</td>\n      <td>0.618056</td>\n      <td>0.471429</td>\n      <td>0.8650</td>\n      <td>0.785</td>\n      <td>0.810252</td>\n    </tr>\n    <tr>\n      <th>10</th>\n      <td>ANN (2,3)</td>\n      <td>0.744444</td>\n      <td>0.759596</td>\n      <td>0.7950</td>\n      <td>0.925</td>\n      <td>0.623456</td>\n    </tr>\n    <tr>\n      <th>11</th>\n      <td>ANN (2,4)</td>\n      <td>0.804167</td>\n      <td>0.806291</td>\n      <td>0.8375</td>\n      <td>0.650</td>\n      <td>0.770089</td>\n    </tr>\n    <tr>\n      <th>12</th>\n      <td>ANN (2,5)</td>\n      <td>0.841667</td>\n      <td>0.839913</td>\n      <td>0.7725</td>\n      <td>0.780</td>\n      <td>0.830489</td>\n    </tr>\n    <tr>\n      <th>13</th>\n      <td>ANN (3,1)</td>\n      <td>0.718056</td>\n      <td>0.748283</td>\n      <td>0.6450</td>\n      <td>0.675</td>\n      <td>0.697579</td>\n    </tr>\n    <tr>\n      <th>14</th>\n      <td>ANN (3,2)</td>\n      <td>0.818056</td>\n      <td>0.642723</td>\n      <td>0.8175</td>\n      <td>0.800</td>\n      <td>0.663770</td>\n    </tr>\n    <tr>\n      <th>15</th>\n      <td>ANN (3,3)</td>\n      <td>0.818056</td>\n      <td>0.815317</td>\n      <td>0.8175</td>\n      <td>0.880</td>\n      <td>0.828407</td>\n    </tr>\n    <tr>\n      <th>16</th>\n      <td>ANN (3,4)</td>\n      <td>0.766667</td>\n      <td>0.844266</td>\n      <td>0.8275</td>\n      <td>0.780</td>\n      <td>0.848275</td>\n    </tr>\n    <tr>\n      <th>17</th>\n      <td>ANN (3,5)</td>\n      <td>0.768056</td>\n      <td>0.854149</td>\n      <td>0.8175</td>\n      <td>0.760</td>\n      <td>0.827329</td>\n    </tr>\n    <tr>\n      <th>18</th>\n      <td>ANN (4,1)</td>\n      <td>0.636111</td>\n      <td>0.565490</td>\n      <td>0.6075</td>\n      <td>0.800</td>\n      <td>0.690072</td>\n    </tr>\n    <tr>\n      <th>19</th>\n      <td>ANN (4,2)</td>\n      <td>0.713889</td>\n      <td>0.836538</td>\n      <td>0.7000</td>\n      <td>0.575</td>\n      <td>0.716184</td>\n    </tr>\n    <tr>\n      <th>20</th>\n      <td>ANN (4,3)</td>\n      <td>0.791667</td>\n      <td>0.823745</td>\n      <td>0.7925</td>\n      <td>0.830</td>\n      <td>0.810966</td>\n    </tr>\n    <tr>\n      <th>21</th>\n      <td>ANN (4,4)</td>\n      <td>0.866667</td>\n      <td>0.811183</td>\n      <td>0.7550</td>\n      <td>0.830</td>\n      <td>0.839005</td>\n    </tr>\n    <tr>\n      <th>22</th>\n      <td>ANN (4,5)</td>\n      <td>0.781944</td>\n      <td>0.856061</td>\n      <td>0.7825</td>\n      <td>0.830</td>\n      <td>0.834648</td>\n    </tr>\n    <tr>\n      <th>23</th>\n      <td>ANN (5,1)</td>\n      <td>0.766667</td>\n      <td>0.705159</td>\n      <td>0.6175</td>\n      <td>0.680</td>\n      <td>0.569897</td>\n    </tr>\n    <tr>\n      <th>24</th>\n      <td>ANN (5,2)</td>\n      <td>0.781944</td>\n      <td>0.868539</td>\n      <td>0.8175</td>\n      <td>0.790</td>\n      <td>0.716918</td>\n    </tr>\n    <tr>\n      <th>25</th>\n      <td>ANN (5,3)</td>\n      <td>0.804167</td>\n      <td>0.827330</td>\n      <td>0.7875</td>\n      <td>0.880</td>\n      <td>0.691878</td>\n    </tr>\n    <tr>\n      <th>26</th>\n      <td>ANN (5,4)</td>\n      <td>0.831944</td>\n      <td>0.824553</td>\n      <td>0.7775</td>\n      <td>0.780</td>\n      <td>0.775882</td>\n    </tr>\n    <tr>\n      <th>27</th>\n      <td>ANN (5,5)</td>\n      <td>0.830556</td>\n      <td>0.824394</td>\n      <td>0.7650</td>\n      <td>0.810</td>\n      <td>0.824424</td>\n    </tr>\n  </tbody>\n</table>\n</div>"
     },
     "execution_count": 293,
     "metadata": {},
     "output_type": "execute_result"
    }
   ],
   "source": [
    "w_avg_results"
   ],
   "metadata": {
    "collapsed": false,
    "ExecuteTime": {
     "end_time": "2024-04-15T10:11:47.614900Z",
     "start_time": "2024-04-15T10:11:47.455073Z"
    }
   },
   "id": "3124ad992fcc3fb7"
  },
  {
   "cell_type": "code",
   "execution_count": 294,
   "outputs": [
    {
     "name": "stderr",
     "output_type": "stream",
     "text": [
      "/var/folders/xq/18z65by97_b4nsc6115y_3nw0000gn/T/ipykernel_68200/2617511633.py:5: FutureWarning: The behavior of DataFrame concatenation with empty or all-NA entries is deprecated. In a future version, this will no longer exclude empty or all-NA columns when determining the result dtypes. To retain the old behavior, exclude the relevant entries before the concat operation.\n",
      "  best_whole_models = pd.concat([best_whole_models, w_best_model_results], ignore_index=True)\n"
     ]
    }
   ],
   "source": [
    "best_whole_models = pd.DataFrame(columns=['Model'] + list(scoring_methods.keys()) + ['AS'])\n",
    "for i in range(10):\n",
    "    w_best_model, w_best_model_results = find_best_model(w_avg_results)\n",
    "    w_avg_results = w_avg_results[w_avg_results['Model'] != w_best_model]\n",
    "    best_whole_models = pd.concat([best_whole_models, w_best_model_results], ignore_index=True)"
   ],
   "metadata": {
    "collapsed": false,
    "ExecuteTime": {
     "end_time": "2024-04-15T10:11:47.615152Z",
     "start_time": "2024-04-15T10:11:47.455208Z"
    }
   },
   "id": "f578eeb278819440"
  },
  {
   "cell_type": "code",
   "execution_count": 295,
   "outputs": [
    {
     "data": {
      "text/plain": "                    Model  Accuracy Precision Sensitivity Specificity  \\\n0               ANN (4,4)  0.866667  0.811183       0.755        0.83   \n1               ANN (3,3)  0.818056  0.815317      0.8175        0.88   \n2               ANN (5,5)  0.830556  0.824394       0.765        0.81   \n3               ANN (1,4)  0.734722  0.805714      0.8275         0.9   \n4               ANN (2,5)  0.841667  0.839913      0.7725        0.78   \n5               ANN (4,5)  0.781944  0.856061      0.7825        0.83   \n6  Support Vector Machine  0.805556  0.823384      0.8025        0.83   \n7     Logistic Regression  0.816667  0.837229       0.815       0.805   \n8               ANN (4,3)  0.791667  0.823745      0.7925        0.83   \n9               ANN (3,4)  0.766667  0.844266      0.8275        0.78   \n\n         F1        AS  \n0  0.839005  0.845224  \n1  0.828407  0.842154  \n2  0.824424  0.821660  \n3  0.821102  0.818608  \n4  0.830489  0.817385  \n5  0.834648  0.815531  \n6  0.798594  0.811383  \n7  0.811277  0.810981  \n8  0.810966  0.810877  \n9  0.848275  0.798314  ",
      "text/html": "<div>\n<style scoped>\n    .dataframe tbody tr th:only-of-type {\n        vertical-align: middle;\n    }\n\n    .dataframe tbody tr th {\n        vertical-align: top;\n    }\n\n    .dataframe thead th {\n        text-align: right;\n    }\n</style>\n<table border=\"1\" class=\"dataframe\">\n  <thead>\n    <tr style=\"text-align: right;\">\n      <th></th>\n      <th>Model</th>\n      <th>Accuracy</th>\n      <th>Precision</th>\n      <th>Sensitivity</th>\n      <th>Specificity</th>\n      <th>F1</th>\n      <th>AS</th>\n    </tr>\n  </thead>\n  <tbody>\n    <tr>\n      <th>0</th>\n      <td>ANN (4,4)</td>\n      <td>0.866667</td>\n      <td>0.811183</td>\n      <td>0.755</td>\n      <td>0.83</td>\n      <td>0.839005</td>\n      <td>0.845224</td>\n    </tr>\n    <tr>\n      <th>1</th>\n      <td>ANN (3,3)</td>\n      <td>0.818056</td>\n      <td>0.815317</td>\n      <td>0.8175</td>\n      <td>0.88</td>\n      <td>0.828407</td>\n      <td>0.842154</td>\n    </tr>\n    <tr>\n      <th>2</th>\n      <td>ANN (5,5)</td>\n      <td>0.830556</td>\n      <td>0.824394</td>\n      <td>0.765</td>\n      <td>0.81</td>\n      <td>0.824424</td>\n      <td>0.821660</td>\n    </tr>\n    <tr>\n      <th>3</th>\n      <td>ANN (1,4)</td>\n      <td>0.734722</td>\n      <td>0.805714</td>\n      <td>0.8275</td>\n      <td>0.9</td>\n      <td>0.821102</td>\n      <td>0.818608</td>\n    </tr>\n    <tr>\n      <th>4</th>\n      <td>ANN (2,5)</td>\n      <td>0.841667</td>\n      <td>0.839913</td>\n      <td>0.7725</td>\n      <td>0.78</td>\n      <td>0.830489</td>\n      <td>0.817385</td>\n    </tr>\n    <tr>\n      <th>5</th>\n      <td>ANN (4,5)</td>\n      <td>0.781944</td>\n      <td>0.856061</td>\n      <td>0.7825</td>\n      <td>0.83</td>\n      <td>0.834648</td>\n      <td>0.815531</td>\n    </tr>\n    <tr>\n      <th>6</th>\n      <td>Support Vector Machine</td>\n      <td>0.805556</td>\n      <td>0.823384</td>\n      <td>0.8025</td>\n      <td>0.83</td>\n      <td>0.798594</td>\n      <td>0.811383</td>\n    </tr>\n    <tr>\n      <th>7</th>\n      <td>Logistic Regression</td>\n      <td>0.816667</td>\n      <td>0.837229</td>\n      <td>0.815</td>\n      <td>0.805</td>\n      <td>0.811277</td>\n      <td>0.810981</td>\n    </tr>\n    <tr>\n      <th>8</th>\n      <td>ANN (4,3)</td>\n      <td>0.791667</td>\n      <td>0.823745</td>\n      <td>0.7925</td>\n      <td>0.83</td>\n      <td>0.810966</td>\n      <td>0.810877</td>\n    </tr>\n    <tr>\n      <th>9</th>\n      <td>ANN (3,4)</td>\n      <td>0.766667</td>\n      <td>0.844266</td>\n      <td>0.8275</td>\n      <td>0.78</td>\n      <td>0.848275</td>\n      <td>0.798314</td>\n    </tr>\n  </tbody>\n</table>\n</div>"
     },
     "execution_count": 295,
     "metadata": {},
     "output_type": "execute_result"
    }
   ],
   "source": [
    "best_whole_models"
   ],
   "metadata": {
    "collapsed": false,
    "ExecuteTime": {
     "end_time": "2024-04-15T10:11:47.615453Z",
     "start_time": "2024-04-15T10:11:47.455381Z"
    }
   },
   "id": "2620ef13d7a6e098"
  },
  {
   "cell_type": "code",
   "execution_count": 296,
   "outputs": [],
   "source": [
    "best_whole_models.to_csv(final_results_dir + 'pd_best_whole_model_results.csv', index=False)"
   ],
   "metadata": {
    "collapsed": false,
    "ExecuteTime": {
     "end_time": "2024-04-15T10:11:47.615502Z",
     "start_time": "2024-04-15T10:11:47.544153Z"
    }
   },
   "id": "f24438f71c48e857"
  },
  {
   "cell_type": "code",
   "execution_count": 329,
   "outputs": [],
   "source": [
    "w_best_model_fold_scores_path = w_folds_scores_path[5]\n",
    "lr_best_model_fold_scores_path = w_folds_scores_path[4]"
   ],
   "metadata": {
    "collapsed": false,
    "ExecuteTime": {
     "end_time": "2024-04-15T10:15:12.309012Z",
     "start_time": "2024-04-15T10:15:12.293623Z"
    }
   },
   "id": "d911f23435d8a2f4"
  },
  {
   "cell_type": "code",
   "execution_count": 330,
   "outputs": [
    {
     "data": {
      "text/plain": "'../../Results/folds/whole/pd_whole_ANN-(4,4)_fold_scores.csv'"
     },
     "execution_count": 330,
     "metadata": {},
     "output_type": "execute_result"
    }
   ],
   "source": [
    "w_best_model_fold_scores_path"
   ],
   "metadata": {
    "collapsed": false,
    "ExecuteTime": {
     "end_time": "2024-04-15T10:15:12.509949Z",
     "start_time": "2024-04-15T10:15:12.503147Z"
    }
   },
   "id": "be5a380275baffde"
  },
  {
   "cell_type": "code",
   "execution_count": 331,
   "outputs": [
    {
     "data": {
      "text/plain": "'../../Results/folds/whole/pd_whole_ANN-(3,3)_fold_scores.csv'"
     },
     "execution_count": 331,
     "metadata": {},
     "output_type": "execute_result"
    }
   ],
   "source": [
    "lr_best_model_fold_scores_path"
   ],
   "metadata": {
    "collapsed": false,
    "ExecuteTime": {
     "end_time": "2024-04-15T10:15:13.537699Z",
     "start_time": "2024-04-15T10:15:13.530533Z"
    }
   },
   "id": "70830ba4808afcea"
  },
  {
   "cell_type": "code",
   "execution_count": 306,
   "outputs": [],
   "source": [
    "w_best_model_fold_scores = pd.read_csv(w_best_model_fold_scores_path)"
   ],
   "metadata": {
    "collapsed": false,
    "ExecuteTime": {
     "end_time": "2024-04-15T10:12:05.206213Z",
     "start_time": "2024-04-15T10:12:05.193453Z"
    }
   },
   "id": "85f23f72b36acae8"
  },
  {
   "cell_type": "code",
   "execution_count": 308,
   "outputs": [
    {
     "data": {
      "text/plain": "<Figure size 640x480 with 1 Axes>",
      "image/png": "[encoded data removed]"
     },
     "metadata": {},
     "output_type": "display_data"
    }
   ],
   "source": [
    "sns.violinplot(data=w_best_model_fold_scores)\n",
    "plt.ylabel(\"Scores\")\n",
    "plt.ylim(0, 1)\n",
    "plt.show()"
   ],
   "metadata": {
    "collapsed": false,
    "ExecuteTime": {
     "end_time": "2024-04-15T10:12:41.267826Z",
     "start_time": "2024-04-15T10:12:41.101487Z"
    }
   },
   "id": "ad55c9289fe985d7"
  },
  {
   "cell_type": "code",
   "execution_count": 332,
   "outputs": [],
   "source": [
    "lr_best_model_fold_scores = pd.read_csv(lr_best_model_fold_scores_path)"
   ],
   "metadata": {
    "collapsed": false,
    "ExecuteTime": {
     "end_time": "2024-04-15T10:15:15.599451Z",
     "start_time": "2024-04-15T10:15:15.592830Z"
    }
   },
   "id": "c1870332ffc006d9"
  },
  {
   "cell_type": "code",
   "execution_count": 333,
   "outputs": [
    {
     "data": {
      "text/plain": "<Figure size 640x480 with 1 Axes>",
      "image/png": "[encoded data removed]"
     },
     "metadata": {},
     "output_type": "display_data"
    }
   ],
   "source": [
    "sns.violinplot(data=lr_best_model_fold_scores)\n",
    "plt.ylabel(\"Scores\")\n",
    "plt.ylim(0, 1)\n",
    "plt.show()"
   ],
   "metadata": {
    "collapsed": false,
    "ExecuteTime": {
     "end_time": "2024-04-15T10:15:15.982037Z",
     "start_time": "2024-04-15T10:15:15.866800Z"
    }
   },
   "id": "36c956f85789d7cb"
  },
  {
   "cell_type": "markdown",
   "source": [
    "# Windowed"
   ],
   "metadata": {
    "collapsed": false
   },
   "id": "d400c3b62af96775"
  },
  {
   "cell_type": "code",
   "execution_count": 187,
   "outputs": [],
   "source": [
    "win_results_df = pd.DataFrame(columns=['Dataset Type', 'Model'] + list(scoring_methods.keys()))"
   ],
   "metadata": {
    "collapsed": false,
    "ExecuteTime": {
     "end_time": "2024-04-14T23:31:04.409835Z",
     "start_time": "2024-04-14T23:31:03.725292Z"
    }
   },
   "id": "5379167c467637d5"
  },
  {
   "cell_type": "markdown",
   "source": [
    "## 250-250"
   ],
   "metadata": {
    "collapsed": false
   },
   "id": "e07074af41ab5371"
  },
  {
   "cell_type": "code",
   "execution_count": 188,
   "outputs": [
    {
     "data": {
      "text/plain": "'../../Results/average/pd_250-250-windows_classification_avg_results.csv'"
     },
     "execution_count": 188,
     "metadata": {},
     "output_type": "execute_result"
    }
   ],
   "source": [
    "win_250_250_avg_results_path = avg_results_paths[6]\n",
    "win_250_250_avg_results_path"
   ],
   "metadata": {
    "collapsed": false,
    "ExecuteTime": {
     "end_time": "2024-04-14T23:31:04.409897Z",
     "start_time": "2024-04-14T23:31:03.731141Z"
    }
   },
   "id": "85bbc50eeeb2f9e9"
  },
  {
   "cell_type": "code",
   "execution_count": 189,
   "outputs": [
    {
     "data": {
      "text/plain": "['../../Results/folds/250-250-windows/pd_250-250-windows_ANN-(3,4)_fold_scores.csv',\n '../../Results/folds/250-250-windows/pd_250-250-windows_ANN-(5,5)_fold_scores.csv',\n '../../Results/folds/250-250-windows/pd_250-250-windows_Support-Vector-Machine_fold_scores.csv',\n '../../Results/folds/250-250-windows/pd_250-250-windows_Random-Forest_fold_scores.csv',\n '../../Results/folds/250-250-windows/pd_250-250-windows_Logistic-Regression_fold_scores.csv']"
     },
     "execution_count": 189,
     "metadata": {},
     "output_type": "execute_result"
    }
   ],
   "source": [
    "win_250_250_fold_scores_path = get_all_fold_scores_paths('250-250-windows')\n",
    "win_250_250_fold_scores_path"
   ],
   "metadata": {
    "collapsed": false,
    "ExecuteTime": {
     "end_time": "2024-04-14T23:31:04.409973Z",
     "start_time": "2024-04-14T23:31:03.734897Z"
    }
   },
   "id": "73b274e3f285c8b7"
  },
  {
   "cell_type": "code",
   "execution_count": 190,
   "outputs": [
    {
     "data": {
      "text/plain": "                     Model  Accuracy  Precision  Sensitivity  Specificity  \\\n0      Logistic Regression  0.563770   0.573861     0.576031     0.610871   \n1   Support Vector Machine  0.485121   0.487729     0.486013     0.515575   \n2            Random Forest  0.627963   0.622603     0.628875     0.654660   \n3                ANN (1,1)  0.511653   0.517671     0.580677     0.577859   \n4                ANN (1,2)  0.612221   0.611980     0.586695     0.665603   \n5                ANN (1,3)  0.603120   0.621561     0.606375     0.522491   \n6                ANN (1,4)  0.627579   0.624635     0.623206     0.634297   \n7                ANN (1,5)  0.622377   0.609609     0.623128     0.617313   \n8                ANN (2,1)  0.517450   0.529354     0.582688     0.662733   \n9                ANN (2,2)  0.589347   0.611988     0.624426     0.659993   \n10               ANN (2,3)  0.624949   0.531112     0.631617     0.642823   \n11               ANN (2,4)  0.626619   0.621790     0.624200     0.625197   \n12               ANN (2,5)  0.622842   0.619189     0.628466     0.645826   \n13               ANN (3,1)  0.593744   0.520279     0.575412     0.555326   \n14               ANN (3,2)  0.614083   0.592009     0.625400     0.507191   \n15               ANN (3,3)  0.597894   0.616710     0.628916     0.648477   \n16               ANN (3,4)  0.625487   0.621393     0.626969     0.674403   \n17               ANN (3,5)  0.620671   0.632390     0.628089     0.658548   \n18               ANN (4,1)  0.625208   0.625743     0.632493     0.537226   \n19               ANN (4,2)  0.618834   0.624798     0.624411     0.657595   \n20               ANN (4,3)  0.625071   0.618519     0.625640     0.670038   \n21               ANN (4,4)  0.624892   0.627400     0.626001     0.659363   \n22               ANN (4,5)  0.623560   0.624367     0.634086     0.666108   \n23               ANN (5,1)  0.618399   0.626877     0.565466     0.645193   \n24               ANN (5,2)  0.618000   0.628929     0.627554     0.556530   \n25               ANN (5,3)  0.627137   0.622490     0.610458     0.664088   \n26               ANN (5,4)  0.619377   0.626266     0.631978     0.657043   \n27               ANN (5,5)  0.631016   0.619535     0.628480     0.659105   \n\n          F1  \n0   0.558262  \n1   0.477919  \n2   0.615057  \n3   0.561472  \n4   0.543501  \n5   0.612552  \n6   0.610236  \n7   0.616457  \n8   0.409961  \n9   0.550982  \n10  0.604643  \n11  0.604114  \n12  0.614780  \n13  0.524967  \n14  0.531827  \n15  0.618071  \n16  0.608013  \n17  0.625039  \n18  0.528857  \n19  0.614292  \n20  0.608374  \n21  0.620482  \n22  0.609044  \n23  0.617805  \n24  0.613540  \n25  0.610739  \n26  0.614385  \n27  0.615082  ",
      "text/html": "<div>\n<style scoped>\n    .dataframe tbody tr th:only-of-type {\n        vertical-align: middle;\n    }\n\n    .dataframe tbody tr th {\n        vertical-align: top;\n    }\n\n    .dataframe thead th {\n        text-align: right;\n    }\n</style>\n<table border=\"1\" class=\"dataframe\">\n  <thead>\n    <tr style=\"text-align: right;\">\n      <th></th>\n      <th>Model</th>\n      <th>Accuracy</th>\n      <th>Precision</th>\n      <th>Sensitivity</th>\n      <th>Specificity</th>\n      <th>F1</th>\n    </tr>\n  </thead>\n  <tbody>\n    <tr>\n      <th>0</th>\n      <td>Logistic Regression</td>\n      <td>0.563770</td>\n      <td>0.573861</td>\n      <td>0.576031</td>\n      <td>0.610871</td>\n      <td>0.558262</td>\n    </tr>\n    <tr>\n      <th>1</th>\n      <td>Support Vector Machine</td>\n      <td>0.485121</td>\n      <td>0.487729</td>\n      <td>0.486013</td>\n      <td>0.515575</td>\n      <td>0.477919</td>\n    </tr>\n    <tr>\n      <th>2</th>\n      <td>Random Forest</td>\n      <td>0.627963</td>\n      <td>0.622603</td>\n      <td>0.628875</td>\n      <td>0.654660</td>\n      <td>0.615057</td>\n    </tr>\n    <tr>\n      <th>3</th>\n      <td>ANN (1,1)</td>\n      <td>0.511653</td>\n      <td>0.517671</td>\n      <td>0.580677</td>\n      <td>0.577859</td>\n      <td>0.561472</td>\n    </tr>\n    <tr>\n      <th>4</th>\n      <td>ANN (1,2)</td>\n      <td>0.612221</td>\n      <td>0.611980</td>\n      <td>0.586695</td>\n      <td>0.665603</td>\n      <td>0.543501</td>\n    </tr>\n    <tr>\n      <th>5</th>\n      <td>ANN (1,3)</td>\n      <td>0.603120</td>\n      <td>0.621561</td>\n      <td>0.606375</td>\n      <td>0.522491</td>\n      <td>0.612552</td>\n    </tr>\n    <tr>\n      <th>6</th>\n      <td>ANN (1,4)</td>\n      <td>0.627579</td>\n      <td>0.624635</td>\n      <td>0.623206</td>\n      <td>0.634297</td>\n      <td>0.610236</td>\n    </tr>\n    <tr>\n      <th>7</th>\n      <td>ANN (1,5)</td>\n      <td>0.622377</td>\n      <td>0.609609</td>\n      <td>0.623128</td>\n      <td>0.617313</td>\n      <td>0.616457</td>\n    </tr>\n    <tr>\n      <th>8</th>\n      <td>ANN (2,1)</td>\n      <td>0.517450</td>\n      <td>0.529354</td>\n      <td>0.582688</td>\n      <td>0.662733</td>\n      <td>0.409961</td>\n    </tr>\n    <tr>\n      <th>9</th>\n      <td>ANN (2,2)</td>\n      <td>0.589347</td>\n      <td>0.611988</td>\n      <td>0.624426</td>\n      <td>0.659993</td>\n      <td>0.550982</td>\n    </tr>\n    <tr>\n      <th>10</th>\n      <td>ANN (2,3)</td>\n      <td>0.624949</td>\n      <td>0.531112</td>\n      <td>0.631617</td>\n      <td>0.642823</td>\n      <td>0.604643</td>\n    </tr>\n    <tr>\n      <th>11</th>\n      <td>ANN (2,4)</td>\n      <td>0.626619</td>\n      <td>0.621790</td>\n      <td>0.624200</td>\n      <td>0.625197</td>\n      <td>0.604114</td>\n    </tr>\n    <tr>\n      <th>12</th>\n      <td>ANN (2,5)</td>\n      <td>0.622842</td>\n      <td>0.619189</td>\n      <td>0.628466</td>\n      <td>0.645826</td>\n      <td>0.614780</td>\n    </tr>\n    <tr>\n      <th>13</th>\n      <td>ANN (3,1)</td>\n      <td>0.593744</td>\n      <td>0.520279</td>\n      <td>0.575412</td>\n      <td>0.555326</td>\n      <td>0.524967</td>\n    </tr>\n    <tr>\n      <th>14</th>\n      <td>ANN (3,2)</td>\n      <td>0.614083</td>\n      <td>0.592009</td>\n      <td>0.625400</td>\n      <td>0.507191</td>\n      <td>0.531827</td>\n    </tr>\n    <tr>\n      <th>15</th>\n      <td>ANN (3,3)</td>\n      <td>0.597894</td>\n      <td>0.616710</td>\n      <td>0.628916</td>\n      <td>0.648477</td>\n      <td>0.618071</td>\n    </tr>\n    <tr>\n      <th>16</th>\n      <td>ANN (3,4)</td>\n      <td>0.625487</td>\n      <td>0.621393</td>\n      <td>0.626969</td>\n      <td>0.674403</td>\n      <td>0.608013</td>\n    </tr>\n    <tr>\n      <th>17</th>\n      <td>ANN (3,5)</td>\n      <td>0.620671</td>\n      <td>0.632390</td>\n      <td>0.628089</td>\n      <td>0.658548</td>\n      <td>0.625039</td>\n    </tr>\n    <tr>\n      <th>18</th>\n      <td>ANN (4,1)</td>\n      <td>0.625208</td>\n      <td>0.625743</td>\n      <td>0.632493</td>\n      <td>0.537226</td>\n      <td>0.528857</td>\n    </tr>\n    <tr>\n      <th>19</th>\n      <td>ANN (4,2)</td>\n      <td>0.618834</td>\n      <td>0.624798</td>\n      <td>0.624411</td>\n      <td>0.657595</td>\n      <td>0.614292</td>\n    </tr>\n    <tr>\n      <th>20</th>\n      <td>ANN (4,3)</td>\n      <td>0.625071</td>\n      <td>0.618519</td>\n      <td>0.625640</td>\n      <td>0.670038</td>\n      <td>0.608374</td>\n    </tr>\n    <tr>\n      <th>21</th>\n      <td>ANN (4,4)</td>\n      <td>0.624892</td>\n      <td>0.627400</td>\n      <td>0.626001</td>\n      <td>0.659363</td>\n      <td>0.620482</td>\n    </tr>\n    <tr>\n      <th>22</th>\n      <td>ANN (4,5)</td>\n      <td>0.623560</td>\n      <td>0.624367</td>\n      <td>0.634086</td>\n      <td>0.666108</td>\n      <td>0.609044</td>\n    </tr>\n    <tr>\n      <th>23</th>\n      <td>ANN (5,1)</td>\n      <td>0.618399</td>\n      <td>0.626877</td>\n      <td>0.565466</td>\n      <td>0.645193</td>\n      <td>0.617805</td>\n    </tr>\n    <tr>\n      <th>24</th>\n      <td>ANN (5,2)</td>\n      <td>0.618000</td>\n      <td>0.628929</td>\n      <td>0.627554</td>\n      <td>0.556530</td>\n      <td>0.613540</td>\n    </tr>\n    <tr>\n      <th>25</th>\n      <td>ANN (5,3)</td>\n      <td>0.627137</td>\n      <td>0.622490</td>\n      <td>0.610458</td>\n      <td>0.664088</td>\n      <td>0.610739</td>\n    </tr>\n    <tr>\n      <th>26</th>\n      <td>ANN (5,4)</td>\n      <td>0.619377</td>\n      <td>0.626266</td>\n      <td>0.631978</td>\n      <td>0.657043</td>\n      <td>0.614385</td>\n    </tr>\n    <tr>\n      <th>27</th>\n      <td>ANN (5,5)</td>\n      <td>0.631016</td>\n      <td>0.619535</td>\n      <td>0.628480</td>\n      <td>0.659105</td>\n      <td>0.615082</td>\n    </tr>\n  </tbody>\n</table>\n</div>"
     },
     "execution_count": 190,
     "metadata": {},
     "output_type": "execute_result"
    }
   ],
   "source": [
    "win_250_250_avg_results = pd.read_csv(win_250_250_avg_results_path)\n",
    "win_250_250_avg_results"
   ],
   "metadata": {
    "collapsed": false,
    "ExecuteTime": {
     "end_time": "2024-04-14T23:31:04.410272Z",
     "start_time": "2024-04-14T23:31:03.739105Z"
    }
   },
   "id": "ff40440c7642cda6"
  },
  {
   "cell_type": "code",
   "execution_count": 191,
   "outputs": [
    {
     "data": {
      "text/plain": "'ANN (3,4)'"
     },
     "execution_count": 191,
     "metadata": {},
     "output_type": "execute_result"
    }
   ],
   "source": [
    "win_250_250_best_model, win_250_250_best_model_df = find_best_model(win_250_250_avg_results)\n",
    "win_250_250_best_model"
   ],
   "metadata": {
    "collapsed": false,
    "ExecuteTime": {
     "end_time": "2024-04-14T23:31:04.410339Z",
     "start_time": "2024-04-14T23:31:03.746380Z"
    }
   },
   "id": "d72a229dba955d2a"
  },
  {
   "cell_type": "code",
   "execution_count": 192,
   "outputs": [],
   "source": [
    "win_250_250_best_model_df.insert(0, 'Dataset Type', ['250-250'])\n",
    "win_results_df = pd.concat([win_results_df, win_250_250_best_model_df], ignore_index=True)"
   ],
   "metadata": {
    "collapsed": false,
    "ExecuteTime": {
     "end_time": "2024-04-14T23:31:04.410364Z",
     "start_time": "2024-04-14T23:31:03.751215Z"
    }
   },
   "id": "1ab0d9f154187a13"
  },
  {
   "cell_type": "markdown",
   "source": [
    "## 500-100"
   ],
   "metadata": {
    "collapsed": false
   },
   "id": "161270b9ef7625b7"
  },
  {
   "cell_type": "code",
   "execution_count": 193,
   "outputs": [
    {
     "data": {
      "text/plain": "'../../Results/average/pd_500-100-windows_classification_avg_results.csv'"
     },
     "execution_count": 193,
     "metadata": {},
     "output_type": "execute_result"
    }
   ],
   "source": [
    "win_500_100_avg_results_path = avg_results_paths[1]\n",
    "win_500_100_avg_results_path"
   ],
   "metadata": {
    "collapsed": false,
    "ExecuteTime": {
     "end_time": "2024-04-14T23:31:04.410426Z",
     "start_time": "2024-04-14T23:31:03.755618Z"
    }
   },
   "id": "7822339bfcecbaa4"
  },
  {
   "cell_type": "code",
   "execution_count": 194,
   "outputs": [
    {
     "data": {
      "text/plain": "['../../Results/folds/500-100-windows/pd_500-100-windows_Support-Vector-Machine_fold_scores.csv',\n '../../Results/folds/500-100-windows/pd_500-100-windows_ANN-(2,3)_fold_scores.csv',\n '../../Results/folds/500-100-windows/pd_500-100-windows_Random-Forest_fold_scores.csv',\n '../../Results/folds/500-100-windows/pd_500-100-windows_Logistic-Regression_fold_scores.csv']"
     },
     "execution_count": 194,
     "metadata": {},
     "output_type": "execute_result"
    }
   ],
   "source": [
    "win_500_100_fold_scores_path = get_all_fold_scores_paths('500-100-windows')\n",
    "win_500_100_fold_scores_path"
   ],
   "metadata": {
    "collapsed": false,
    "ExecuteTime": {
     "end_time": "2024-04-14T23:31:04.410501Z",
     "start_time": "2024-04-14T23:31:03.759051Z"
    }
   },
   "id": "f210252fb2c4ea08"
  },
  {
   "cell_type": "code",
   "execution_count": 195,
   "outputs": [
    {
     "data": {
      "text/plain": "                     Model  Accuracy  Precision  Sensitivity  Specificity  \\\n0      Logistic Regression  0.485945   0.554890     0.564613     0.647022   \n1   Support Vector Machine  0.486893   0.509351     0.515993     0.562533   \n2            Random Forest  0.576990   0.588986     0.630823     0.674912   \n3                ANN (1,1)  0.456881   0.392432     0.542371     0.630516   \n4                ANN (1,2)  0.457939   0.520101     0.579293     0.652428   \n5                ANN (1,3)  0.493147   0.587007     0.607389     0.598205   \n6                ANN (1,4)  0.579870   0.591279     0.607353     0.618901   \n7                ANN (1,5)  0.566348   0.586590     0.633397     0.668324   \n8                ANN (2,1)  0.567462   0.357718     0.613542     0.428692   \n9                ANN (2,2)  0.557490   0.579660     0.636783     0.605073   \n10               ANN (2,3)  0.574192   0.576460     0.626834     0.672846   \n11               ANN (2,4)  0.528563   0.582545     0.636539     0.635322   \n12               ANN (2,5)  0.569079   0.575925     0.628815     0.649446   \n13               ANN (3,1)  0.558542   0.466823     0.631501     0.677381   \n14               ANN (3,2)  0.555074   0.576945     0.620756     0.658344   \n15               ANN (3,3)  0.550548   0.572358     0.622286     0.609703   \n16               ANN (3,4)  0.536597   0.577873     0.611546     0.635352   \n17               ANN (3,5)  0.543529   0.581122     0.610420     0.614781   \n18               ANN (4,1)  0.553774   0.582359     0.628792     0.599001   \n19               ANN (4,2)  0.558439   0.575171     0.609698     0.643394   \n20               ANN (4,3)  0.560035   0.570321     0.627579     0.639021   \n21               ANN (4,4)  0.542624   0.575446     0.609622     0.634478   \n22               ANN (4,5)  0.549082   0.578691     0.625669     0.647672   \n23               ANN (5,1)  0.569778   0.572557     0.622589     0.649868   \n24               ANN (5,2)  0.561018   0.582569     0.640878     0.645974   \n25               ANN (5,3)  0.534512   0.578954     0.617571     0.645069   \n26               ANN (5,4)  0.543805   0.581871     0.616396     0.622765   \n27               ANN (5,5)  0.541818   0.568566     0.614934     0.645921   \n\n          F1  \n0   0.463527  \n1   0.451472  \n2   0.539942  \n3   0.536572  \n4   0.496776  \n5   0.537574  \n6   0.524653  \n7   0.534362  \n8   0.470511  \n9   0.520198  \n10  0.526562  \n11  0.514789  \n12  0.517657  \n13  0.486526  \n14  0.522638  \n15  0.518990  \n16  0.514131  \n17  0.529701  \n18  0.400488  \n19  0.512922  \n20  0.526811  \n21  0.508047  \n22  0.504679  \n23  0.513008  \n24  0.517294  \n25  0.523938  \n26  0.517489  \n27  0.520896  ",
      "text/html": "<div>\n<style scoped>\n    .dataframe tbody tr th:only-of-type {\n        vertical-align: middle;\n    }\n\n    .dataframe tbody tr th {\n        vertical-align: top;\n    }\n\n    .dataframe thead th {\n        text-align: right;\n    }\n</style>\n<table border=\"1\" class=\"dataframe\">\n  <thead>\n    <tr style=\"text-align: right;\">\n      <th></th>\n      <th>Model</th>\n      <th>Accuracy</th>\n      <th>Precision</th>\n      <th>Sensitivity</th>\n      <th>Specificity</th>\n      <th>F1</th>\n    </tr>\n  </thead>\n  <tbody>\n    <tr>\n      <th>0</th>\n      <td>Logistic Regression</td>\n      <td>0.485945</td>\n      <td>0.554890</td>\n      <td>0.564613</td>\n      <td>0.647022</td>\n      <td>0.463527</td>\n    </tr>\n    <tr>\n      <th>1</th>\n      <td>Support Vector Machine</td>\n      <td>0.486893</td>\n      <td>0.509351</td>\n      <td>0.515993</td>\n      <td>0.562533</td>\n      <td>0.451472</td>\n    </tr>\n    <tr>\n      <th>2</th>\n      <td>Random Forest</td>\n      <td>0.576990</td>\n      <td>0.588986</td>\n      <td>0.630823</td>\n      <td>0.674912</td>\n      <td>0.539942</td>\n    </tr>\n    <tr>\n      <th>3</th>\n      <td>ANN (1,1)</td>\n      <td>0.456881</td>\n      <td>0.392432</td>\n      <td>0.542371</td>\n      <td>0.630516</td>\n      <td>0.536572</td>\n    </tr>\n    <tr>\n      <th>4</th>\n      <td>ANN (1,2)</td>\n      <td>0.457939</td>\n      <td>0.520101</td>\n      <td>0.579293</td>\n      <td>0.652428</td>\n      <td>0.496776</td>\n    </tr>\n    <tr>\n      <th>5</th>\n      <td>ANN (1,3)</td>\n      <td>0.493147</td>\n      <td>0.587007</td>\n      <td>0.607389</td>\n      <td>0.598205</td>\n      <td>0.537574</td>\n    </tr>\n    <tr>\n      <th>6</th>\n      <td>ANN (1,4)</td>\n      <td>0.579870</td>\n      <td>0.591279</td>\n      <td>0.607353</td>\n      <td>0.618901</td>\n      <td>0.524653</td>\n    </tr>\n    <tr>\n      <th>7</th>\n      <td>ANN (1,5)</td>\n      <td>0.566348</td>\n      <td>0.586590</td>\n      <td>0.633397</td>\n      <td>0.668324</td>\n      <td>0.534362</td>\n    </tr>\n    <tr>\n      <th>8</th>\n      <td>ANN (2,1)</td>\n      <td>0.567462</td>\n      <td>0.357718</td>\n      <td>0.613542</td>\n      <td>0.428692</td>\n      <td>0.470511</td>\n    </tr>\n    <tr>\n      <th>9</th>\n      <td>ANN (2,2)</td>\n      <td>0.557490</td>\n      <td>0.579660</td>\n      <td>0.636783</td>\n      <td>0.605073</td>\n      <td>0.520198</td>\n    </tr>\n    <tr>\n      <th>10</th>\n      <td>ANN (2,3)</td>\n      <td>0.574192</td>\n      <td>0.576460</td>\n      <td>0.626834</td>\n      <td>0.672846</td>\n      <td>0.526562</td>\n    </tr>\n    <tr>\n      <th>11</th>\n      <td>ANN (2,4)</td>\n      <td>0.528563</td>\n      <td>0.582545</td>\n      <td>0.636539</td>\n      <td>0.635322</td>\n      <td>0.514789</td>\n    </tr>\n    <tr>\n      <th>12</th>\n      <td>ANN (2,5)</td>\n      <td>0.569079</td>\n      <td>0.575925</td>\n      <td>0.628815</td>\n      <td>0.649446</td>\n      <td>0.517657</td>\n    </tr>\n    <tr>\n      <th>13</th>\n      <td>ANN (3,1)</td>\n      <td>0.558542</td>\n      <td>0.466823</td>\n      <td>0.631501</td>\n      <td>0.677381</td>\n      <td>0.486526</td>\n    </tr>\n    <tr>\n      <th>14</th>\n      <td>ANN (3,2)</td>\n      <td>0.555074</td>\n      <td>0.576945</td>\n      <td>0.620756</td>\n      <td>0.658344</td>\n      <td>0.522638</td>\n    </tr>\n    <tr>\n      <th>15</th>\n      <td>ANN (3,3)</td>\n      <td>0.550548</td>\n      <td>0.572358</td>\n      <td>0.622286</td>\n      <td>0.609703</td>\n      <td>0.518990</td>\n    </tr>\n    <tr>\n      <th>16</th>\n      <td>ANN (3,4)</td>\n      <td>0.536597</td>\n      <td>0.577873</td>\n      <td>0.611546</td>\n      <td>0.635352</td>\n      <td>0.514131</td>\n    </tr>\n    <tr>\n      <th>17</th>\n      <td>ANN (3,5)</td>\n      <td>0.543529</td>\n      <td>0.581122</td>\n      <td>0.610420</td>\n      <td>0.614781</td>\n      <td>0.529701</td>\n    </tr>\n    <tr>\n      <th>18</th>\n      <td>ANN (4,1)</td>\n      <td>0.553774</td>\n      <td>0.582359</td>\n      <td>0.628792</td>\n      <td>0.599001</td>\n      <td>0.400488</td>\n    </tr>\n    <tr>\n      <th>19</th>\n      <td>ANN (4,2)</td>\n      <td>0.558439</td>\n      <td>0.575171</td>\n      <td>0.609698</td>\n      <td>0.643394</td>\n      <td>0.512922</td>\n    </tr>\n    <tr>\n      <th>20</th>\n      <td>ANN (4,3)</td>\n      <td>0.560035</td>\n      <td>0.570321</td>\n      <td>0.627579</td>\n      <td>0.639021</td>\n      <td>0.526811</td>\n    </tr>\n    <tr>\n      <th>21</th>\n      <td>ANN (4,4)</td>\n      <td>0.542624</td>\n      <td>0.575446</td>\n      <td>0.609622</td>\n      <td>0.634478</td>\n      <td>0.508047</td>\n    </tr>\n    <tr>\n      <th>22</th>\n      <td>ANN (4,5)</td>\n      <td>0.549082</td>\n      <td>0.578691</td>\n      <td>0.625669</td>\n      <td>0.647672</td>\n      <td>0.504679</td>\n    </tr>\n    <tr>\n      <th>23</th>\n      <td>ANN (5,1)</td>\n      <td>0.569778</td>\n      <td>0.572557</td>\n      <td>0.622589</td>\n      <td>0.649868</td>\n      <td>0.513008</td>\n    </tr>\n    <tr>\n      <th>24</th>\n      <td>ANN (5,2)</td>\n      <td>0.561018</td>\n      <td>0.582569</td>\n      <td>0.640878</td>\n      <td>0.645974</td>\n      <td>0.517294</td>\n    </tr>\n    <tr>\n      <th>25</th>\n      <td>ANN (5,3)</td>\n      <td>0.534512</td>\n      <td>0.578954</td>\n      <td>0.617571</td>\n      <td>0.645069</td>\n      <td>0.523938</td>\n    </tr>\n    <tr>\n      <th>26</th>\n      <td>ANN (5,4)</td>\n      <td>0.543805</td>\n      <td>0.581871</td>\n      <td>0.616396</td>\n      <td>0.622765</td>\n      <td>0.517489</td>\n    </tr>\n    <tr>\n      <th>27</th>\n      <td>ANN (5,5)</td>\n      <td>0.541818</td>\n      <td>0.568566</td>\n      <td>0.614934</td>\n      <td>0.645921</td>\n      <td>0.520896</td>\n    </tr>\n  </tbody>\n</table>\n</div>"
     },
     "execution_count": 195,
     "metadata": {},
     "output_type": "execute_result"
    }
   ],
   "source": [
    "win_500_100_avg_results = pd.read_csv(win_500_100_avg_results_path)\n",
    "win_500_100_avg_results"
   ],
   "metadata": {
    "collapsed": false,
    "ExecuteTime": {
     "end_time": "2024-04-14T23:31:04.410796Z",
     "start_time": "2024-04-14T23:31:03.778664Z"
    }
   },
   "id": "d4a3807c77b0065d"
  },
  {
   "cell_type": "code",
   "execution_count": 196,
   "outputs": [
    {
     "data": {
      "text/plain": "'Random Forest'"
     },
     "execution_count": 196,
     "metadata": {},
     "output_type": "execute_result"
    }
   ],
   "source": [
    "win_500_100_best_model, win_500_100_best_model_df = find_best_model(win_500_100_avg_results)\n",
    "win_500_100_best_model"
   ],
   "metadata": {
    "collapsed": false,
    "ExecuteTime": {
     "end_time": "2024-04-14T23:31:04.410848Z",
     "start_time": "2024-04-14T23:31:03.788978Z"
    }
   },
   "id": "11b1b8a4c6d8c151"
  },
  {
   "cell_type": "code",
   "execution_count": 197,
   "outputs": [],
   "source": [
    "win_500_100_best_model_df.insert(0, 'Dataset Type', ['500-100'])\n",
    "win_results_df = pd.concat([win_results_df, win_500_100_best_model_df], ignore_index=True)"
   ],
   "metadata": {
    "collapsed": false,
    "ExecuteTime": {
     "end_time": "2024-04-14T23:31:04.410878Z",
     "start_time": "2024-04-14T23:31:03.794208Z"
    }
   },
   "id": "9b43fbf15c0760cf"
  },
  {
   "cell_type": "markdown",
   "source": [
    "## 500-250"
   ],
   "metadata": {
    "collapsed": false
   },
   "id": "5b02189f1ef06171"
  },
  {
   "cell_type": "code",
   "execution_count": 198,
   "outputs": [
    {
     "data": {
      "text/plain": "'../../Results/average/pd_500-250-windows_classification_avg_results.csv'"
     },
     "execution_count": 198,
     "metadata": {},
     "output_type": "execute_result"
    }
   ],
   "source": [
    "win_500_250_avg_results_path = avg_results_paths[2]\n",
    "win_500_250_avg_results_path"
   ],
   "metadata": {
    "collapsed": false,
    "ExecuteTime": {
     "end_time": "2024-04-14T23:31:04.410934Z",
     "start_time": "2024-04-14T23:31:03.797566Z"
    }
   },
   "id": "2f6f786dfd5b0e1"
  },
  {
   "cell_type": "code",
   "execution_count": 199,
   "outputs": [
    {
     "data": {
      "text/plain": "['../../Results/folds/500-250-windows/pd_500-250-windows_Support-Vector-Machine_fold_scores.csv',\n '../../Results/folds/500-250-windows/pd_500-250-windows_ANN-(3,4)_fold_scores.csv',\n '../../Results/folds/500-250-windows/pd_500-250-windows_Logistic-Regression_fold_scores.csv',\n '../../Results/folds/500-250-windows/pd_500-250-windows_Random-Forest_fold_scores.csv']"
     },
     "execution_count": 199,
     "metadata": {},
     "output_type": "execute_result"
    }
   ],
   "source": [
    "win_500_250_fold_scores_path = get_all_fold_scores_paths('500-250-windows')\n",
    "win_500_250_fold_scores_path"
   ],
   "metadata": {
    "collapsed": false,
    "ExecuteTime": {
     "end_time": "2024-04-14T23:31:04.410994Z",
     "start_time": "2024-04-14T23:31:03.801024Z"
    }
   },
   "id": "ada983ce17d1e412"
  },
  {
   "cell_type": "code",
   "execution_count": 200,
   "outputs": [
    {
     "data": {
      "text/plain": "                     Model  Accuracy  Precision  Sensitivity  Specificity  \\\n0      Logistic Regression  0.591956   0.591073     0.593114     0.655722   \n1   Support Vector Machine  0.524118   0.523044     0.523771     0.530186   \n2            Random Forest  0.635135   0.634610     0.636217     0.657041   \n3                ANN (1,1)  0.468579   0.547255     0.586083     0.575427   \n4                ANN (1,2)  0.622979   0.626737     0.569337     0.665690   \n5                ANN (1,3)  0.621083   0.627038     0.626048     0.654944   \n6                ANN (1,4)  0.625271   0.621534     0.627757     0.648627   \n7                ANN (1,5)  0.623284   0.626143     0.629098     0.648260   \n8                ANN (2,1)  0.552191   0.520516     0.586136     0.729984   \n9                ANN (2,2)  0.614818   0.615726     0.619215     0.638373   \n10               ANN (2,3)  0.618419   0.606149     0.627242     0.638536   \n11               ANN (2,4)  0.624085   0.629055     0.618624     0.651966   \n12               ANN (2,5)  0.621662   0.624633     0.612666     0.663904   \n13               ANN (3,1)  0.609113   0.624341     0.547896     0.717826   \n14               ANN (3,2)  0.612653   0.620184     0.627556     0.503638   \n15               ANN (3,3)  0.612424   0.617141     0.612888     0.666356   \n16               ANN (3,4)  0.630370   0.617307     0.626836     0.634131   \n17               ANN (3,5)  0.618680   0.622028     0.615731     0.630256   \n18               ANN (4,1)  0.618474   0.617932     0.602553     0.818591   \n19               ANN (4,2)  0.578900   0.614008     0.617020     0.657396   \n20               ANN (4,3)  0.613684   0.613623     0.620267     0.751833   \n21               ANN (4,4)  0.611147   0.615388     0.613849     0.660138   \n22               ANN (4,5)  0.608492   0.615961     0.619693     0.654213   \n23               ANN (5,1)  0.567365   0.625779     0.623351     0.658312   \n24               ANN (5,2)  0.601106   0.623785     0.618674     0.613056   \n25               ANN (5,3)  0.614735   0.610756     0.623446     0.656951   \n26               ANN (5,4)  0.618824   0.616469     0.619806     0.630549   \n27               ANN (5,5)  0.617850   0.617053     0.622354     0.647254   \n\n          F1  \n0   0.579956  \n1   0.516120  \n2   0.621688  \n3   0.477286  \n4   0.556309  \n5   0.608975  \n6   0.606597  \n7   0.544828  \n8   0.605983  \n9   0.541395  \n10  0.602691  \n11  0.611767  \n12  0.605217  \n13  0.547213  \n14  0.528987  \n15  0.605090  \n16  0.606417  \n17  0.605499  \n18  0.478447  \n19  0.604835  \n20  0.605331  \n21  0.602492  \n22  0.601024  \n23  0.609106  \n24  0.601750  \n25  0.597638  \n26  0.603809  \n27  0.604265  ",
      "text/html": "<div>\n<style scoped>\n    .dataframe tbody tr th:only-of-type {\n        vertical-align: middle;\n    }\n\n    .dataframe tbody tr th {\n        vertical-align: top;\n    }\n\n    .dataframe thead th {\n        text-align: right;\n    }\n</style>\n<table border=\"1\" class=\"dataframe\">\n  <thead>\n    <tr style=\"text-align: right;\">\n      <th></th>\n      <th>Model</th>\n      <th>Accuracy</th>\n      <th>Precision</th>\n      <th>Sensitivity</th>\n      <th>Specificity</th>\n      <th>F1</th>\n    </tr>\n  </thead>\n  <tbody>\n    <tr>\n      <th>0</th>\n      <td>Logistic Regression</td>\n      <td>0.591956</td>\n      <td>0.591073</td>\n      <td>0.593114</td>\n      <td>0.655722</td>\n      <td>0.579956</td>\n    </tr>\n    <tr>\n      <th>1</th>\n      <td>Support Vector Machine</td>\n      <td>0.524118</td>\n      <td>0.523044</td>\n      <td>0.523771</td>\n      <td>0.530186</td>\n      <td>0.516120</td>\n    </tr>\n    <tr>\n      <th>2</th>\n      <td>Random Forest</td>\n      <td>0.635135</td>\n      <td>0.634610</td>\n      <td>0.636217</td>\n      <td>0.657041</td>\n      <td>0.621688</td>\n    </tr>\n    <tr>\n      <th>3</th>\n      <td>ANN (1,1)</td>\n      <td>0.468579</td>\n      <td>0.547255</td>\n      <td>0.586083</td>\n      <td>0.575427</td>\n      <td>0.477286</td>\n    </tr>\n    <tr>\n      <th>4</th>\n      <td>ANN (1,2)</td>\n      <td>0.622979</td>\n      <td>0.626737</td>\n      <td>0.569337</td>\n      <td>0.665690</td>\n      <td>0.556309</td>\n    </tr>\n    <tr>\n      <th>5</th>\n      <td>ANN (1,3)</td>\n      <td>0.621083</td>\n      <td>0.627038</td>\n      <td>0.626048</td>\n      <td>0.654944</td>\n      <td>0.608975</td>\n    </tr>\n    <tr>\n      <th>6</th>\n      <td>ANN (1,4)</td>\n      <td>0.625271</td>\n      <td>0.621534</td>\n      <td>0.627757</td>\n      <td>0.648627</td>\n      <td>0.606597</td>\n    </tr>\n    <tr>\n      <th>7</th>\n      <td>ANN (1,5)</td>\n      <td>0.623284</td>\n      <td>0.626143</td>\n      <td>0.629098</td>\n      <td>0.648260</td>\n      <td>0.544828</td>\n    </tr>\n    <tr>\n      <th>8</th>\n      <td>ANN (2,1)</td>\n      <td>0.552191</td>\n      <td>0.520516</td>\n      <td>0.586136</td>\n      <td>0.729984</td>\n      <td>0.605983</td>\n    </tr>\n    <tr>\n      <th>9</th>\n      <td>ANN (2,2)</td>\n      <td>0.614818</td>\n      <td>0.615726</td>\n      <td>0.619215</td>\n      <td>0.638373</td>\n      <td>0.541395</td>\n    </tr>\n    <tr>\n      <th>10</th>\n      <td>ANN (2,3)</td>\n      <td>0.618419</td>\n      <td>0.606149</td>\n      <td>0.627242</td>\n      <td>0.638536</td>\n      <td>0.602691</td>\n    </tr>\n    <tr>\n      <th>11</th>\n      <td>ANN (2,4)</td>\n      <td>0.624085</td>\n      <td>0.629055</td>\n      <td>0.618624</td>\n      <td>0.651966</td>\n      <td>0.611767</td>\n    </tr>\n    <tr>\n      <th>12</th>\n      <td>ANN (2,5)</td>\n      <td>0.621662</td>\n      <td>0.624633</td>\n      <td>0.612666</td>\n      <td>0.663904</td>\n      <td>0.605217</td>\n    </tr>\n    <tr>\n      <th>13</th>\n      <td>ANN (3,1)</td>\n      <td>0.609113</td>\n      <td>0.624341</td>\n      <td>0.547896</td>\n      <td>0.717826</td>\n      <td>0.547213</td>\n    </tr>\n    <tr>\n      <th>14</th>\n      <td>ANN (3,2)</td>\n      <td>0.612653</td>\n      <td>0.620184</td>\n      <td>0.627556</td>\n      <td>0.503638</td>\n      <td>0.528987</td>\n    </tr>\n    <tr>\n      <th>15</th>\n      <td>ANN (3,3)</td>\n      <td>0.612424</td>\n      <td>0.617141</td>\n      <td>0.612888</td>\n      <td>0.666356</td>\n      <td>0.605090</td>\n    </tr>\n    <tr>\n      <th>16</th>\n      <td>ANN (3,4)</td>\n      <td>0.630370</td>\n      <td>0.617307</td>\n      <td>0.626836</td>\n      <td>0.634131</td>\n      <td>0.606417</td>\n    </tr>\n    <tr>\n      <th>17</th>\n      <td>ANN (3,5)</td>\n      <td>0.618680</td>\n      <td>0.622028</td>\n      <td>0.615731</td>\n      <td>0.630256</td>\n      <td>0.605499</td>\n    </tr>\n    <tr>\n      <th>18</th>\n      <td>ANN (4,1)</td>\n      <td>0.618474</td>\n      <td>0.617932</td>\n      <td>0.602553</td>\n      <td>0.818591</td>\n      <td>0.478447</td>\n    </tr>\n    <tr>\n      <th>19</th>\n      <td>ANN (4,2)</td>\n      <td>0.578900</td>\n      <td>0.614008</td>\n      <td>0.617020</td>\n      <td>0.657396</td>\n      <td>0.604835</td>\n    </tr>\n    <tr>\n      <th>20</th>\n      <td>ANN (4,3)</td>\n      <td>0.613684</td>\n      <td>0.613623</td>\n      <td>0.620267</td>\n      <td>0.751833</td>\n      <td>0.605331</td>\n    </tr>\n    <tr>\n      <th>21</th>\n      <td>ANN (4,4)</td>\n      <td>0.611147</td>\n      <td>0.615388</td>\n      <td>0.613849</td>\n      <td>0.660138</td>\n      <td>0.602492</td>\n    </tr>\n    <tr>\n      <th>22</th>\n      <td>ANN (4,5)</td>\n      <td>0.608492</td>\n      <td>0.615961</td>\n      <td>0.619693</td>\n      <td>0.654213</td>\n      <td>0.601024</td>\n    </tr>\n    <tr>\n      <th>23</th>\n      <td>ANN (5,1)</td>\n      <td>0.567365</td>\n      <td>0.625779</td>\n      <td>0.623351</td>\n      <td>0.658312</td>\n      <td>0.609106</td>\n    </tr>\n    <tr>\n      <th>24</th>\n      <td>ANN (5,2)</td>\n      <td>0.601106</td>\n      <td>0.623785</td>\n      <td>0.618674</td>\n      <td>0.613056</td>\n      <td>0.601750</td>\n    </tr>\n    <tr>\n      <th>25</th>\n      <td>ANN (5,3)</td>\n      <td>0.614735</td>\n      <td>0.610756</td>\n      <td>0.623446</td>\n      <td>0.656951</td>\n      <td>0.597638</td>\n    </tr>\n    <tr>\n      <th>26</th>\n      <td>ANN (5,4)</td>\n      <td>0.618824</td>\n      <td>0.616469</td>\n      <td>0.619806</td>\n      <td>0.630549</td>\n      <td>0.603809</td>\n    </tr>\n    <tr>\n      <th>27</th>\n      <td>ANN (5,5)</td>\n      <td>0.617850</td>\n      <td>0.617053</td>\n      <td>0.622354</td>\n      <td>0.647254</td>\n      <td>0.604265</td>\n    </tr>\n  </tbody>\n</table>\n</div>"
     },
     "execution_count": 200,
     "metadata": {},
     "output_type": "execute_result"
    }
   ],
   "source": [
    "win_500_250_avg_results = pd.read_csv(win_500_250_avg_results_path)\n",
    "win_500_250_avg_results"
   ],
   "metadata": {
    "collapsed": false,
    "ExecuteTime": {
     "end_time": "2024-04-14T23:31:04.411255Z",
     "start_time": "2024-04-14T23:31:03.805772Z"
    }
   },
   "id": "f51da2700080f223"
  },
  {
   "cell_type": "code",
   "execution_count": 201,
   "outputs": [
    {
     "data": {
      "text/plain": "'ANN (4,3)'"
     },
     "execution_count": 201,
     "metadata": {},
     "output_type": "execute_result"
    }
   ],
   "source": [
    "win_500_250_best_model, win_500_250_best_model_df = find_best_model(win_500_250_avg_results)\n",
    "win_500_250_best_model\n"
   ],
   "metadata": {
    "collapsed": false,
    "ExecuteTime": {
     "end_time": "2024-04-14T23:31:04.411344Z",
     "start_time": "2024-04-14T23:31:03.817758Z"
    }
   },
   "id": "4af46c5191251b66"
  },
  {
   "cell_type": "code",
   "execution_count": 202,
   "outputs": [],
   "source": [
    "\n",
    "win_500_250_best_model_df.insert(0, 'Dataset Type', ['500-250'])\n",
    "win_results_df = pd.concat([win_results_df, win_500_250_best_model_df], ignore_index=True)"
   ],
   "metadata": {
    "collapsed": false,
    "ExecuteTime": {
     "end_time": "2024-04-14T23:31:04.411371Z",
     "start_time": "2024-04-14T23:31:03.822450Z"
    }
   },
   "id": "6ab0611b9937213f"
  },
  {
   "cell_type": "markdown",
   "source": [
    "## 500-500"
   ],
   "metadata": {
    "collapsed": false
   },
   "id": "4b020afc88aaba14"
  },
  {
   "cell_type": "code",
   "execution_count": 203,
   "outputs": [
    {
     "data": {
      "text/plain": "'../../Results/average/pd_500-500-windows_classification_avg_results.csv'"
     },
     "execution_count": 203,
     "metadata": {},
     "output_type": "execute_result"
    }
   ],
   "source": [
    "win_500_500_avg_results_path = avg_results_paths[5]\n",
    "win_500_500_avg_results_path"
   ],
   "metadata": {
    "collapsed": false,
    "ExecuteTime": {
     "end_time": "2024-04-14T23:31:04.411434Z",
     "start_time": "2024-04-14T23:31:03.825749Z"
    }
   },
   "id": "d0529a88b433fc88"
  },
  {
   "cell_type": "code",
   "execution_count": 204,
   "outputs": [
    {
     "data": {
      "text/plain": "['../../Results/folds/500-500-windows/pd_500-500-windows_Logistic-Regression_fold_scores.csv',\n '../../Results/folds/500-500-windows/pd_500-500-windows_Random-Forest_fold_scores.csv',\n '../../Results/folds/500-500-windows/pd_500-500-windows_Support-Vector-Machine_fold_scores.csv',\n '../../Results/folds/500-500-windows/pd_500-500-windows_ANN-(5,3)_fold_scores.csv']"
     },
     "execution_count": 204,
     "metadata": {},
     "output_type": "execute_result"
    }
   ],
   "source": [
    "win_500_500_fold_scores_path = get_all_fold_scores_paths('500-500-windows')\n",
    "win_500_500_fold_scores_path"
   ],
   "metadata": {
    "collapsed": false,
    "ExecuteTime": {
     "end_time": "2024-04-14T23:31:04.411525Z",
     "start_time": "2024-04-14T23:31:03.829694Z"
    }
   },
   "id": "b3bb72dadb3b1db5"
  },
  {
   "cell_type": "code",
   "execution_count": 205,
   "outputs": [
    {
     "data": {
      "text/plain": "                     Model  Accuracy  Precision  Sensitivity  Specificity  \\\n0      Logistic Regression  0.586415   0.587102     0.590931     0.660437   \n1   Support Vector Machine  0.531744   0.529047     0.530349     0.558706   \n2            Random Forest  0.621665   0.618839     0.629904     0.673891   \n3                ANN (1,1)  0.604425   0.580103     0.573823     0.403475   \n4                ANN (1,2)  0.614158   0.595825     0.568275     0.649318   \n5                ANN (1,3)  0.597527   0.596123     0.592430     0.640327   \n6                ANN (1,4)  0.575980   0.567277     0.601264     0.640898   \n7                ANN (1,5)  0.583739   0.604381     0.610641     0.663958   \n8                ANN (2,1)  0.562810   0.587865     0.593776     0.621707   \n9                ANN (2,2)  0.575879   0.588561     0.602452     0.628094   \n10               ANN (2,3)  0.598224   0.599488     0.597727     0.615788   \n11               ANN (2,4)  0.599409   0.605371     0.593991     0.651752   \n12               ANN (2,5)  0.596237   0.598434     0.605082     0.618995   \n13               ANN (3,1)  0.605045   0.590680     0.601048     0.633101   \n14               ANN (3,2)  0.601678   0.585859     0.594910     0.634247   \n15               ANN (3,3)  0.603718   0.583091     0.600326     0.639425   \n16               ANN (3,4)  0.589088   0.585747     0.597978     0.647202   \n17               ANN (3,5)  0.600839   0.582514     0.606070     0.662892   \n18               ANN (4,1)  0.606253   0.599729     0.583134     0.660884   \n19               ANN (4,2)  0.601799   0.593636     0.604123     0.650376   \n20               ANN (4,3)  0.597892   0.593948     0.593932     0.646750   \n21               ANN (4,4)  0.605670   0.594763     0.607392     0.649564   \n22               ANN (4,5)  0.605258   0.602875     0.604680     0.647920   \n23               ANN (5,1)  0.607828   0.599434     0.608024     0.660478   \n24               ANN (5,2)  0.601347   0.587094     0.604935     0.658498   \n25               ANN (5,3)  0.616595   0.601078     0.603741     0.661633   \n26               ANN (5,4)  0.601543   0.608938     0.596651     0.663079   \n27               ANN (5,5)  0.606407   0.596672     0.610153     0.644207   \n\n          F1  \n0   0.572348  \n1   0.519374  \n2   0.613008  \n3   0.466942  \n4   0.532822  \n5   0.556956  \n6   0.585394  \n7   0.584699  \n8   0.534846  \n9   0.583749  \n10  0.592302  \n11  0.593159  \n12  0.574607  \n13  0.598431  \n14  0.584927  \n15  0.590499  \n16  0.583452  \n17  0.582557  \n18  0.596380  \n19  0.595590  \n20  0.582256  \n21  0.589604  \n22  0.587974  \n23  0.595276  \n24  0.575877  \n25  0.599788  \n26  0.600199  \n27  0.603652  ",
      "text/html": "<div>\n<style scoped>\n    .dataframe tbody tr th:only-of-type {\n        vertical-align: middle;\n    }\n\n    .dataframe tbody tr th {\n        vertical-align: top;\n    }\n\n    .dataframe thead th {\n        text-align: right;\n    }\n</style>\n<table border=\"1\" class=\"dataframe\">\n  <thead>\n    <tr style=\"text-align: right;\">\n      <th></th>\n      <th>Model</th>\n      <th>Accuracy</th>\n      <th>Precision</th>\n      <th>Sensitivity</th>\n      <th>Specificity</th>\n      <th>F1</th>\n    </tr>\n  </thead>\n  <tbody>\n    <tr>\n      <th>0</th>\n      <td>Logistic Regression</td>\n      <td>0.586415</td>\n      <td>0.587102</td>\n      <td>0.590931</td>\n      <td>0.660437</td>\n      <td>0.572348</td>\n    </tr>\n    <tr>\n      <th>1</th>\n      <td>Support Vector Machine</td>\n      <td>0.531744</td>\n      <td>0.529047</td>\n      <td>0.530349</td>\n      <td>0.558706</td>\n      <td>0.519374</td>\n    </tr>\n    <tr>\n      <th>2</th>\n      <td>Random Forest</td>\n      <td>0.621665</td>\n      <td>0.618839</td>\n      <td>0.629904</td>\n      <td>0.673891</td>\n      <td>0.613008</td>\n    </tr>\n    <tr>\n      <th>3</th>\n      <td>ANN (1,1)</td>\n      <td>0.604425</td>\n      <td>0.580103</td>\n      <td>0.573823</td>\n      <td>0.403475</td>\n      <td>0.466942</td>\n    </tr>\n    <tr>\n      <th>4</th>\n      <td>ANN (1,2)</td>\n      <td>0.614158</td>\n      <td>0.595825</td>\n      <td>0.568275</td>\n      <td>0.649318</td>\n      <td>0.532822</td>\n    </tr>\n    <tr>\n      <th>5</th>\n      <td>ANN (1,3)</td>\n      <td>0.597527</td>\n      <td>0.596123</td>\n      <td>0.592430</td>\n      <td>0.640327</td>\n      <td>0.556956</td>\n    </tr>\n    <tr>\n      <th>6</th>\n      <td>ANN (1,4)</td>\n      <td>0.575980</td>\n      <td>0.567277</td>\n      <td>0.601264</td>\n      <td>0.640898</td>\n      <td>0.585394</td>\n    </tr>\n    <tr>\n      <th>7</th>\n      <td>ANN (1,5)</td>\n      <td>0.583739</td>\n      <td>0.604381</td>\n      <td>0.610641</td>\n      <td>0.663958</td>\n      <td>0.584699</td>\n    </tr>\n    <tr>\n      <th>8</th>\n      <td>ANN (2,1)</td>\n      <td>0.562810</td>\n      <td>0.587865</td>\n      <td>0.593776</td>\n      <td>0.621707</td>\n      <td>0.534846</td>\n    </tr>\n    <tr>\n      <th>9</th>\n      <td>ANN (2,2)</td>\n      <td>0.575879</td>\n      <td>0.588561</td>\n      <td>0.602452</td>\n      <td>0.628094</td>\n      <td>0.583749</td>\n    </tr>\n    <tr>\n      <th>10</th>\n      <td>ANN (2,3)</td>\n      <td>0.598224</td>\n      <td>0.599488</td>\n      <td>0.597727</td>\n      <td>0.615788</td>\n      <td>0.592302</td>\n    </tr>\n    <tr>\n      <th>11</th>\n      <td>ANN (2,4)</td>\n      <td>0.599409</td>\n      <td>0.605371</td>\n      <td>0.593991</td>\n      <td>0.651752</td>\n      <td>0.593159</td>\n    </tr>\n    <tr>\n      <th>12</th>\n      <td>ANN (2,5)</td>\n      <td>0.596237</td>\n      <td>0.598434</td>\n      <td>0.605082</td>\n      <td>0.618995</td>\n      <td>0.574607</td>\n    </tr>\n    <tr>\n      <th>13</th>\n      <td>ANN (3,1)</td>\n      <td>0.605045</td>\n      <td>0.590680</td>\n      <td>0.601048</td>\n      <td>0.633101</td>\n      <td>0.598431</td>\n    </tr>\n    <tr>\n      <th>14</th>\n      <td>ANN (3,2)</td>\n      <td>0.601678</td>\n      <td>0.585859</td>\n      <td>0.594910</td>\n      <td>0.634247</td>\n      <td>0.584927</td>\n    </tr>\n    <tr>\n      <th>15</th>\n      <td>ANN (3,3)</td>\n      <td>0.603718</td>\n      <td>0.583091</td>\n      <td>0.600326</td>\n      <td>0.639425</td>\n      <td>0.590499</td>\n    </tr>\n    <tr>\n      <th>16</th>\n      <td>ANN (3,4)</td>\n      <td>0.589088</td>\n      <td>0.585747</td>\n      <td>0.597978</td>\n      <td>0.647202</td>\n      <td>0.583452</td>\n    </tr>\n    <tr>\n      <th>17</th>\n      <td>ANN (3,5)</td>\n      <td>0.600839</td>\n      <td>0.582514</td>\n      <td>0.606070</td>\n      <td>0.662892</td>\n      <td>0.582557</td>\n    </tr>\n    <tr>\n      <th>18</th>\n      <td>ANN (4,1)</td>\n      <td>0.606253</td>\n      <td>0.599729</td>\n      <td>0.583134</td>\n      <td>0.660884</td>\n      <td>0.596380</td>\n    </tr>\n    <tr>\n      <th>19</th>\n      <td>ANN (4,2)</td>\n      <td>0.601799</td>\n      <td>0.593636</td>\n      <td>0.604123</td>\n      <td>0.650376</td>\n      <td>0.595590</td>\n    </tr>\n    <tr>\n      <th>20</th>\n      <td>ANN (4,3)</td>\n      <td>0.597892</td>\n      <td>0.593948</td>\n      <td>0.593932</td>\n      <td>0.646750</td>\n      <td>0.582256</td>\n    </tr>\n    <tr>\n      <th>21</th>\n      <td>ANN (4,4)</td>\n      <td>0.605670</td>\n      <td>0.594763</td>\n      <td>0.607392</td>\n      <td>0.649564</td>\n      <td>0.589604</td>\n    </tr>\n    <tr>\n      <th>22</th>\n      <td>ANN (4,5)</td>\n      <td>0.605258</td>\n      <td>0.602875</td>\n      <td>0.604680</td>\n      <td>0.647920</td>\n      <td>0.587974</td>\n    </tr>\n    <tr>\n      <th>23</th>\n      <td>ANN (5,1)</td>\n      <td>0.607828</td>\n      <td>0.599434</td>\n      <td>0.608024</td>\n      <td>0.660478</td>\n      <td>0.595276</td>\n    </tr>\n    <tr>\n      <th>24</th>\n      <td>ANN (5,2)</td>\n      <td>0.601347</td>\n      <td>0.587094</td>\n      <td>0.604935</td>\n      <td>0.658498</td>\n      <td>0.575877</td>\n    </tr>\n    <tr>\n      <th>25</th>\n      <td>ANN (5,3)</td>\n      <td>0.616595</td>\n      <td>0.601078</td>\n      <td>0.603741</td>\n      <td>0.661633</td>\n      <td>0.599788</td>\n    </tr>\n    <tr>\n      <th>26</th>\n      <td>ANN (5,4)</td>\n      <td>0.601543</td>\n      <td>0.608938</td>\n      <td>0.596651</td>\n      <td>0.663079</td>\n      <td>0.600199</td>\n    </tr>\n    <tr>\n      <th>27</th>\n      <td>ANN (5,5)</td>\n      <td>0.606407</td>\n      <td>0.596672</td>\n      <td>0.610153</td>\n      <td>0.644207</td>\n      <td>0.603652</td>\n    </tr>\n  </tbody>\n</table>\n</div>"
     },
     "execution_count": 205,
     "metadata": {},
     "output_type": "execute_result"
    }
   ],
   "source": [
    "win_500_500_avg_results = pd.read_csv(win_500_500_avg_results_path)\n",
    "win_500_500_avg_results"
   ],
   "metadata": {
    "collapsed": false,
    "ExecuteTime": {
     "end_time": "2024-04-14T23:31:04.411801Z",
     "start_time": "2024-04-14T23:31:03.834551Z"
    }
   },
   "id": "f02cb14e8256bc03"
  },
  {
   "cell_type": "code",
   "execution_count": 206,
   "outputs": [
    {
     "data": {
      "text/plain": "'Random Forest'"
     },
     "execution_count": 206,
     "metadata": {},
     "output_type": "execute_result"
    }
   ],
   "source": [
    "win_500_500_best_model, win_500_500_best_model_df = find_best_model(win_500_500_avg_results)\n",
    "win_500_500_best_model\n"
   ],
   "metadata": {
    "collapsed": false,
    "ExecuteTime": {
     "end_time": "2024-04-14T23:31:04.411888Z",
     "start_time": "2024-04-14T23:31:03.841293Z"
    }
   },
   "id": "c6968427b674fba6"
  },
  {
   "cell_type": "code",
   "execution_count": 207,
   "outputs": [],
   "source": [
    "\n",
    "win_500_500_best_model_df.insert(0, 'Dataset Type', ['500-500'])\n",
    "win_results_df = pd.concat([win_results_df, win_500_500_best_model_df], ignore_index=True)"
   ],
   "metadata": {
    "collapsed": false,
    "ExecuteTime": {
     "end_time": "2024-04-14T23:31:04.411925Z",
     "start_time": "2024-04-14T23:31:03.846182Z"
    }
   },
   "id": "cb9309f974a35f71"
  },
  {
   "cell_type": "markdown",
   "source": [
    "## 1000-250"
   ],
   "metadata": {
    "collapsed": false
   },
   "id": "51393e4f78633286"
  },
  {
   "cell_type": "code",
   "execution_count": 208,
   "outputs": [
    {
     "data": {
      "text/plain": "'../../Results/average/pd_1000-250-windows_classification_avg_results.csv'"
     },
     "execution_count": 208,
     "metadata": {},
     "output_type": "execute_result"
    }
   ],
   "source": [
    "win_1000_250_avg_results_path = avg_results_paths[7]\n",
    "win_1000_250_avg_results_path"
   ],
   "metadata": {
    "collapsed": false,
    "ExecuteTime": {
     "end_time": "2024-04-14T23:31:04.412019Z",
     "start_time": "2024-04-14T23:31:03.848307Z"
    }
   },
   "id": "c24f93cf56bcf14d"
  },
  {
   "cell_type": "code",
   "execution_count": 209,
   "outputs": [
    {
     "data": {
      "text/plain": "['../../Results/folds/1000-250-windows/pd_1000-250-windows_ANN-(2,2)_fold_scores.csv',\n '../../Results/folds/1000-250-windows/pd_1000-250-windows_Random-Forest_fold_scores.csv',\n '../../Results/folds/1000-250-windows/pd_1000-250-windows_Support-Vector-Machine_fold_scores.csv',\n '../../Results/folds/1000-250-windows/pd_1000-250-windows_Logistic-Regression_fold_scores.csv']"
     },
     "execution_count": 209,
     "metadata": {},
     "output_type": "execute_result"
    }
   ],
   "source": [
    "win_1000_250_fold_scores_path = get_all_fold_scores_paths('1000-250-windows')\n",
    "win_1000_250_fold_scores_path"
   ],
   "metadata": {
    "collapsed": false,
    "ExecuteTime": {
     "end_time": "2024-04-14T23:31:04.412087Z",
     "start_time": "2024-04-14T23:31:03.850123Z"
    }
   },
   "id": "dfa6e8873d26ad7"
  },
  {
   "cell_type": "code",
   "execution_count": 210,
   "outputs": [
    {
     "data": {
      "text/plain": "                     Model  Accuracy  Precision  Sensitivity  Specificity  \\\n0      Logistic Regression  0.629069   0.617107     0.620932     0.679495   \n1   Support Vector Machine  0.561621   0.551701     0.553748     0.588069   \n2            Random Forest  0.644371   0.636418     0.637031     0.692407   \n3                ANN (1,1)  0.566624   0.523400     0.620287     0.797304   \n4                ANN (1,2)  0.557299   0.606556     0.568778     0.649517   \n5                ANN (1,3)  0.608516   0.613784     0.624464     0.657232   \n6                ANN (1,4)  0.616809   0.600870     0.607105     0.666815   \n7                ANN (1,5)  0.620102   0.606288     0.608448     0.663051   \n8                ANN (2,1)  0.622843   0.535253     0.606015     0.726209   \n9                ANN (2,2)  0.643204   0.610680     0.624737     0.680645   \n10               ANN (2,3)  0.628009   0.604808     0.619488     0.659163   \n11               ANN (2,4)  0.627380   0.612042     0.624164     0.653499   \n12               ANN (2,5)  0.613098   0.616076     0.615160     0.650925   \n13               ANN (3,1)  0.627735   0.617338     0.613754     0.646593   \n14               ANN (3,2)  0.623288   0.620679     0.626253     0.664692   \n15               ANN (3,3)  0.636540   0.621281     0.618354     0.649661   \n16               ANN (3,4)  0.617792   0.620282     0.621734     0.658182   \n17               ANN (3,5)  0.626759   0.611152     0.618600     0.658855   \n18               ANN (4,1)  0.585828   0.622300     0.616468     0.674276   \n19               ANN (4,2)  0.629353   0.621801     0.637683     0.675532   \n20               ANN (4,3)  0.620295   0.614194     0.609660     0.668407   \n21               ANN (4,4)  0.624180   0.614564     0.637449     0.645313   \n22               ANN (4,5)  0.630146   0.619476     0.615897     0.653432   \n23               ANN (5,1)  0.618931   0.540283     0.624313     0.658599   \n24               ANN (5,2)  0.629731   0.616981     0.626246     0.660959   \n25               ANN (5,3)  0.625385   0.621042     0.621406     0.666378   \n26               ANN (5,4)  0.622127   0.619640     0.615361     0.656279   \n27               ANN (5,5)  0.622461   0.624531     0.622617     0.664992   \n\n          F1  \n0   0.614352  \n1   0.548251  \n2   0.631268  \n3   0.547214  \n4   0.538894  \n5   0.591889  \n6   0.607680  \n7   0.599565  \n8   0.608445  \n9   0.611619  \n10  0.609357  \n11  0.606097  \n12  0.623771  \n13  0.616298  \n14  0.615818  \n15  0.602182  \n16  0.609573  \n17  0.621101  \n18  0.616312  \n19  0.608830  \n20  0.619440  \n21  0.609436  \n22  0.622148  \n23  0.557334  \n24  0.624638  \n25  0.613334  \n26  0.610103  \n27  0.601285  ",
      "text/html": "<div>\n<style scoped>\n    .dataframe tbody tr th:only-of-type {\n        vertical-align: middle;\n    }\n\n    .dataframe tbody tr th {\n        vertical-align: top;\n    }\n\n    .dataframe thead th {\n        text-align: right;\n    }\n</style>\n<table border=\"1\" class=\"dataframe\">\n  <thead>\n    <tr style=\"text-align: right;\">\n      <th></th>\n      <th>Model</th>\n      <th>Accuracy</th>\n      <th>Precision</th>\n      <th>Sensitivity</th>\n      <th>Specificity</th>\n      <th>F1</th>\n    </tr>\n  </thead>\n  <tbody>\n    <tr>\n      <th>0</th>\n      <td>Logistic Regression</td>\n      <td>0.629069</td>\n      <td>0.617107</td>\n      <td>0.620932</td>\n      <td>0.679495</td>\n      <td>0.614352</td>\n    </tr>\n    <tr>\n      <th>1</th>\n      <td>Support Vector Machine</td>\n      <td>0.561621</td>\n      <td>0.551701</td>\n      <td>0.553748</td>\n      <td>0.588069</td>\n      <td>0.548251</td>\n    </tr>\n    <tr>\n      <th>2</th>\n      <td>Random Forest</td>\n      <td>0.644371</td>\n      <td>0.636418</td>\n      <td>0.637031</td>\n      <td>0.692407</td>\n      <td>0.631268</td>\n    </tr>\n    <tr>\n      <th>3</th>\n      <td>ANN (1,1)</td>\n      <td>0.566624</td>\n      <td>0.523400</td>\n      <td>0.620287</td>\n      <td>0.797304</td>\n      <td>0.547214</td>\n    </tr>\n    <tr>\n      <th>4</th>\n      <td>ANN (1,2)</td>\n      <td>0.557299</td>\n      <td>0.606556</td>\n      <td>0.568778</td>\n      <td>0.649517</td>\n      <td>0.538894</td>\n    </tr>\n    <tr>\n      <th>5</th>\n      <td>ANN (1,3)</td>\n      <td>0.608516</td>\n      <td>0.613784</td>\n      <td>0.624464</td>\n      <td>0.657232</td>\n      <td>0.591889</td>\n    </tr>\n    <tr>\n      <th>6</th>\n      <td>ANN (1,4)</td>\n      <td>0.616809</td>\n      <td>0.600870</td>\n      <td>0.607105</td>\n      <td>0.666815</td>\n      <td>0.607680</td>\n    </tr>\n    <tr>\n      <th>7</th>\n      <td>ANN (1,5)</td>\n      <td>0.620102</td>\n      <td>0.606288</td>\n      <td>0.608448</td>\n      <td>0.663051</td>\n      <td>0.599565</td>\n    </tr>\n    <tr>\n      <th>8</th>\n      <td>ANN (2,1)</td>\n      <td>0.622843</td>\n      <td>0.535253</td>\n      <td>0.606015</td>\n      <td>0.726209</td>\n      <td>0.608445</td>\n    </tr>\n    <tr>\n      <th>9</th>\n      <td>ANN (2,2)</td>\n      <td>0.643204</td>\n      <td>0.610680</td>\n      <td>0.624737</td>\n      <td>0.680645</td>\n      <td>0.611619</td>\n    </tr>\n    <tr>\n      <th>10</th>\n      <td>ANN (2,3)</td>\n      <td>0.628009</td>\n      <td>0.604808</td>\n      <td>0.619488</td>\n      <td>0.659163</td>\n      <td>0.609357</td>\n    </tr>\n    <tr>\n      <th>11</th>\n      <td>ANN (2,4)</td>\n      <td>0.627380</td>\n      <td>0.612042</td>\n      <td>0.624164</td>\n      <td>0.653499</td>\n      <td>0.606097</td>\n    </tr>\n    <tr>\n      <th>12</th>\n      <td>ANN (2,5)</td>\n      <td>0.613098</td>\n      <td>0.616076</td>\n      <td>0.615160</td>\n      <td>0.650925</td>\n      <td>0.623771</td>\n    </tr>\n    <tr>\n      <th>13</th>\n      <td>ANN (3,1)</td>\n      <td>0.627735</td>\n      <td>0.617338</td>\n      <td>0.613754</td>\n      <td>0.646593</td>\n      <td>0.616298</td>\n    </tr>\n    <tr>\n      <th>14</th>\n      <td>ANN (3,2)</td>\n      <td>0.623288</td>\n      <td>0.620679</td>\n      <td>0.626253</td>\n      <td>0.664692</td>\n      <td>0.615818</td>\n    </tr>\n    <tr>\n      <th>15</th>\n      <td>ANN (3,3)</td>\n      <td>0.636540</td>\n      <td>0.621281</td>\n      <td>0.618354</td>\n      <td>0.649661</td>\n      <td>0.602182</td>\n    </tr>\n    <tr>\n      <th>16</th>\n      <td>ANN (3,4)</td>\n      <td>0.617792</td>\n      <td>0.620282</td>\n      <td>0.621734</td>\n      <td>0.658182</td>\n      <td>0.609573</td>\n    </tr>\n    <tr>\n      <th>17</th>\n      <td>ANN (3,5)</td>\n      <td>0.626759</td>\n      <td>0.611152</td>\n      <td>0.618600</td>\n      <td>0.658855</td>\n      <td>0.621101</td>\n    </tr>\n    <tr>\n      <th>18</th>\n      <td>ANN (4,1)</td>\n      <td>0.585828</td>\n      <td>0.622300</td>\n      <td>0.616468</td>\n      <td>0.674276</td>\n      <td>0.616312</td>\n    </tr>\n    <tr>\n      <th>19</th>\n      <td>ANN (4,2)</td>\n      <td>0.629353</td>\n      <td>0.621801</td>\n      <td>0.637683</td>\n      <td>0.675532</td>\n      <td>0.608830</td>\n    </tr>\n    <tr>\n      <th>20</th>\n      <td>ANN (4,3)</td>\n      <td>0.620295</td>\n      <td>0.614194</td>\n      <td>0.609660</td>\n      <td>0.668407</td>\n      <td>0.619440</td>\n    </tr>\n    <tr>\n      <th>21</th>\n      <td>ANN (4,4)</td>\n      <td>0.624180</td>\n      <td>0.614564</td>\n      <td>0.637449</td>\n      <td>0.645313</td>\n      <td>0.609436</td>\n    </tr>\n    <tr>\n      <th>22</th>\n      <td>ANN (4,5)</td>\n      <td>0.630146</td>\n      <td>0.619476</td>\n      <td>0.615897</td>\n      <td>0.653432</td>\n      <td>0.622148</td>\n    </tr>\n    <tr>\n      <th>23</th>\n      <td>ANN (5,1)</td>\n      <td>0.618931</td>\n      <td>0.540283</td>\n      <td>0.624313</td>\n      <td>0.658599</td>\n      <td>0.557334</td>\n    </tr>\n    <tr>\n      <th>24</th>\n      <td>ANN (5,2)</td>\n      <td>0.629731</td>\n      <td>0.616981</td>\n      <td>0.626246</td>\n      <td>0.660959</td>\n      <td>0.624638</td>\n    </tr>\n    <tr>\n      <th>25</th>\n      <td>ANN (5,3)</td>\n      <td>0.625385</td>\n      <td>0.621042</td>\n      <td>0.621406</td>\n      <td>0.666378</td>\n      <td>0.613334</td>\n    </tr>\n    <tr>\n      <th>26</th>\n      <td>ANN (5,4)</td>\n      <td>0.622127</td>\n      <td>0.619640</td>\n      <td>0.615361</td>\n      <td>0.656279</td>\n      <td>0.610103</td>\n    </tr>\n    <tr>\n      <th>27</th>\n      <td>ANN (5,5)</td>\n      <td>0.622461</td>\n      <td>0.624531</td>\n      <td>0.622617</td>\n      <td>0.664992</td>\n      <td>0.601285</td>\n    </tr>\n  </tbody>\n</table>\n</div>"
     },
     "execution_count": 210,
     "metadata": {},
     "output_type": "execute_result"
    }
   ],
   "source": [
    "win_1000_250_avg_results = pd.read_csv(win_1000_250_avg_results_path)\n",
    "win_1000_250_avg_results"
   ],
   "metadata": {
    "collapsed": false,
    "ExecuteTime": {
     "end_time": "2024-04-14T23:31:04.412771Z",
     "start_time": "2024-04-14T23:31:03.856805Z"
    }
   },
   "id": "d4db0ee629010444"
  },
  {
   "cell_type": "code",
   "execution_count": 211,
   "outputs": [
    {
     "data": {
      "text/plain": "'Random Forest'"
     },
     "execution_count": 211,
     "metadata": {},
     "output_type": "execute_result"
    }
   ],
   "source": [
    "win_1000_250_best_model, win_1000_250_best_model_df = find_best_model(win_1000_250_avg_results)\n",
    "win_1000_250_best_model\n"
   ],
   "metadata": {
    "collapsed": false,
    "ExecuteTime": {
     "end_time": "2024-04-14T23:31:04.412956Z",
     "start_time": "2024-04-14T23:31:03.862893Z"
    }
   },
   "id": "ebd65a28939dda50"
  },
  {
   "cell_type": "code",
   "execution_count": 212,
   "outputs": [],
   "source": [
    "\n",
    "win_1000_250_best_model_df.insert(0, 'Dataset Type', ['1000-250'])\n",
    "win_results_df = pd.concat([win_results_df, win_1000_250_best_model_df], ignore_index=True)"
   ],
   "metadata": {
    "collapsed": false,
    "ExecuteTime": {
     "end_time": "2024-04-14T23:31:04.413011Z",
     "start_time": "2024-04-14T23:31:03.865394Z"
    }
   },
   "id": "c6e129a42f48a54e"
  },
  {
   "cell_type": "markdown",
   "source": [
    "## 1000-1000"
   ],
   "metadata": {
    "collapsed": false
   },
   "id": "432570a7128fe8fe"
  },
  {
   "cell_type": "code",
   "execution_count": 213,
   "outputs": [
    {
     "data": {
      "text/plain": "'../../Results/average/pd_1000-1000-windows_classification_avg_results.csv'"
     },
     "execution_count": 213,
     "metadata": {},
     "output_type": "execute_result"
    }
   ],
   "source": [
    "win_1000_1000_avg_results_path = avg_results_paths[0]\n",
    "win_1000_1000_avg_results_path"
   ],
   "metadata": {
    "collapsed": false,
    "ExecuteTime": {
     "end_time": "2024-04-14T23:31:04.413109Z",
     "start_time": "2024-04-14T23:31:03.867337Z"
    }
   },
   "id": "f7c31f49bad7845c"
  },
  {
   "cell_type": "code",
   "execution_count": 214,
   "outputs": [
    {
     "data": {
      "text/plain": "['../../Results/folds/1000-1000-windows/pd_1000-1000-windows_Random-Forest_fold_scores.csv',\n '../../Results/folds/1000-1000-windows/pd_1000-1000-windows_Logistic-Regression_fold_scores.csv',\n '../../Results/folds/1000-1000-windows/pd_1000-1000-windows_ANN-(5,5)_fold_scores.csv',\n '../../Results/folds/1000-1000-windows/pd_1000-1000-windows_Support-Vector-Machine_fold_scores.csv',\n '../../Results/folds/1000-1000-windows/pd_1000-1000-windows_ANN-(2,1)_fold_scores.csv']"
     },
     "execution_count": 214,
     "metadata": {},
     "output_type": "execute_result"
    }
   ],
   "source": [
    "win_1000_1000_fold_scores_path = get_all_fold_scores_paths('1000-1000-windows')\n",
    "win_1000_1000_fold_scores_path"
   ],
   "metadata": {
    "collapsed": false,
    "ExecuteTime": {
     "end_time": "2024-04-14T23:31:04.413189Z",
     "start_time": "2024-04-14T23:31:03.869100Z"
    }
   },
   "id": "492a3aa86ce6a448"
  },
  {
   "cell_type": "code",
   "execution_count": 215,
   "outputs": [
    {
     "data": {
      "text/plain": "                     Model  Accuracy  Precision  Sensitivity  Specificity  \\\n0      Logistic Regression  0.615917   0.615285     0.620948     0.678595   \n1   Support Vector Machine  0.554861   0.548465     0.551349     0.582545   \n2            Random Forest  0.644430   0.637103     0.645687     0.687829   \n3                ANN (1,1)  0.593678   0.614715     0.584144     0.747500   \n4                ANN (1,2)  0.620685   0.612174     0.565505     0.659635   \n5                ANN (1,3)  0.604435   0.617938     0.632596     0.658258   \n6                ANN (1,4)  0.615358   0.626882     0.623616     0.672196   \n7                ANN (1,5)  0.612984   0.611947     0.620316     0.653444   \n8                ANN (2,1)  0.631013   0.534949     0.652445     0.768070   \n9                ANN (2,2)  0.620751   0.625620     0.598143     0.669868   \n10               ANN (2,3)  0.618389   0.619181     0.626110     0.638601   \n11               ANN (2,4)  0.623920   0.619864     0.621449     0.658153   \n12               ANN (2,5)  0.613429   0.628155     0.624355     0.664968   \n13               ANN (3,1)  0.641408   0.606638     0.631136     0.655393   \n14               ANN (3,2)  0.605604   0.606071     0.615055     0.641306   \n15               ANN (3,3)  0.630377   0.606402     0.633275     0.666541   \n16               ANN (3,4)  0.612444   0.612388     0.625783     0.633982   \n17               ANN (3,5)  0.621967   0.623652     0.627109     0.660466   \n18               ANN (4,1)  0.620813   0.509633     0.618802     0.655007   \n19               ANN (4,2)  0.631525   0.617279     0.629449     0.656082   \n20               ANN (4,3)  0.628658   0.610646     0.616523     0.647516   \n21               ANN (4,4)  0.624148   0.631722     0.621210     0.653248   \n22               ANN (4,5)  0.624452   0.621175     0.613832     0.646344   \n23               ANN (5,1)  0.636653   0.616833     0.627566     0.649687   \n24               ANN (5,2)  0.631034   0.615484     0.631390     0.648284   \n25               ANN (5,3)  0.621176   0.628417     0.630787     0.663508   \n26               ANN (5,4)  0.630372   0.618857     0.631893     0.649897   \n27               ANN (5,5)  0.624889   0.607060     0.628268     0.662665   \n\n          F1  \n0   0.602702  \n1   0.540478  \n2   0.632876  \n3   0.481777  \n4   0.551622  \n5   0.614458  \n6   0.605667  \n7   0.603158  \n8   0.608689  \n9   0.606178  \n10  0.607774  \n11  0.617984  \n12  0.602610  \n13  0.531938  \n14  0.595485  \n15  0.605994  \n16  0.604004  \n17  0.600991  \n18  0.605740  \n19  0.622831  \n20  0.607139  \n21  0.599771  \n22  0.609978  \n23  0.581366  \n24  0.609561  \n25  0.614958  \n26  0.594162  \n27  0.603401  ",
      "text/html": "<div>\n<style scoped>\n    .dataframe tbody tr th:only-of-type {\n        vertical-align: middle;\n    }\n\n    .dataframe tbody tr th {\n        vertical-align: top;\n    }\n\n    .dataframe thead th {\n        text-align: right;\n    }\n</style>\n<table border=\"1\" class=\"dataframe\">\n  <thead>\n    <tr style=\"text-align: right;\">\n      <th></th>\n      <th>Model</th>\n      <th>Accuracy</th>\n      <th>Precision</th>\n      <th>Sensitivity</th>\n      <th>Specificity</th>\n      <th>F1</th>\n    </tr>\n  </thead>\n  <tbody>\n    <tr>\n      <th>0</th>\n      <td>Logistic Regression</td>\n      <td>0.615917</td>\n      <td>0.615285</td>\n      <td>0.620948</td>\n      <td>0.678595</td>\n      <td>0.602702</td>\n    </tr>\n    <tr>\n      <th>1</th>\n      <td>Support Vector Machine</td>\n      <td>0.554861</td>\n      <td>0.548465</td>\n      <td>0.551349</td>\n      <td>0.582545</td>\n      <td>0.540478</td>\n    </tr>\n    <tr>\n      <th>2</th>\n      <td>Random Forest</td>\n      <td>0.644430</td>\n      <td>0.637103</td>\n      <td>0.645687</td>\n      <td>0.687829</td>\n      <td>0.632876</td>\n    </tr>\n    <tr>\n      <th>3</th>\n      <td>ANN (1,1)</td>\n      <td>0.593678</td>\n      <td>0.614715</td>\n      <td>0.584144</td>\n      <td>0.747500</td>\n      <td>0.481777</td>\n    </tr>\n    <tr>\n      <th>4</th>\n      <td>ANN (1,2)</td>\n      <td>0.620685</td>\n      <td>0.612174</td>\n      <td>0.565505</td>\n      <td>0.659635</td>\n      <td>0.551622</td>\n    </tr>\n    <tr>\n      <th>5</th>\n      <td>ANN (1,3)</td>\n      <td>0.604435</td>\n      <td>0.617938</td>\n      <td>0.632596</td>\n      <td>0.658258</td>\n      <td>0.614458</td>\n    </tr>\n    <tr>\n      <th>6</th>\n      <td>ANN (1,4)</td>\n      <td>0.615358</td>\n      <td>0.626882</td>\n      <td>0.623616</td>\n      <td>0.672196</td>\n      <td>0.605667</td>\n    </tr>\n    <tr>\n      <th>7</th>\n      <td>ANN (1,5)</td>\n      <td>0.612984</td>\n      <td>0.611947</td>\n      <td>0.620316</td>\n      <td>0.653444</td>\n      <td>0.603158</td>\n    </tr>\n    <tr>\n      <th>8</th>\n      <td>ANN (2,1)</td>\n      <td>0.631013</td>\n      <td>0.534949</td>\n      <td>0.652445</td>\n      <td>0.768070</td>\n      <td>0.608689</td>\n    </tr>\n    <tr>\n      <th>9</th>\n      <td>ANN (2,2)</td>\n      <td>0.620751</td>\n      <td>0.625620</td>\n      <td>0.598143</td>\n      <td>0.669868</td>\n      <td>0.606178</td>\n    </tr>\n    <tr>\n      <th>10</th>\n      <td>ANN (2,3)</td>\n      <td>0.618389</td>\n      <td>0.619181</td>\n      <td>0.626110</td>\n      <td>0.638601</td>\n      <td>0.607774</td>\n    </tr>\n    <tr>\n      <th>11</th>\n      <td>ANN (2,4)</td>\n      <td>0.623920</td>\n      <td>0.619864</td>\n      <td>0.621449</td>\n      <td>0.658153</td>\n      <td>0.617984</td>\n    </tr>\n    <tr>\n      <th>12</th>\n      <td>ANN (2,5)</td>\n      <td>0.613429</td>\n      <td>0.628155</td>\n      <td>0.624355</td>\n      <td>0.664968</td>\n      <td>0.602610</td>\n    </tr>\n    <tr>\n      <th>13</th>\n      <td>ANN (3,1)</td>\n      <td>0.641408</td>\n      <td>0.606638</td>\n      <td>0.631136</td>\n      <td>0.655393</td>\n      <td>0.531938</td>\n    </tr>\n    <tr>\n      <th>14</th>\n      <td>ANN (3,2)</td>\n      <td>0.605604</td>\n      <td>0.606071</td>\n      <td>0.615055</td>\n      <td>0.641306</td>\n      <td>0.595485</td>\n    </tr>\n    <tr>\n      <th>15</th>\n      <td>ANN (3,3)</td>\n      <td>0.630377</td>\n      <td>0.606402</td>\n      <td>0.633275</td>\n      <td>0.666541</td>\n      <td>0.605994</td>\n    </tr>\n    <tr>\n      <th>16</th>\n      <td>ANN (3,4)</td>\n      <td>0.612444</td>\n      <td>0.612388</td>\n      <td>0.625783</td>\n      <td>0.633982</td>\n      <td>0.604004</td>\n    </tr>\n    <tr>\n      <th>17</th>\n      <td>ANN (3,5)</td>\n      <td>0.621967</td>\n      <td>0.623652</td>\n      <td>0.627109</td>\n      <td>0.660466</td>\n      <td>0.600991</td>\n    </tr>\n    <tr>\n      <th>18</th>\n      <td>ANN (4,1)</td>\n      <td>0.620813</td>\n      <td>0.509633</td>\n      <td>0.618802</td>\n      <td>0.655007</td>\n      <td>0.605740</td>\n    </tr>\n    <tr>\n      <th>19</th>\n      <td>ANN (4,2)</td>\n      <td>0.631525</td>\n      <td>0.617279</td>\n      <td>0.629449</td>\n      <td>0.656082</td>\n      <td>0.622831</td>\n    </tr>\n    <tr>\n      <th>20</th>\n      <td>ANN (4,3)</td>\n      <td>0.628658</td>\n      <td>0.610646</td>\n      <td>0.616523</td>\n      <td>0.647516</td>\n      <td>0.607139</td>\n    </tr>\n    <tr>\n      <th>21</th>\n      <td>ANN (4,4)</td>\n      <td>0.624148</td>\n      <td>0.631722</td>\n      <td>0.621210</td>\n      <td>0.653248</td>\n      <td>0.599771</td>\n    </tr>\n    <tr>\n      <th>22</th>\n      <td>ANN (4,5)</td>\n      <td>0.624452</td>\n      <td>0.621175</td>\n      <td>0.613832</td>\n      <td>0.646344</td>\n      <td>0.609978</td>\n    </tr>\n    <tr>\n      <th>23</th>\n      <td>ANN (5,1)</td>\n      <td>0.636653</td>\n      <td>0.616833</td>\n      <td>0.627566</td>\n      <td>0.649687</td>\n      <td>0.581366</td>\n    </tr>\n    <tr>\n      <th>24</th>\n      <td>ANN (5,2)</td>\n      <td>0.631034</td>\n      <td>0.615484</td>\n      <td>0.631390</td>\n      <td>0.648284</td>\n      <td>0.609561</td>\n    </tr>\n    <tr>\n      <th>25</th>\n      <td>ANN (5,3)</td>\n      <td>0.621176</td>\n      <td>0.628417</td>\n      <td>0.630787</td>\n      <td>0.663508</td>\n      <td>0.614958</td>\n    </tr>\n    <tr>\n      <th>26</th>\n      <td>ANN (5,4)</td>\n      <td>0.630372</td>\n      <td>0.618857</td>\n      <td>0.631893</td>\n      <td>0.649897</td>\n      <td>0.594162</td>\n    </tr>\n    <tr>\n      <th>27</th>\n      <td>ANN (5,5)</td>\n      <td>0.624889</td>\n      <td>0.607060</td>\n      <td>0.628268</td>\n      <td>0.662665</td>\n      <td>0.603401</td>\n    </tr>\n  </tbody>\n</table>\n</div>"
     },
     "execution_count": 215,
     "metadata": {},
     "output_type": "execute_result"
    }
   ],
   "source": [
    "win_1000_1000_avg_results = pd.read_csv(win_1000_1000_avg_results_path)\n",
    "win_1000_1000_avg_results"
   ],
   "metadata": {
    "collapsed": false,
    "ExecuteTime": {
     "end_time": "2024-04-14T23:31:04.413552Z",
     "start_time": "2024-04-14T23:31:03.871333Z"
    }
   },
   "id": "a4cda19205df45c2"
  },
  {
   "cell_type": "code",
   "execution_count": 216,
   "outputs": [
    {
     "data": {
      "text/plain": "'ANN (2,1)'"
     },
     "execution_count": 216,
     "metadata": {},
     "output_type": "execute_result"
    }
   ],
   "source": [
    "win_1000_1000_best_model, win_1000_1000_best_model_df = find_best_model(win_1000_1000_avg_results)\n",
    "win_1000_1000_best_model"
   ],
   "metadata": {
    "collapsed": false,
    "ExecuteTime": {
     "end_time": "2024-04-14T23:31:04.413639Z",
     "start_time": "2024-04-14T23:31:03.877399Z"
    }
   },
   "id": "7f414ea805de7aef"
  },
  {
   "cell_type": "code",
   "execution_count": 217,
   "outputs": [],
   "source": [
    "\n",
    "win_1000_1000_best_model_df.insert(0, 'Dataset Type', ['1000-1000'])\n",
    "win_results_df = pd.concat([win_results_df, win_1000_1000_best_model_df], ignore_index=True)"
   ],
   "metadata": {
    "collapsed": false,
    "ExecuteTime": {
     "end_time": "2024-04-14T23:31:04.413669Z",
     "start_time": "2024-04-14T23:31:03.879911Z"
    }
   },
   "id": "54fd93bfe6fe8a23"
  },
  {
   "cell_type": "markdown",
   "source": [
    "## 5000-1000"
   ],
   "metadata": {
    "collapsed": false
   },
   "id": "46878cd9fcb5d588"
  },
  {
   "cell_type": "code",
   "execution_count": 218,
   "outputs": [
    {
     "data": {
      "text/plain": "'../../Results/average/pd_5000-1000-windows_classification_avg_results.csv'"
     },
     "execution_count": 218,
     "metadata": {},
     "output_type": "execute_result"
    }
   ],
   "source": [
    "win_5000_1000_avg_results_path = avg_results_paths[9]\n",
    "win_5000_1000_avg_results_path"
   ],
   "metadata": {
    "collapsed": false,
    "ExecuteTime": {
     "end_time": "2024-04-14T23:31:04.413724Z",
     "start_time": "2024-04-14T23:31:03.881629Z"
    }
   },
   "id": "b9c091ecf1687316"
  },
  {
   "cell_type": "code",
   "execution_count": 219,
   "outputs": [
    {
     "data": {
      "text/plain": "['../../Results/folds/5000-1000-windows/pd_5000-1000-windows_ANN-(1,5)_fold_scores.csv',\n '../../Results/folds/5000-1000-windows/pd_5000-1000-windows_Support-Vector-Machine_fold_scores.csv',\n '../../Results/folds/5000-1000-windows/pd_5000-1000-windows_Logistic-Regression_fold_scores.csv',\n '../../Results/folds/5000-1000-windows/pd_5000-1000-windows_Random-Forest_fold_scores.csv']"
     },
     "execution_count": 219,
     "metadata": {},
     "output_type": "execute_result"
    }
   ],
   "source": [
    "win_5000_1000_fold_scores_path = get_all_fold_scores_paths('5000-1000-windows')\n",
    "win_5000_1000_fold_scores_path"
   ],
   "metadata": {
    "collapsed": false,
    "ExecuteTime": {
     "end_time": "2024-04-14T23:31:04.413790Z",
     "start_time": "2024-04-14T23:31:03.883621Z"
    }
   },
   "id": "560760347fbc2d06"
  },
  {
   "cell_type": "code",
   "execution_count": 220,
   "outputs": [
    {
     "data": {
      "text/plain": "                     Model  Accuracy  Precision  Sensitivity  Specificity  \\\n0      Logistic Regression  0.643321   0.633950     0.636201     0.712893   \n1   Support Vector Machine  0.552537   0.550121     0.551579     0.572772   \n2            Random Forest  0.655795   0.639931     0.645380     0.685416   \n3                ANN (1,1)  0.552338   0.386481     0.587920     0.613637   \n4                ANN (1,2)  0.605778   0.625706     0.606722     0.786799   \n5                ANN (1,3)  0.652785   0.469875     0.672287     0.693490   \n6                ANN (1,4)  0.572548   0.621978     0.606609     0.677604   \n7                ANN (1,5)  0.656438   0.624306     0.645875     0.730650   \n8                ANN (2,1)  0.616824   0.537368     0.569505     0.731712   \n9                ANN (2,2)  0.639149   0.642039     0.638049     0.682135   \n10               ANN (2,3)  0.667526   0.628291     0.642550     0.710781   \n11               ANN (2,4)  0.645027   0.614486     0.623491     0.699317   \n12               ANN (2,5)  0.647612   0.644212     0.646367     0.698874   \n13               ANN (3,1)  0.634482   0.633820     0.616150     0.588081   \n14               ANN (3,2)  0.644151   0.633841     0.645982     0.674032   \n15               ANN (3,3)  0.664865   0.632309     0.624594     0.684582   \n16               ANN (3,4)  0.649841   0.631507     0.630136     0.701507   \n17               ANN (3,5)  0.659586   0.640894     0.656980     0.653352   \n18               ANN (4,1)  0.656702   0.523763     0.649709     0.740558   \n19               ANN (4,2)  0.649434   0.611457     0.628314     0.666250   \n20               ANN (4,3)  0.643045   0.632492     0.633008     0.703521   \n21               ANN (4,4)  0.639959   0.629733     0.633541     0.686965   \n22               ANN (4,5)  0.642273   0.645292     0.644857     0.674777   \n23               ANN (5,1)  0.562029   0.634587     0.648154     0.654785   \n24               ANN (5,2)  0.648117   0.624102     0.632559     0.663747   \n25               ANN (5,3)  0.657630   0.627598     0.635283     0.678625   \n26               ANN (5,4)  0.627886   0.642362     0.628722     0.655032   \n27               ANN (5,5)  0.647797   0.622844     0.631993     0.692566   \n\n          F1  \n0   0.628154  \n1   0.543016  \n2   0.645011  \n3   0.529116  \n4   0.654565  \n5   0.590706  \n6   0.626810  \n7   0.653073  \n8   0.568211  \n9   0.574112  \n10  0.626214  \n11  0.626182  \n12  0.632216  \n13  0.638791  \n14  0.645133  \n15  0.594114  \n16  0.628990  \n17  0.639431  \n18  0.517356  \n19  0.622155  \n20  0.638456  \n21  0.622676  \n22  0.629154  \n23  0.635647  \n24  0.637555  \n25  0.650849  \n26  0.637243  \n27  0.626054  ",
      "text/html": "<div>\n<style scoped>\n    .dataframe tbody tr th:only-of-type {\n        vertical-align: middle;\n    }\n\n    .dataframe tbody tr th {\n        vertical-align: top;\n    }\n\n    .dataframe thead th {\n        text-align: right;\n    }\n</style>\n<table border=\"1\" class=\"dataframe\">\n  <thead>\n    <tr style=\"text-align: right;\">\n      <th></th>\n      <th>Model</th>\n      <th>Accuracy</th>\n      <th>Precision</th>\n      <th>Sensitivity</th>\n      <th>Specificity</th>\n      <th>F1</th>\n    </tr>\n  </thead>\n  <tbody>\n    <tr>\n      <th>0</th>\n      <td>Logistic Regression</td>\n      <td>0.643321</td>\n      <td>0.633950</td>\n      <td>0.636201</td>\n      <td>0.712893</td>\n      <td>0.628154</td>\n    </tr>\n    <tr>\n      <th>1</th>\n      <td>Support Vector Machine</td>\n      <td>0.552537</td>\n      <td>0.550121</td>\n      <td>0.551579</td>\n      <td>0.572772</td>\n      <td>0.543016</td>\n    </tr>\n    <tr>\n      <th>2</th>\n      <td>Random Forest</td>\n      <td>0.655795</td>\n      <td>0.639931</td>\n      <td>0.645380</td>\n      <td>0.685416</td>\n      <td>0.645011</td>\n    </tr>\n    <tr>\n      <th>3</th>\n      <td>ANN (1,1)</td>\n      <td>0.552338</td>\n      <td>0.386481</td>\n      <td>0.587920</td>\n      <td>0.613637</td>\n      <td>0.529116</td>\n    </tr>\n    <tr>\n      <th>4</th>\n      <td>ANN (1,2)</td>\n      <td>0.605778</td>\n      <td>0.625706</td>\n      <td>0.606722</td>\n      <td>0.786799</td>\n      <td>0.654565</td>\n    </tr>\n    <tr>\n      <th>5</th>\n      <td>ANN (1,3)</td>\n      <td>0.652785</td>\n      <td>0.469875</td>\n      <td>0.672287</td>\n      <td>0.693490</td>\n      <td>0.590706</td>\n    </tr>\n    <tr>\n      <th>6</th>\n      <td>ANN (1,4)</td>\n      <td>0.572548</td>\n      <td>0.621978</td>\n      <td>0.606609</td>\n      <td>0.677604</td>\n      <td>0.626810</td>\n    </tr>\n    <tr>\n      <th>7</th>\n      <td>ANN (1,5)</td>\n      <td>0.656438</td>\n      <td>0.624306</td>\n      <td>0.645875</td>\n      <td>0.730650</td>\n      <td>0.653073</td>\n    </tr>\n    <tr>\n      <th>8</th>\n      <td>ANN (2,1)</td>\n      <td>0.616824</td>\n      <td>0.537368</td>\n      <td>0.569505</td>\n      <td>0.731712</td>\n      <td>0.568211</td>\n    </tr>\n    <tr>\n      <th>9</th>\n      <td>ANN (2,2)</td>\n      <td>0.639149</td>\n      <td>0.642039</td>\n      <td>0.638049</td>\n      <td>0.682135</td>\n      <td>0.574112</td>\n    </tr>\n    <tr>\n      <th>10</th>\n      <td>ANN (2,3)</td>\n      <td>0.667526</td>\n      <td>0.628291</td>\n      <td>0.642550</td>\n      <td>0.710781</td>\n      <td>0.626214</td>\n    </tr>\n    <tr>\n      <th>11</th>\n      <td>ANN (2,4)</td>\n      <td>0.645027</td>\n      <td>0.614486</td>\n      <td>0.623491</td>\n      <td>0.699317</td>\n      <td>0.626182</td>\n    </tr>\n    <tr>\n      <th>12</th>\n      <td>ANN (2,5)</td>\n      <td>0.647612</td>\n      <td>0.644212</td>\n      <td>0.646367</td>\n      <td>0.698874</td>\n      <td>0.632216</td>\n    </tr>\n    <tr>\n      <th>13</th>\n      <td>ANN (3,1)</td>\n      <td>0.634482</td>\n      <td>0.633820</td>\n      <td>0.616150</td>\n      <td>0.588081</td>\n      <td>0.638791</td>\n    </tr>\n    <tr>\n      <th>14</th>\n      <td>ANN (3,2)</td>\n      <td>0.644151</td>\n      <td>0.633841</td>\n      <td>0.645982</td>\n      <td>0.674032</td>\n      <td>0.645133</td>\n    </tr>\n    <tr>\n      <th>15</th>\n      <td>ANN (3,3)</td>\n      <td>0.664865</td>\n      <td>0.632309</td>\n      <td>0.624594</td>\n      <td>0.684582</td>\n      <td>0.594114</td>\n    </tr>\n    <tr>\n      <th>16</th>\n      <td>ANN (3,4)</td>\n      <td>0.649841</td>\n      <td>0.631507</td>\n      <td>0.630136</td>\n      <td>0.701507</td>\n      <td>0.628990</td>\n    </tr>\n    <tr>\n      <th>17</th>\n      <td>ANN (3,5)</td>\n      <td>0.659586</td>\n      <td>0.640894</td>\n      <td>0.656980</td>\n      <td>0.653352</td>\n      <td>0.639431</td>\n    </tr>\n    <tr>\n      <th>18</th>\n      <td>ANN (4,1)</td>\n      <td>0.656702</td>\n      <td>0.523763</td>\n      <td>0.649709</td>\n      <td>0.740558</td>\n      <td>0.517356</td>\n    </tr>\n    <tr>\n      <th>19</th>\n      <td>ANN (4,2)</td>\n      <td>0.649434</td>\n      <td>0.611457</td>\n      <td>0.628314</td>\n      <td>0.666250</td>\n      <td>0.622155</td>\n    </tr>\n    <tr>\n      <th>20</th>\n      <td>ANN (4,3)</td>\n      <td>0.643045</td>\n      <td>0.632492</td>\n      <td>0.633008</td>\n      <td>0.703521</td>\n      <td>0.638456</td>\n    </tr>\n    <tr>\n      <th>21</th>\n      <td>ANN (4,4)</td>\n      <td>0.639959</td>\n      <td>0.629733</td>\n      <td>0.633541</td>\n      <td>0.686965</td>\n      <td>0.622676</td>\n    </tr>\n    <tr>\n      <th>22</th>\n      <td>ANN (4,5)</td>\n      <td>0.642273</td>\n      <td>0.645292</td>\n      <td>0.644857</td>\n      <td>0.674777</td>\n      <td>0.629154</td>\n    </tr>\n    <tr>\n      <th>23</th>\n      <td>ANN (5,1)</td>\n      <td>0.562029</td>\n      <td>0.634587</td>\n      <td>0.648154</td>\n      <td>0.654785</td>\n      <td>0.635647</td>\n    </tr>\n    <tr>\n      <th>24</th>\n      <td>ANN (5,2)</td>\n      <td>0.648117</td>\n      <td>0.624102</td>\n      <td>0.632559</td>\n      <td>0.663747</td>\n      <td>0.637555</td>\n    </tr>\n    <tr>\n      <th>25</th>\n      <td>ANN (5,3)</td>\n      <td>0.657630</td>\n      <td>0.627598</td>\n      <td>0.635283</td>\n      <td>0.678625</td>\n      <td>0.650849</td>\n    </tr>\n    <tr>\n      <th>26</th>\n      <td>ANN (5,4)</td>\n      <td>0.627886</td>\n      <td>0.642362</td>\n      <td>0.628722</td>\n      <td>0.655032</td>\n      <td>0.637243</td>\n    </tr>\n    <tr>\n      <th>27</th>\n      <td>ANN (5,5)</td>\n      <td>0.647797</td>\n      <td>0.622844</td>\n      <td>0.631993</td>\n      <td>0.692566</td>\n      <td>0.626054</td>\n    </tr>\n  </tbody>\n</table>\n</div>"
     },
     "execution_count": 220,
     "metadata": {},
     "output_type": "execute_result"
    }
   ],
   "source": [
    "win_5000_1000_avg_results = pd.read_csv(win_5000_1000_avg_results_path)\n",
    "win_5000_1000_avg_results"
   ],
   "metadata": {
    "collapsed": false,
    "ExecuteTime": {
     "end_time": "2024-04-14T23:31:04.414014Z",
     "start_time": "2024-04-14T23:31:03.885673Z"
    }
   },
   "id": "e5141bbef0971ec5"
  },
  {
   "cell_type": "code",
   "execution_count": 221,
   "outputs": [
    {
     "data": {
      "text/plain": "'ANN (1,2)'"
     },
     "execution_count": 221,
     "metadata": {},
     "output_type": "execute_result"
    }
   ],
   "source": [
    "win_5000_1000_best_model, win_5000_1000_best_model_df = find_best_model(win_5000_1000_avg_results)\n",
    "win_5000_1000_best_model"
   ],
   "metadata": {
    "collapsed": false,
    "ExecuteTime": {
     "end_time": "2024-04-14T23:31:04.415260Z",
     "start_time": "2024-04-14T23:31:03.891616Z"
    }
   },
   "id": "5a7053ba2c3b813e"
  },
  {
   "cell_type": "code",
   "execution_count": 222,
   "outputs": [],
   "source": [
    "win_5000_1000_best_model_df.insert(0, 'Dataset Type', ['5000-1000'])\n",
    "win_results_df = pd.concat([win_results_df, win_5000_1000_best_model_df], ignore_index=True)"
   ],
   "metadata": {
    "collapsed": false,
    "ExecuteTime": {
     "end_time": "2024-04-14T23:31:04.436304Z",
     "start_time": "2024-04-14T23:31:03.893903Z"
    }
   },
   "id": "5f6276488326caeb"
  },
  {
   "cell_type": "markdown",
   "source": [
    "## Light Intervals"
   ],
   "metadata": {
    "collapsed": false
   },
   "id": "ba7556a0a7823040"
  },
  {
   "cell_type": "code",
   "execution_count": 223,
   "outputs": [
    {
     "data": {
      "text/plain": "'../../Results/average/pd_light-intervals-windows_classification_avg_results.csv'"
     },
     "execution_count": 223,
     "metadata": {},
     "output_type": "execute_result"
    }
   ],
   "source": [
    "win_light_avg_results_path = avg_results_paths[8]\n",
    "win_light_avg_results_path"
   ],
   "metadata": {
    "collapsed": false,
    "ExecuteTime": {
     "end_time": "2024-04-14T23:31:04.436658Z",
     "start_time": "2024-04-14T23:31:03.895907Z"
    }
   },
   "id": "a3cdcfce1e56c607"
  },
  {
   "cell_type": "code",
   "execution_count": 224,
   "outputs": [
    {
     "data": {
      "text/plain": "['../../Results/folds/light-intervals-windows/pd_light-intervals-windows_Random-Forest_fold_scores.csv',\n '../../Results/folds/light-intervals-windows/pd_light-intervals-windows_Support-Vector-Machine_fold_scores.csv',\n '../../Results/folds/light-intervals-windows/pd_light-intervals-windows_ANN-(5,5)_fold_scores.csv',\n '../../Results/folds/light-intervals-windows/pd_light-intervals-windows_Logistic-Regression_fold_scores.csv']"
     },
     "execution_count": 224,
     "metadata": {},
     "output_type": "execute_result"
    }
   ],
   "source": [
    "win_light_fold_scores_path = get_all_fold_scores_paths('light-intervals-windows')\n",
    "win_light_fold_scores_path"
   ],
   "metadata": {
    "collapsed": false,
    "ExecuteTime": {
     "end_time": "2024-04-14T23:31:04.436866Z",
     "start_time": "2024-04-14T23:31:03.897581Z"
    }
   },
   "id": "497653e88aeda939"
  },
  {
   "cell_type": "code",
   "execution_count": 225,
   "outputs": [
    {
     "data": {
      "text/plain": "                     Model  Accuracy  Precision  Sensitivity  Specificity  \\\n0      Logistic Regression  0.628541   0.628670     0.629219     0.670744   \n1   Support Vector Machine  0.577016   0.572012     0.574992     0.633150   \n2            Random Forest  0.669578   0.652861     0.651245     0.684249   \n3                ANN (1,1)  0.583544   0.523884     0.576977     0.796841   \n4                ANN (1,2)  0.626065   0.640108     0.564096     0.656697   \n5                ANN (1,3)  0.643406   0.629680     0.624163     0.684988   \n6                ANN (1,4)  0.578646   0.639237     0.618507     0.690916   \n7                ANN (1,5)  0.619339   0.613817     0.595271     0.645462   \n8                ANN (2,1)  0.573085   0.639899     0.561635     0.740160   \n9                ANN (2,2)  0.617876   0.633135     0.624427     0.676955   \n10               ANN (2,3)  0.659887   0.633297     0.643520     0.645002   \n11               ANN (2,4)  0.629424   0.628681     0.615045     0.673495   \n12               ANN (2,5)  0.629418   0.635896     0.646125     0.642250   \n13               ANN (3,1)  0.631613   0.583922     0.644933     0.660912   \n14               ANN (3,2)  0.651179   0.632005     0.608321     0.694959   \n15               ANN (3,3)  0.629653   0.566400     0.632065     0.675776   \n16               ANN (3,4)  0.635717   0.648076     0.639759     0.689879   \n17               ANN (3,5)  0.644045   0.630909     0.626435     0.639582   \n18               ANN (4,1)  0.530243   0.546360     0.650615     0.636502   \n19               ANN (4,2)  0.630168   0.634344     0.631010     0.670421   \n20               ANN (4,3)  0.623329   0.635576     0.656786     0.668745   \n21               ANN (4,4)  0.648185   0.638003     0.626218     0.676501   \n22               ANN (4,5)  0.639336   0.631832     0.635428     0.672179   \n23               ANN (5,1)  0.621985   0.656703     0.608799     0.734509   \n24               ANN (5,2)  0.648234   0.627224     0.624909     0.682401   \n25               ANN (5,3)  0.635493   0.621771     0.651646     0.658807   \n26               ANN (5,4)  0.646678   0.631061     0.650142     0.645341   \n27               ANN (5,5)  0.661834   0.630694     0.644759     0.674107   \n\n          F1  \n0   0.615266  \n1   0.560607  \n2   0.651966  \n3   0.485353  \n4   0.541542  \n5   0.625647  \n6   0.616111  \n7   0.620816  \n8   0.620524  \n9   0.590314  \n10  0.615411  \n11  0.615498  \n12  0.618999  \n13  0.551496  \n14  0.643490  \n15  0.615015  \n16  0.620270  \n17  0.616040  \n18  0.619000  \n19  0.647761  \n20  0.630974  \n21  0.623461  \n22  0.618775  \n23  0.616249  \n24  0.619560  \n25  0.614949  \n26  0.620049  \n27  0.631040  ",
      "text/html": "<div>\n<style scoped>\n    .dataframe tbody tr th:only-of-type {\n        vertical-align: middle;\n    }\n\n    .dataframe tbody tr th {\n        vertical-align: top;\n    }\n\n    .dataframe thead th {\n        text-align: right;\n    }\n</style>\n<table border=\"1\" class=\"dataframe\">\n  <thead>\n    <tr style=\"text-align: right;\">\n      <th></th>\n      <th>Model</th>\n      <th>Accuracy</th>\n      <th>Precision</th>\n      <th>Sensitivity</th>\n      <th>Specificity</th>\n      <th>F1</th>\n    </tr>\n  </thead>\n  <tbody>\n    <tr>\n      <th>0</th>\n      <td>Logistic Regression</td>\n      <td>0.628541</td>\n      <td>0.628670</td>\n      <td>0.629219</td>\n      <td>0.670744</td>\n      <td>0.615266</td>\n    </tr>\n    <tr>\n      <th>1</th>\n      <td>Support Vector Machine</td>\n      <td>0.577016</td>\n      <td>0.572012</td>\n      <td>0.574992</td>\n      <td>0.633150</td>\n      <td>0.560607</td>\n    </tr>\n    <tr>\n      <th>2</th>\n      <td>Random Forest</td>\n      <td>0.669578</td>\n      <td>0.652861</td>\n      <td>0.651245</td>\n      <td>0.684249</td>\n      <td>0.651966</td>\n    </tr>\n    <tr>\n      <th>3</th>\n      <td>ANN (1,1)</td>\n      <td>0.583544</td>\n      <td>0.523884</td>\n      <td>0.576977</td>\n      <td>0.796841</td>\n      <td>0.485353</td>\n    </tr>\n    <tr>\n      <th>4</th>\n      <td>ANN (1,2)</td>\n      <td>0.626065</td>\n      <td>0.640108</td>\n      <td>0.564096</td>\n      <td>0.656697</td>\n      <td>0.541542</td>\n    </tr>\n    <tr>\n      <th>5</th>\n      <td>ANN (1,3)</td>\n      <td>0.643406</td>\n      <td>0.629680</td>\n      <td>0.624163</td>\n      <td>0.684988</td>\n      <td>0.625647</td>\n    </tr>\n    <tr>\n      <th>6</th>\n      <td>ANN (1,4)</td>\n      <td>0.578646</td>\n      <td>0.639237</td>\n      <td>0.618507</td>\n      <td>0.690916</td>\n      <td>0.616111</td>\n    </tr>\n    <tr>\n      <th>7</th>\n      <td>ANN (1,5)</td>\n      <td>0.619339</td>\n      <td>0.613817</td>\n      <td>0.595271</td>\n      <td>0.645462</td>\n      <td>0.620816</td>\n    </tr>\n    <tr>\n      <th>8</th>\n      <td>ANN (2,1)</td>\n      <td>0.573085</td>\n      <td>0.639899</td>\n      <td>0.561635</td>\n      <td>0.740160</td>\n      <td>0.620524</td>\n    </tr>\n    <tr>\n      <th>9</th>\n      <td>ANN (2,2)</td>\n      <td>0.617876</td>\n      <td>0.633135</td>\n      <td>0.624427</td>\n      <td>0.676955</td>\n      <td>0.590314</td>\n    </tr>\n    <tr>\n      <th>10</th>\n      <td>ANN (2,3)</td>\n      <td>0.659887</td>\n      <td>0.633297</td>\n      <td>0.643520</td>\n      <td>0.645002</td>\n      <td>0.615411</td>\n    </tr>\n    <tr>\n      <th>11</th>\n      <td>ANN (2,4)</td>\n      <td>0.629424</td>\n      <td>0.628681</td>\n      <td>0.615045</td>\n      <td>0.673495</td>\n      <td>0.615498</td>\n    </tr>\n    <tr>\n      <th>12</th>\n      <td>ANN (2,5)</td>\n      <td>0.629418</td>\n      <td>0.635896</td>\n      <td>0.646125</td>\n      <td>0.642250</td>\n      <td>0.618999</td>\n    </tr>\n    <tr>\n      <th>13</th>\n      <td>ANN (3,1)</td>\n      <td>0.631613</td>\n      <td>0.583922</td>\n      <td>0.644933</td>\n      <td>0.660912</td>\n      <td>0.551496</td>\n    </tr>\n    <tr>\n      <th>14</th>\n      <td>ANN (3,2)</td>\n      <td>0.651179</td>\n      <td>0.632005</td>\n      <td>0.608321</td>\n      <td>0.694959</td>\n      <td>0.643490</td>\n    </tr>\n    <tr>\n      <th>15</th>\n      <td>ANN (3,3)</td>\n      <td>0.629653</td>\n      <td>0.566400</td>\n      <td>0.632065</td>\n      <td>0.675776</td>\n      <td>0.615015</td>\n    </tr>\n    <tr>\n      <th>16</th>\n      <td>ANN (3,4)</td>\n      <td>0.635717</td>\n      <td>0.648076</td>\n      <td>0.639759</td>\n      <td>0.689879</td>\n      <td>0.620270</td>\n    </tr>\n    <tr>\n      <th>17</th>\n      <td>ANN (3,5)</td>\n      <td>0.644045</td>\n      <td>0.630909</td>\n      <td>0.626435</td>\n      <td>0.639582</td>\n      <td>0.616040</td>\n    </tr>\n    <tr>\n      <th>18</th>\n      <td>ANN (4,1)</td>\n      <td>0.530243</td>\n      <td>0.546360</td>\n      <td>0.650615</td>\n      <td>0.636502</td>\n      <td>0.619000</td>\n    </tr>\n    <tr>\n      <th>19</th>\n      <td>ANN (4,2)</td>\n      <td>0.630168</td>\n      <td>0.634344</td>\n      <td>0.631010</td>\n      <td>0.670421</td>\n      <td>0.647761</td>\n    </tr>\n    <tr>\n      <th>20</th>\n      <td>ANN (4,3)</td>\n      <td>0.623329</td>\n      <td>0.635576</td>\n      <td>0.656786</td>\n      <td>0.668745</td>\n      <td>0.630974</td>\n    </tr>\n    <tr>\n      <th>21</th>\n      <td>ANN (4,4)</td>\n      <td>0.648185</td>\n      <td>0.638003</td>\n      <td>0.626218</td>\n      <td>0.676501</td>\n      <td>0.623461</td>\n    </tr>\n    <tr>\n      <th>22</th>\n      <td>ANN (4,5)</td>\n      <td>0.639336</td>\n      <td>0.631832</td>\n      <td>0.635428</td>\n      <td>0.672179</td>\n      <td>0.618775</td>\n    </tr>\n    <tr>\n      <th>23</th>\n      <td>ANN (5,1)</td>\n      <td>0.621985</td>\n      <td>0.656703</td>\n      <td>0.608799</td>\n      <td>0.734509</td>\n      <td>0.616249</td>\n    </tr>\n    <tr>\n      <th>24</th>\n      <td>ANN (5,2)</td>\n      <td>0.648234</td>\n      <td>0.627224</td>\n      <td>0.624909</td>\n      <td>0.682401</td>\n      <td>0.619560</td>\n    </tr>\n    <tr>\n      <th>25</th>\n      <td>ANN (5,3)</td>\n      <td>0.635493</td>\n      <td>0.621771</td>\n      <td>0.651646</td>\n      <td>0.658807</td>\n      <td>0.614949</td>\n    </tr>\n    <tr>\n      <th>26</th>\n      <td>ANN (5,4)</td>\n      <td>0.646678</td>\n      <td>0.631061</td>\n      <td>0.650142</td>\n      <td>0.645341</td>\n      <td>0.620049</td>\n    </tr>\n    <tr>\n      <th>27</th>\n      <td>ANN (5,5)</td>\n      <td>0.661834</td>\n      <td>0.630694</td>\n      <td>0.644759</td>\n      <td>0.674107</td>\n      <td>0.631040</td>\n    </tr>\n  </tbody>\n</table>\n</div>"
     },
     "execution_count": 225,
     "metadata": {},
     "output_type": "execute_result"
    }
   ],
   "source": [
    "win_light_avg_results = pd.read_csv(win_light_avg_results_path)\n",
    "win_light_avg_results"
   ],
   "metadata": {
    "collapsed": false,
    "ExecuteTime": {
     "end_time": "2024-04-14T23:31:04.437254Z",
     "start_time": "2024-04-14T23:31:03.900231Z"
    }
   },
   "id": "37845c55e0c05986"
  },
  {
   "cell_type": "code",
   "execution_count": 226,
   "outputs": [
    {
     "data": {
      "text/plain": "'Random Forest'"
     },
     "execution_count": 226,
     "metadata": {},
     "output_type": "execute_result"
    }
   ],
   "source": [
    "win_light_best_model, win_light_best_model_df = find_best_model(win_light_avg_results)\n",
    "win_light_best_model"
   ],
   "metadata": {
    "collapsed": false,
    "ExecuteTime": {
     "end_time": "2024-04-14T23:31:04.437329Z",
     "start_time": "2024-04-14T23:31:03.908753Z"
    }
   },
   "id": "2c71e96a7278cdb7"
  },
  {
   "cell_type": "code",
   "execution_count": 227,
   "outputs": [],
   "source": [
    "win_light_best_model_df.insert(0, 'Dataset Type', ['Light Interval'])\n",
    "win_results_df = pd.concat([win_results_df, win_light_best_model_df], ignore_index=True)"
   ],
   "metadata": {
    "collapsed": false,
    "ExecuteTime": {
     "end_time": "2024-04-14T23:31:04.437398Z",
     "start_time": "2024-04-14T23:31:03.911138Z"
    }
   },
   "id": "7bb46f08488bb21b"
  },
  {
   "cell_type": "markdown",
   "source": [
    "## Windows Summery"
   ],
   "metadata": {
    "collapsed": false
   },
   "id": "94531382b5ce05e1"
  },
  {
   "cell_type": "code",
   "execution_count": 228,
   "outputs": [
    {
     "data": {
      "text/plain": "     Dataset Type          Model  Accuracy Precision Sensitivity Specificity  \\\n0         250-250      ANN (3,4)  0.625487  0.621393    0.626969    0.674403   \n1         500-100  Random Forest   0.57699  0.588986    0.630823    0.674912   \n2         500-250      ANN (4,3)  0.613684  0.613623    0.620267    0.751833   \n3         500-500  Random Forest  0.621665  0.618839    0.629904    0.673891   \n4        1000-250  Random Forest  0.644371  0.636418    0.637031    0.692407   \n5       1000-1000      ANN (2,1)  0.631013  0.534949    0.652445     0.76807   \n6       5000-1000      ANN (1,2)  0.605778  0.625706    0.606722    0.786799   \n7  Light Interval  Random Forest  0.669578  0.652861    0.651245    0.684249   \n\n         F1        AS  \n0  0.608013  0.635968  \n1  0.539942  0.597281  \n2  0.605331  0.656949  \n3  0.613008  0.636188  \n4  0.631268  0.656015  \n5  0.608689  0.669257  \n6  0.654565  0.682381  \n7  0.651966  0.668598  ",
      "text/html": "<div>\n<style scoped>\n    .dataframe tbody tr th:only-of-type {\n        vertical-align: middle;\n    }\n\n    .dataframe tbody tr th {\n        vertical-align: top;\n    }\n\n    .dataframe thead th {\n        text-align: right;\n    }\n</style>\n<table border=\"1\" class=\"dataframe\">\n  <thead>\n    <tr style=\"text-align: right;\">\n      <th></th>\n      <th>Dataset Type</th>\n      <th>Model</th>\n      <th>Accuracy</th>\n      <th>Precision</th>\n      <th>Sensitivity</th>\n      <th>Specificity</th>\n      <th>F1</th>\n      <th>AS</th>\n    </tr>\n  </thead>\n  <tbody>\n    <tr>\n      <th>0</th>\n      <td>250-250</td>\n      <td>ANN (3,4)</td>\n      <td>0.625487</td>\n      <td>0.621393</td>\n      <td>0.626969</td>\n      <td>0.674403</td>\n      <td>0.608013</td>\n      <td>0.635968</td>\n    </tr>\n    <tr>\n      <th>1</th>\n      <td>500-100</td>\n      <td>Random Forest</td>\n      <td>0.57699</td>\n      <td>0.588986</td>\n      <td>0.630823</td>\n      <td>0.674912</td>\n      <td>0.539942</td>\n      <td>0.597281</td>\n    </tr>\n    <tr>\n      <th>2</th>\n      <td>500-250</td>\n      <td>ANN (4,3)</td>\n      <td>0.613684</td>\n      <td>0.613623</td>\n      <td>0.620267</td>\n      <td>0.751833</td>\n      <td>0.605331</td>\n      <td>0.656949</td>\n    </tr>\n    <tr>\n      <th>3</th>\n      <td>500-500</td>\n      <td>Random Forest</td>\n      <td>0.621665</td>\n      <td>0.618839</td>\n      <td>0.629904</td>\n      <td>0.673891</td>\n      <td>0.613008</td>\n      <td>0.636188</td>\n    </tr>\n    <tr>\n      <th>4</th>\n      <td>1000-250</td>\n      <td>Random Forest</td>\n      <td>0.644371</td>\n      <td>0.636418</td>\n      <td>0.637031</td>\n      <td>0.692407</td>\n      <td>0.631268</td>\n      <td>0.656015</td>\n    </tr>\n    <tr>\n      <th>5</th>\n      <td>1000-1000</td>\n      <td>ANN (2,1)</td>\n      <td>0.631013</td>\n      <td>0.534949</td>\n      <td>0.652445</td>\n      <td>0.76807</td>\n      <td>0.608689</td>\n      <td>0.669257</td>\n    </tr>\n    <tr>\n      <th>6</th>\n      <td>5000-1000</td>\n      <td>ANN (1,2)</td>\n      <td>0.605778</td>\n      <td>0.625706</td>\n      <td>0.606722</td>\n      <td>0.786799</td>\n      <td>0.654565</td>\n      <td>0.682381</td>\n    </tr>\n    <tr>\n      <th>7</th>\n      <td>Light Interval</td>\n      <td>Random Forest</td>\n      <td>0.669578</td>\n      <td>0.652861</td>\n      <td>0.651245</td>\n      <td>0.684249</td>\n      <td>0.651966</td>\n      <td>0.668598</td>\n    </tr>\n  </tbody>\n</table>\n</div>"
     },
     "execution_count": 228,
     "metadata": {},
     "output_type": "execute_result"
    }
   ],
   "source": [
    "win_results_df"
   ],
   "metadata": {
    "collapsed": false,
    "ExecuteTime": {
     "end_time": "2024-04-14T23:31:04.579456Z",
     "start_time": "2024-04-14T23:31:03.914869Z"
    }
   },
   "id": "169a8fce11f6add7"
  },
  {
   "cell_type": "code",
   "execution_count": 229,
   "outputs": [],
   "source": [
    "best_win_model, best_win_model_df = find_best_model(win_results_df)"
   ],
   "metadata": {
    "collapsed": false,
    "ExecuteTime": {
     "end_time": "2024-04-14T23:31:04.579538Z",
     "start_time": "2024-04-14T23:31:03.917249Z"
    }
   },
   "id": "7dc7ca1bb4384eb6"
  },
  {
   "cell_type": "code",
   "execution_count": 230,
   "outputs": [
    {
     "data": {
      "text/plain": "'ANN (1,2)'"
     },
     "execution_count": 230,
     "metadata": {},
     "output_type": "execute_result"
    }
   ],
   "source": [
    "best_win_model"
   ],
   "metadata": {
    "collapsed": false,
    "ExecuteTime": {
     "end_time": "2024-04-14T23:31:04.579607Z",
     "start_time": "2024-04-14T23:31:03.918990Z"
    }
   },
   "id": "586cd306573b7adf"
  },
  {
   "cell_type": "code",
   "execution_count": 231,
   "outputs": [
    {
     "data": {
      "text/plain": "'6    5000-1000'"
     },
     "execution_count": 231,
     "metadata": {},
     "output_type": "execute_result"
    }
   ],
   "source": [
    "best_win_model_df['Dataset Type'].to_string()"
   ],
   "metadata": {
    "collapsed": false,
    "ExecuteTime": {
     "end_time": "2024-04-14T23:31:04.579663Z",
     "start_time": "2024-04-14T23:31:03.921286Z"
    }
   },
   "id": "ff3243d605dedd4c"
  },
  {
   "cell_type": "code",
   "execution_count": 352,
   "outputs": [],
   "source": [
    "best_win_model_path = win_500_100_fold_scores_path[2]"
   ],
   "metadata": {
    "collapsed": false,
    "ExecuteTime": {
     "end_time": "2024-04-15T10:18:32.971490Z",
     "start_time": "2024-04-15T10:18:32.955934Z"
    }
   },
   "id": "aa0bd1063d60f781"
  },
  {
   "cell_type": "code",
   "execution_count": 353,
   "outputs": [
    {
     "data": {
      "text/plain": "'../../Results/folds/500-100-windows/pd_500-100-windows_Random-Forest_fold_scores.csv'"
     },
     "execution_count": 353,
     "metadata": {},
     "output_type": "execute_result"
    }
   ],
   "source": [
    "best_win_model_path"
   ],
   "metadata": {
    "collapsed": false,
    "ExecuteTime": {
     "end_time": "2024-04-15T10:18:33.087491Z",
     "start_time": "2024-04-15T10:18:33.081594Z"
    }
   },
   "id": "5db1c1c151de85e7"
  },
  {
   "cell_type": "code",
   "execution_count": 354,
   "outputs": [],
   "source": [
    "best_win_model_fold_scores_df = pd.read_csv(best_win_model_path)"
   ],
   "metadata": {
    "collapsed": false,
    "ExecuteTime": {
     "end_time": "2024-04-15T10:18:34.456017Z",
     "start_time": "2024-04-15T10:18:34.439975Z"
    }
   },
   "id": "cd843643c84c14db"
  },
  {
   "cell_type": "code",
   "execution_count": 355,
   "outputs": [
    {
     "data": {
      "text/plain": "   Accuracy  Precision  Sensitivity  Specificity        F1\n0  0.591148   0.587586     0.580994     0.718779  0.577733\n1  0.702863   0.672603     0.724707     0.678327  0.666252\n2  0.522158   0.556497     0.567733     0.686820  0.510631\n3  0.469061   0.530351     0.579537     0.445056  0.409131\n4  0.599722   0.597895     0.701143     0.845577  0.535962",
      "text/html": "<div>\n<style scoped>\n    .dataframe tbody tr th:only-of-type {\n        vertical-align: middle;\n    }\n\n    .dataframe tbody tr th {\n        vertical-align: top;\n    }\n\n    .dataframe thead th {\n        text-align: right;\n    }\n</style>\n<table border=\"1\" class=\"dataframe\">\n  <thead>\n    <tr style=\"text-align: right;\">\n      <th></th>\n      <th>Accuracy</th>\n      <th>Precision</th>\n      <th>Sensitivity</th>\n      <th>Specificity</th>\n      <th>F1</th>\n    </tr>\n  </thead>\n  <tbody>\n    <tr>\n      <th>0</th>\n      <td>0.591148</td>\n      <td>0.587586</td>\n      <td>0.580994</td>\n      <td>0.718779</td>\n      <td>0.577733</td>\n    </tr>\n    <tr>\n      <th>1</th>\n      <td>0.702863</td>\n      <td>0.672603</td>\n      <td>0.724707</td>\n      <td>0.678327</td>\n      <td>0.666252</td>\n    </tr>\n    <tr>\n      <th>2</th>\n      <td>0.522158</td>\n      <td>0.556497</td>\n      <td>0.567733</td>\n      <td>0.686820</td>\n      <td>0.510631</td>\n    </tr>\n    <tr>\n      <th>3</th>\n      <td>0.469061</td>\n      <td>0.530351</td>\n      <td>0.579537</td>\n      <td>0.445056</td>\n      <td>0.409131</td>\n    </tr>\n    <tr>\n      <th>4</th>\n      <td>0.599722</td>\n      <td>0.597895</td>\n      <td>0.701143</td>\n      <td>0.845577</td>\n      <td>0.535962</td>\n    </tr>\n  </tbody>\n</table>\n</div>"
     },
     "execution_count": 355,
     "metadata": {},
     "output_type": "execute_result"
    }
   ],
   "source": [
    "best_win_model_fold_scores_df"
   ],
   "metadata": {
    "collapsed": false,
    "ExecuteTime": {
     "end_time": "2024-04-15T10:18:34.610318Z",
     "start_time": "2024-04-15T10:18:34.596468Z"
    }
   },
   "id": "7ec4b665083e67bb"
  },
  {
   "cell_type": "code",
   "execution_count": 356,
   "outputs": [
    {
     "data": {
      "text/plain": "<Figure size 640x480 with 1 Axes>",
      "image/png": "[encoded data removed]"
     },
     "metadata": {},
     "output_type": "display_data"
    }
   ],
   "source": [
    "sns.violinplot(data=best_win_model_fold_scores_df)\n",
    "plt.ylim(0, 1)\n",
    "plt.ylabel(\"Scores\")\n",
    "plt.show()"
   ],
   "metadata": {
    "collapsed": false,
    "ExecuteTime": {
     "end_time": "2024-04-15T10:18:36.004282Z",
     "start_time": "2024-04-15T10:18:35.817356Z"
    }
   },
   "id": "43b46010aa41a388"
  },
  {
   "cell_type": "code",
   "execution_count": 237,
   "outputs": [],
   "source": [
    "best_win_models_ordered = pd.DataFrame(columns=['Dataset Type', 'Model'] + list(scoring_methods.keys()))\n",
    "for i in range(8):\n",
    "    win_best_model, win_best_model_results = find_best_model(win_results_df)\n",
    "    win_best_model_dataset = win_results_df[win_results_df['Model'] == win_best_model]['Dataset Type'].values[0]\n",
    "    win_results_df = win_results_df[win_results_df['Dataset Type'] != win_best_model_dataset]\n",
    "    win_best_model_results['Dataset Type'] = win_best_model_dataset\n",
    "    best_win_models_ordered = pd.concat([best_win_models_ordered, win_best_model_results], ignore_index=True)"
   ],
   "metadata": {
    "collapsed": false,
    "ExecuteTime": {
     "end_time": "2024-04-14T23:31:04.602384Z",
     "start_time": "2024-04-14T23:31:04.123912Z"
    }
   },
   "id": "e61bfa8664c8b766"
  },
  {
   "cell_type": "code",
   "execution_count": 238,
   "outputs": [
    {
     "data": {
      "text/plain": "     Dataset Type          Model  Accuracy Precision Sensitivity Specificity  \\\n0       5000-1000      ANN (1,2)  0.605778  0.625706    0.606722    0.786799   \n1       1000-1000      ANN (2,1)  0.631013  0.534949    0.652445     0.76807   \n2         500-100  Random Forest  0.669578  0.652861    0.651245    0.684249   \n3         500-500  Random Forest  0.669578  0.652861    0.651245    0.684249   \n4        1000-250  Random Forest  0.669578  0.652861    0.651245    0.684249   \n5  Light Interval  Random Forest  0.669578  0.652861    0.651245    0.684249   \n6         500-250      ANN (4,3)  0.613684  0.613623    0.620267    0.751833   \n7         250-250      ANN (3,4)  0.625487  0.621393    0.626969    0.674403   \n\n         F1        AS  \n0  0.654565  0.682381  \n1  0.608689  0.669257  \n2  0.651966  0.668598  \n3  0.651966  0.668598  \n4  0.651966  0.668598  \n5  0.651966  0.668598  \n6  0.605331  0.656949  \n7  0.608013  0.635968  ",
      "text/html": "<div>\n<style scoped>\n    .dataframe tbody tr th:only-of-type {\n        vertical-align: middle;\n    }\n\n    .dataframe tbody tr th {\n        vertical-align: top;\n    }\n\n    .dataframe thead th {\n        text-align: right;\n    }\n</style>\n<table border=\"1\" class=\"dataframe\">\n  <thead>\n    <tr style=\"text-align: right;\">\n      <th></th>\n      <th>Dataset Type</th>\n      <th>Model</th>\n      <th>Accuracy</th>\n      <th>Precision</th>\n      <th>Sensitivity</th>\n      <th>Specificity</th>\n      <th>F1</th>\n      <th>AS</th>\n    </tr>\n  </thead>\n  <tbody>\n    <tr>\n      <th>0</th>\n      <td>5000-1000</td>\n      <td>ANN (1,2)</td>\n      <td>0.605778</td>\n      <td>0.625706</td>\n      <td>0.606722</td>\n      <td>0.786799</td>\n      <td>0.654565</td>\n      <td>0.682381</td>\n    </tr>\n    <tr>\n      <th>1</th>\n      <td>1000-1000</td>\n      <td>ANN (2,1)</td>\n      <td>0.631013</td>\n      <td>0.534949</td>\n      <td>0.652445</td>\n      <td>0.76807</td>\n      <td>0.608689</td>\n      <td>0.669257</td>\n    </tr>\n    <tr>\n      <th>2</th>\n      <td>500-100</td>\n      <td>Random Forest</td>\n      <td>0.669578</td>\n      <td>0.652861</td>\n      <td>0.651245</td>\n      <td>0.684249</td>\n      <td>0.651966</td>\n      <td>0.668598</td>\n    </tr>\n    <tr>\n      <th>3</th>\n      <td>500-500</td>\n      <td>Random Forest</td>\n      <td>0.669578</td>\n      <td>0.652861</td>\n      <td>0.651245</td>\n      <td>0.684249</td>\n      <td>0.651966</td>\n      <td>0.668598</td>\n    </tr>\n    <tr>\n      <th>4</th>\n      <td>1000-250</td>\n      <td>Random Forest</td>\n      <td>0.669578</td>\n      <td>0.652861</td>\n      <td>0.651245</td>\n      <td>0.684249</td>\n      <td>0.651966</td>\n      <td>0.668598</td>\n    </tr>\n    <tr>\n      <th>5</th>\n      <td>Light Interval</td>\n      <td>Random Forest</td>\n      <td>0.669578</td>\n      <td>0.652861</td>\n      <td>0.651245</td>\n      <td>0.684249</td>\n      <td>0.651966</td>\n      <td>0.668598</td>\n    </tr>\n    <tr>\n      <th>6</th>\n      <td>500-250</td>\n      <td>ANN (4,3)</td>\n      <td>0.613684</td>\n      <td>0.613623</td>\n      <td>0.620267</td>\n      <td>0.751833</td>\n      <td>0.605331</td>\n      <td>0.656949</td>\n    </tr>\n    <tr>\n      <th>7</th>\n      <td>250-250</td>\n      <td>ANN (3,4)</td>\n      <td>0.625487</td>\n      <td>0.621393</td>\n      <td>0.626969</td>\n      <td>0.674403</td>\n      <td>0.608013</td>\n      <td>0.635968</td>\n    </tr>\n  </tbody>\n</table>\n</div>"
     },
     "execution_count": 238,
     "metadata": {},
     "output_type": "execute_result"
    }
   ],
   "source": [
    "best_win_models_ordered"
   ],
   "metadata": {
    "collapsed": false,
    "ExecuteTime": {
     "end_time": "2024-04-14T23:31:04.602586Z",
     "start_time": "2024-04-14T23:31:04.131677Z"
    }
   },
   "id": "1561f99850828d71"
  },
  {
   "cell_type": "code",
   "execution_count": 239,
   "outputs": [],
   "source": [
    "best_win_models_ordered.to_csv(final_results_dir + 'pd_best_win_model_results.csv', index=False)"
   ],
   "metadata": {
    "collapsed": false,
    "ExecuteTime": {
     "end_time": "2024-04-14T23:31:04.602613Z",
     "start_time": "2024-04-14T23:31:04.136358Z"
    }
   },
   "id": "905f8fc42d79e7ef"
  },
  {
   "cell_type": "code",
   "execution_count": 239,
   "outputs": [],
   "source": [],
   "metadata": {
    "collapsed": false,
    "ExecuteTime": {
     "end_time": "2024-04-14T23:31:04.602638Z",
     "start_time": "2024-04-14T23:31:04.174254Z"
    }
   },
   "id": "2725ae1cfb8f98eb"
  }
 ],
 "metadata": {
  "kernelspec": {
   "display_name": "Python 3",
   "language": "python",
   "name": "python3"
  },
  "language_info": {
   "codemirror_mode": {
    "name": "ipython",
    "version": 2
   },
   "file_extension": ".py",
   "mimetype": "text/x-python",
   "name": "python",
   "nbconvert_exporter": "python",
   "pygments_lexer": "ipython2",
   "version": "2.7.6"
  }
 },
 "nbformat": 4,
 "nbformat_minor": 5
}
