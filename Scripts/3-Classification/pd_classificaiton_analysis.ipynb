{
 "cells": [
  {
   "cell_type": "code",
   "execution_count": 21,
   "outputs": [],
   "source": [
    "from Scripts.utils.pd_classification_funcs import *\n",
    "from Scripts.utils.pd_feature_preprocessing_funcs import get_all_dataset_paths\n",
    "from sklearn.linear_model import LogisticRegression\n",
    "from sklearn.svm import SVC\n",
    "from sklearn.ensemble import RandomForestClassifier, AdaBoostClassifier, ExtraTreesClassifier, VotingClassifier\n",
    "from sklearn.neural_network import MLPClassifier\n",
    "import warnings\n",
    "import itertools\n",
    "warnings.filterwarnings(\"ignore\")"
   ],
   "metadata": {
    "collapsed": false,
    "ExecuteTime": {
     "end_time": "2024-04-14T23:23:31.771536Z",
     "start_time": "2024-04-14T23:23:31.690702Z"
    }
   },
   "id": "467f7249f650e6f6"
  },
  {
   "cell_type": "markdown",
   "source": [
    "# Classification Analysis\n",
    "This final notebook goes over the various classifiers used and tested on the three datasets. In total, 17 classifiers were used and evaluated using cross-validation where each of the six subject's data were used as a testing set."
   ],
   "metadata": {
    "collapsed": false
   },
   "id": "cbb8871a0bd8cd9b"
  },
  {
   "cell_type": "code",
   "execution_count": 22,
   "outputs": [],
   "source": [
    "final_dataset_path = '../../Study/Data/features/filtered/'\n",
    "avg_results_path = '../../Results/average/'\n",
    "folds_results_path = '../../Results/folds/'\n",
    "all_filtered_dataset_paths = get_all_dataset_paths('filtered')"
   ],
   "metadata": {
    "collapsed": false,
    "ExecuteTime": {
     "end_time": "2024-04-14T23:23:31.771747Z",
     "start_time": "2024-04-14T23:23:31.693071Z"
    }
   },
   "id": "670a1aaaaed9ae2f"
  },
  {
   "cell_type": "code",
   "execution_count": 23,
   "outputs": [
    {
     "data": {
      "text/plain": "['../../Study/Data/features/filtered/.DS_Store',\n '../../Study/Data/features/filtered/pd_whole_filtered_features.csv',\n '../../Study/Data/features/filtered/pd_500-100-windows_filtered_features.csv',\n '../../Study/Data/features/filtered/pd_1000-1000-windows_filtered_features.csv',\n '../../Study/Data/features/filtered/pd_500-500-windows_filtered_features.csv',\n '../../Study/Data/features/filtered/pd_5000-1000-windows_filtered_features.csv',\n '../../Study/Data/features/filtered/pd_1000-250-windows_filtered_features.csv',\n '../../Study/Data/features/filtered/pd_light-intervals-windows_filtered_features.csv',\n '../../Study/Data/features/filtered/pd_500-250-windows_filtered_features.csv',\n '../../Study/Data/features/filtered/pd_250-250-windows_filtered_features.csv']"
     },
     "execution_count": 23,
     "metadata": {},
     "output_type": "execute_result"
    }
   ],
   "source": [
    "all_filtered_dataset_paths"
   ],
   "metadata": {
    "collapsed": false,
    "ExecuteTime": {
     "end_time": "2024-04-14T23:23:31.771973Z",
     "start_time": "2024-04-14T23:23:31.696177Z"
    }
   },
   "id": "6823868470c08a27"
  },
  {
   "cell_type": "code",
   "execution_count": 24,
   "outputs": [],
   "source": [
    "dataset_path = all_filtered_dataset_paths[1]"
   ],
   "metadata": {
    "collapsed": false,
    "ExecuteTime": {
     "end_time": "2024-04-14T23:23:31.772006Z",
     "start_time": "2024-04-14T23:23:31.698686Z"
    }
   },
   "id": "292a5a1b29de3e70"
  },
  {
   "cell_type": "code",
   "execution_count": 25,
   "outputs": [
    {
     "data": {
      "text/plain": "'../../Study/Data/features/filtered/pd_whole_filtered_features.csv'"
     },
     "execution_count": 25,
     "metadata": {},
     "output_type": "execute_result"
    }
   ],
   "source": [
    "dataset_path"
   ],
   "metadata": {
    "collapsed": false,
    "ExecuteTime": {
     "end_time": "2024-04-14T23:23:31.783684Z",
     "start_time": "2024-04-14T23:23:31.701321Z"
    }
   },
   "id": "83e290b9a6c5cef"
  },
  {
   "cell_type": "code",
   "execution_count": 26,
   "outputs": [],
   "source": [
    "dataset_name = dataset_path.split('/')[-1:][0].split('_')[1]\n",
    "folds_results_path += dataset_name + '/'"
   ],
   "metadata": {
    "collapsed": false,
    "ExecuteTime": {
     "end_time": "2024-04-14T23:23:31.783733Z",
     "start_time": "2024-04-14T23:23:31.705412Z"
    }
   },
   "id": "5c4c8b914c82f256"
  },
  {
   "cell_type": "code",
   "execution_count": 27,
   "outputs": [
    {
     "data": {
      "text/plain": "'whole'"
     },
     "execution_count": 27,
     "metadata": {},
     "output_type": "execute_result"
    }
   ],
   "source": [
    "dataset_name"
   ],
   "metadata": {
    "collapsed": false,
    "ExecuteTime": {
     "end_time": "2024-04-14T23:23:31.784318Z",
     "start_time": "2024-04-14T23:23:31.707948Z"
    }
   },
   "id": "6675ecc39eade883"
  },
  {
   "cell_type": "code",
   "execution_count": 28,
   "outputs": [],
   "source": [
    "dataset_df = pd.read_csv(dataset_path)"
   ],
   "metadata": {
    "collapsed": false,
    "ExecuteTime": {
     "end_time": "2024-04-14T23:23:31.784528Z",
     "start_time": "2024-04-14T23:23:31.712370Z"
    }
   },
   "id": "65f08a53c94312cc"
  },
  {
   "cell_type": "markdown",
   "source": [
    "## Splitting Dataset"
   ],
   "metadata": {
    "collapsed": false
   },
   "id": "284497bfbca8cdcd"
  },
  {
   "cell_type": "code",
   "execution_count": 29,
   "outputs": [],
   "source": [
    "# Getting subject groupings for all datasets\n",
    "dataset_id_groupings = dataset_df['ID']"
   ],
   "metadata": {
    "collapsed": false,
    "ExecuteTime": {
     "end_time": "2024-04-14T23:23:31.784558Z",
     "start_time": "2024-04-14T23:23:31.726684Z"
    }
   },
   "id": "42563d981780aee8"
  },
  {
   "cell_type": "code",
   "execution_count": 30,
   "outputs": [],
   "source": [
    "# Getting features and target values for all datasets\n",
    "dataset_target = dataset_df['PD_Class'].copy().values\n",
    "dataset_features = dataset_df.iloc[:, 4:].copy().values"
   ],
   "metadata": {
    "collapsed": false,
    "ExecuteTime": {
     "end_time": "2024-04-14T23:23:31.784600Z",
     "start_time": "2024-04-14T23:23:31.730369Z"
    }
   },
   "id": "bb0f5e19f2095882"
  },
  {
   "cell_type": "markdown",
   "source": [
    "## Training & Testing Models"
   ],
   "metadata": {
    "collapsed": false
   },
   "id": "e3df36bc951a7835"
  },
  {
   "cell_type": "code",
   "execution_count": 31,
   "outputs": [],
   "source": [
    "def create_mlp_list(neurons_per_layer_range, hidden_layers_range):\n",
    "    # Define the range of values\n",
    "    values_range = range(1, neurons_per_layer_range + 1)\n",
    "    # Generate all combinations of tuples\n",
    "    combinations = list(itertools.product(values_range, repeat=hidden_layers_range))\n",
    "    \n",
    "    mlp_list = []\n",
    "    for neuron_config in combinations:\n",
    "        mlp_list.append(MLPClassifier(max_iter=1000, hidden_layer_sizes=neuron_config))\n",
    "    return mlp_list"
   ],
   "metadata": {
    "collapsed": false,
    "ExecuteTime": {
     "end_time": "2024-04-14T23:23:31.784620Z",
     "start_time": "2024-04-14T23:23:31.732838Z"
    }
   },
   "id": "30cb31b20485ca7d"
  },
  {
   "cell_type": "code",
   "execution_count": 32,
   "outputs": [],
   "source": [
    "# All classification models that allow negative values for features\n",
    "models = {\n",
    "    'Logistic Regression': LogisticRegression(),\n",
    "    'Support Vector Machine': SVC(kernel='sigmoid'),\n",
    "    'Random Forest': RandomForestClassifier(),\n",
    "    'AdaBoost': AdaBoostClassifier(),\n",
    "    'Extra Trees': ExtraTreesClassifier(),\n",
    "    'Voting': VotingClassifier(voting=\"hard\", estimators=[('lr', LogisticRegression()), ('sv', AdaBoostClassifier()), ('rf', ExtraTreesClassifier())]),\n",
    "    'ANNs': create_mlp_list(5, 2)\n",
    "}"
   ],
   "metadata": {
    "collapsed": false,
    "ExecuteTime": {
     "end_time": "2024-04-14T23:23:31.784641Z",
     "start_time": "2024-04-14T23:23:31.735577Z"
    }
   },
   "id": "eea4b78045e24cfb"
  },
  {
   "cell_type": "code",
   "execution_count": 33,
   "outputs": [],
   "source": [
    "model_score_columns = list(scoring_methods.keys())\n",
    "model_score_columns.insert(0, 'Model')\n",
    "avg_results = pd.DataFrame(columns=model_score_columns)"
   ],
   "metadata": {
    "collapsed": false,
    "ExecuteTime": {
     "end_time": "2024-04-14T23:23:31.784660Z",
     "start_time": "2024-04-14T23:23:31.738380Z"
    }
   },
   "id": "5a61b93f4231e13a"
  },
  {
   "cell_type": "markdown",
   "source": [
    "### Logistic Regression"
   ],
   "metadata": {
    "collapsed": false
   },
   "id": "92bc3e5dc45e56f2"
  },
  {
   "cell_type": "code",
   "execution_count": 335,
   "outputs": [],
   "source": [
    "lr_results, lr_fold_scores = cross_val_model(model=models['Logistic Regression'], features=dataset_features, target=dataset_target, id_groupings=dataset_id_groupings, groupk_folds=5, print_scores=False)\n",
    "lr_results['Model'] = 'Logistic Regression'\n",
    "avg_results = pd.concat([avg_results, pd.DataFrame.from_dict(lr_results, orient='index').T], ignore_index=True)"
   ],
   "metadata": {
    "collapsed": false,
    "ExecuteTime": {
     "end_time": "2024-04-02T21:41:44.827528Z",
     "start_time": "2024-04-02T21:41:44.315679Z"
    }
   },
   "id": "dd6055e71a3761fe"
  },
  {
   "cell_type": "code",
   "execution_count": 336,
   "outputs": [
    {
     "data": {
      "text/plain": "   Accuracy  Precision  Sensitivity  Specificity        F1\n0  0.567773   0.622435     0.645660     0.820000  0.562071\n1  0.541494   0.513636     0.514525     0.602754  0.512086\n2  0.664975   0.632756     0.637942     0.722810  0.634657\n3  0.678249   0.678310     0.678515     0.670699  0.678174\n4  0.627095   0.629287     0.628100     0.576712  0.626524",
      "text/html": "<div>\n<style scoped>\n    .dataframe tbody tr th:only-of-type {\n        vertical-align: middle;\n    }\n\n    .dataframe tbody tr th {\n        vertical-align: top;\n    }\n\n    .dataframe thead th {\n        text-align: right;\n    }\n</style>\n<table border=\"1\" class=\"dataframe\">\n  <thead>\n    <tr style=\"text-align: right;\">\n      <th></th>\n      <th>Accuracy</th>\n      <th>Precision</th>\n      <th>Sensitivity</th>\n      <th>Specificity</th>\n      <th>F1</th>\n    </tr>\n  </thead>\n  <tbody>\n    <tr>\n      <th>0</th>\n      <td>0.567773</td>\n      <td>0.622435</td>\n      <td>0.645660</td>\n      <td>0.820000</td>\n      <td>0.562071</td>\n    </tr>\n    <tr>\n      <th>1</th>\n      <td>0.541494</td>\n      <td>0.513636</td>\n      <td>0.514525</td>\n      <td>0.602754</td>\n      <td>0.512086</td>\n    </tr>\n    <tr>\n      <th>2</th>\n      <td>0.664975</td>\n      <td>0.632756</td>\n      <td>0.637942</td>\n      <td>0.722810</td>\n      <td>0.634657</td>\n    </tr>\n    <tr>\n      <th>3</th>\n      <td>0.678249</td>\n      <td>0.678310</td>\n      <td>0.678515</td>\n      <td>0.670699</td>\n      <td>0.678174</td>\n    </tr>\n    <tr>\n      <th>4</th>\n      <td>0.627095</td>\n      <td>0.629287</td>\n      <td>0.628100</td>\n      <td>0.576712</td>\n      <td>0.626524</td>\n    </tr>\n  </tbody>\n</table>\n</div>"
     },
     "execution_count": 336,
     "metadata": {},
     "output_type": "execute_result"
    }
   ],
   "source": [
    "lr_fold_scores"
   ],
   "metadata": {
    "collapsed": false,
    "ExecuteTime": {
     "end_time": "2024-04-02T21:41:44.846560Z",
     "start_time": "2024-04-02T21:41:44.832356Z"
    }
   },
   "id": "b13e6423d57d7416"
  },
  {
   "cell_type": "code",
   "execution_count": 337,
   "outputs": [],
   "source": [
    "lr_fold_scores.to_csv(folds_results_path + 'pd_' + dataset_name + '_' + lr_results['Model'].replace(' ', '-') + '_fold_scores.csv', index=False)"
   ],
   "metadata": {
    "collapsed": false,
    "ExecuteTime": {
     "end_time": "2024-04-02T21:41:44.888499Z",
     "start_time": "2024-04-02T21:41:44.849044Z"
    }
   },
   "id": "38bded6ab9ff607a"
  },
  {
   "cell_type": "markdown",
   "source": [
    "### Support Vector Machine"
   ],
   "metadata": {
    "collapsed": false
   },
   "id": "f8c461fc08842b3a"
  },
  {
   "cell_type": "code",
   "execution_count": 338,
   "outputs": [],
   "source": [
    "sv_results, sv_fold_scores = cross_val_model(model=models['Support Vector Machine'], features=dataset_features, target=dataset_target, id_groupings=dataset_id_groupings, groupk_folds=5, print_scores=False)\n",
    "sv_results['Model'] = 'Support Vector Machine'\n",
    "avg_results = pd.concat([avg_results, pd.DataFrame.from_dict(sv_results, orient='index').T], ignore_index=True)"
   ],
   "metadata": {
    "collapsed": false,
    "ExecuteTime": {
     "end_time": "2024-04-02T21:41:58.286714Z",
     "start_time": "2024-04-02T21:41:44.858331Z"
    }
   },
   "id": "7ff7f430948bbda5"
  },
  {
   "cell_type": "code",
   "execution_count": 339,
   "outputs": [
    {
     "data": {
      "text/plain": "   Accuracy  Precision  Sensitivity  Specificity        F1\n0  0.576763   0.569122     0.586255     0.607500  0.550743\n1  0.506916   0.502690     0.502965     0.515890  0.492828\n2  0.515228   0.495143     0.494680     0.559192  0.490079\n3  0.546908   0.545316     0.543539     0.642473  0.540571\n4  0.628492   0.630052     0.629306     0.587671  0.628172",
      "text/html": "<div>\n<style scoped>\n    .dataframe tbody tr th:only-of-type {\n        vertical-align: middle;\n    }\n\n    .dataframe tbody tr th {\n        vertical-align: top;\n    }\n\n    .dataframe thead th {\n        text-align: right;\n    }\n</style>\n<table border=\"1\" class=\"dataframe\">\n  <thead>\n    <tr style=\"text-align: right;\">\n      <th></th>\n      <th>Accuracy</th>\n      <th>Precision</th>\n      <th>Sensitivity</th>\n      <th>Specificity</th>\n      <th>F1</th>\n    </tr>\n  </thead>\n  <tbody>\n    <tr>\n      <th>0</th>\n      <td>0.576763</td>\n      <td>0.569122</td>\n      <td>0.586255</td>\n      <td>0.607500</td>\n      <td>0.550743</td>\n    </tr>\n    <tr>\n      <th>1</th>\n      <td>0.506916</td>\n      <td>0.502690</td>\n      <td>0.502965</td>\n      <td>0.515890</td>\n      <td>0.492828</td>\n    </tr>\n    <tr>\n      <th>2</th>\n      <td>0.515228</td>\n      <td>0.495143</td>\n      <td>0.494680</td>\n      <td>0.559192</td>\n      <td>0.490079</td>\n    </tr>\n    <tr>\n      <th>3</th>\n      <td>0.546908</td>\n      <td>0.545316</td>\n      <td>0.543539</td>\n      <td>0.642473</td>\n      <td>0.540571</td>\n    </tr>\n    <tr>\n      <th>4</th>\n      <td>0.628492</td>\n      <td>0.630052</td>\n      <td>0.629306</td>\n      <td>0.587671</td>\n      <td>0.628172</td>\n    </tr>\n  </tbody>\n</table>\n</div>"
     },
     "execution_count": 339,
     "metadata": {},
     "output_type": "execute_result"
    }
   ],
   "source": [
    "sv_fold_scores"
   ],
   "metadata": {
    "collapsed": false,
    "ExecuteTime": {
     "end_time": "2024-04-02T21:41:58.289778Z",
     "start_time": "2024-04-02T21:41:58.288330Z"
    }
   },
   "id": "d1681f5c5beba3d6"
  },
  {
   "cell_type": "code",
   "execution_count": 340,
   "outputs": [],
   "source": [
    "sv_fold_scores.to_csv(folds_results_path + 'pd_' + dataset_name + '_' + sv_results['Model'].replace(' ', '-') + '_fold_scores.csv', index=False)"
   ],
   "metadata": {
    "collapsed": false,
    "ExecuteTime": {
     "end_time": "2024-04-02T21:41:58.291974Z",
     "start_time": "2024-04-02T21:41:58.290548Z"
    }
   },
   "id": "80f6739e49842d7c"
  },
  {
   "cell_type": "markdown",
   "source": [
    "### Random Forest"
   ],
   "metadata": {
    "collapsed": false
   },
   "id": "72fba96314f6488a"
  },
  {
   "cell_type": "code",
   "execution_count": 341,
   "outputs": [],
   "source": [
    "rf_results, rf_fold_scores = cross_val_model(model=models['Random Forest'], features=dataset_features, target=dataset_target, id_groupings=dataset_id_groupings, groupk_folds=5, print_scores=False)\n",
    "rf_results['Model'] = 'Random Forest'\n",
    "avg_results = pd.concat([avg_results, pd.DataFrame.from_dict(rf_results, orient='index').T], ignore_index=True)"
   ],
   "metadata": {
    "collapsed": false,
    "ExecuteTime": {
     "end_time": "2024-04-02T21:42:21.419703Z",
     "start_time": "2024-04-02T21:41:58.293351Z"
    }
   },
   "id": "e61cd7592bd4e6d8"
  },
  {
   "cell_type": "code",
   "execution_count": 342,
   "outputs": [
    {
     "data": {
      "text/plain": "   Accuracy  Precision  Sensitivity  Specificity        F1\n0  0.639004   0.650619     0.677249     0.767500  0.622919\n1  0.612033   0.584869     0.595788     0.658898  0.582456\n2  0.660533   0.623502     0.642984     0.719923  0.638484\n3  0.606671   0.623482     0.605418     0.659946  0.616046\n4  0.703911   0.703045     0.706998     0.632877  0.704477",
      "text/html": "<div>\n<style scoped>\n    .dataframe tbody tr th:only-of-type {\n        vertical-align: middle;\n    }\n\n    .dataframe tbody tr th {\n        vertical-align: top;\n    }\n\n    .dataframe thead th {\n        text-align: right;\n    }\n</style>\n<table border=\"1\" class=\"dataframe\">\n  <thead>\n    <tr style=\"text-align: right;\">\n      <th></th>\n      <th>Accuracy</th>\n      <th>Precision</th>\n      <th>Sensitivity</th>\n      <th>Specificity</th>\n      <th>F1</th>\n    </tr>\n  </thead>\n  <tbody>\n    <tr>\n      <th>0</th>\n      <td>0.639004</td>\n      <td>0.650619</td>\n      <td>0.677249</td>\n      <td>0.767500</td>\n      <td>0.622919</td>\n    </tr>\n    <tr>\n      <th>1</th>\n      <td>0.612033</td>\n      <td>0.584869</td>\n      <td>0.595788</td>\n      <td>0.658898</td>\n      <td>0.582456</td>\n    </tr>\n    <tr>\n      <th>2</th>\n      <td>0.660533</td>\n      <td>0.623502</td>\n      <td>0.642984</td>\n      <td>0.719923</td>\n      <td>0.638484</td>\n    </tr>\n    <tr>\n      <th>3</th>\n      <td>0.606671</td>\n      <td>0.623482</td>\n      <td>0.605418</td>\n      <td>0.659946</td>\n      <td>0.616046</td>\n    </tr>\n    <tr>\n      <th>4</th>\n      <td>0.703911</td>\n      <td>0.703045</td>\n      <td>0.706998</td>\n      <td>0.632877</td>\n      <td>0.704477</td>\n    </tr>\n  </tbody>\n</table>\n</div>"
     },
     "execution_count": 342,
     "metadata": {},
     "output_type": "execute_result"
    }
   ],
   "source": [
    "rf_fold_scores"
   ],
   "metadata": {
    "collapsed": false,
    "ExecuteTime": {
     "end_time": "2024-04-02T21:42:21.423735Z",
     "start_time": "2024-04-02T21:42:21.421425Z"
    }
   },
   "id": "f0ce4b11987c641"
  },
  {
   "cell_type": "code",
   "execution_count": 343,
   "outputs": [],
   "source": [
    "rf_fold_scores.to_csv(folds_results_path + 'pd_' + dataset_name + '_' + rf_results['Model'].replace(' ', '-') + '_fold_scores.csv', index=False)"
   ],
   "metadata": {
    "collapsed": false,
    "ExecuteTime": {
     "end_time": "2024-04-02T21:42:21.427423Z",
     "start_time": "2024-04-02T21:42:21.423526Z"
    }
   },
   "id": "6e56453203852b71"
  },
  {
   "cell_type": "markdown",
   "source": [
    "### Artificial Neural Networks (MLPs)"
   ],
   "metadata": {
    "collapsed": false
   },
   "id": "5e9d679a3e42458b"
  },
  {
   "cell_type": "code",
   "execution_count": 59,
   "outputs": [],
   "source": [
    "best_ann_model = None\n",
    "\n",
    "best_ann_aggr_model_score = 0\n",
    "best_ann_model_fold_scores = None\n",
    "for model in models['ANNs']:\n",
    "    curr_ann_results, curr_ann_fold_scores = cross_val_model(model=model, features=dataset_features, target=dataset_target, id_groupings=dataset_id_groupings, groupk_folds=5, print_scores=False)\n",
    "    curr_ann_aggr_score = curr_ann_results['Accuracy'] * 1.2 + curr_ann_results['F1'] + curr_ann_results['Specificity']\n",
    "    curr_ann_results['Model'] = 'ANN ' + str(model.hidden_layer_sizes).replace(' ', '')\n",
    "    avg_results = pd.concat([avg_results, pd.DataFrame.from_dict(curr_ann_results, orient='index').T], ignore_index=True)\n",
    "    if curr_ann_aggr_score > best_ann_aggr_model_score:\n",
    "        best_ann_aggr_model_score = curr_ann_aggr_score\n",
    "        best_ann_model_fold_scores = curr_ann_fold_scores\n",
    "        best_ann_model = curr_ann_results['Model']"
   ],
   "metadata": {
    "collapsed": false,
    "ExecuteTime": {
     "end_time": "2024-04-14T23:35:44.539517Z",
     "start_time": "2024-04-14T23:35:42.147690Z"
    }
   },
   "id": "fe37d742c94138cf"
  },
  {
   "cell_type": "code",
   "execution_count": 60,
   "outputs": [
    {
     "data": {
      "text/plain": "'ANN (3,3)'"
     },
     "execution_count": 60,
     "metadata": {},
     "output_type": "execute_result"
    }
   ],
   "source": [
    "best_ann_model"
   ],
   "metadata": {
    "collapsed": false,
    "ExecuteTime": {
     "end_time": "2024-04-14T23:35:44.541957Z",
     "start_time": "2024-04-14T23:35:44.539758Z"
    }
   },
   "id": "26757d3b0124d7b4"
  },
  {
   "cell_type": "code",
   "execution_count": 61,
   "outputs": [
    {
     "data": {
      "text/plain": "   Accuracy  Precision  Sensitivity  Specificity        F1\n0  0.777778   0.857143       0.7625         0.80  0.828571\n1  0.500000   0.863636       0.7500         1.00  0.805668\n2  0.937500   1.000000       0.8750         1.00  0.873016\n3  0.812500   0.250000       0.8125         0.75  0.333333\n4  0.625000   0.718182       0.6250         1.00  0.676113",
      "text/html": "<div>\n<style scoped>\n    .dataframe tbody tr th:only-of-type {\n        vertical-align: middle;\n    }\n\n    .dataframe tbody tr th {\n        vertical-align: top;\n    }\n\n    .dataframe thead th {\n        text-align: right;\n    }\n</style>\n<table border=\"1\" class=\"dataframe\">\n  <thead>\n    <tr style=\"text-align: right;\">\n      <th></th>\n      <th>Accuracy</th>\n      <th>Precision</th>\n      <th>Sensitivity</th>\n      <th>Specificity</th>\n      <th>F1</th>\n    </tr>\n  </thead>\n  <tbody>\n    <tr>\n      <th>0</th>\n      <td>0.777778</td>\n      <td>0.857143</td>\n      <td>0.7625</td>\n      <td>0.80</td>\n      <td>0.828571</td>\n    </tr>\n    <tr>\n      <th>1</th>\n      <td>0.500000</td>\n      <td>0.863636</td>\n      <td>0.7500</td>\n      <td>1.00</td>\n      <td>0.805668</td>\n    </tr>\n    <tr>\n      <th>2</th>\n      <td>0.937500</td>\n      <td>1.000000</td>\n      <td>0.8750</td>\n      <td>1.00</td>\n      <td>0.873016</td>\n    </tr>\n    <tr>\n      <th>3</th>\n      <td>0.812500</td>\n      <td>0.250000</td>\n      <td>0.8125</td>\n      <td>0.75</td>\n      <td>0.333333</td>\n    </tr>\n    <tr>\n      <th>4</th>\n      <td>0.625000</td>\n      <td>0.718182</td>\n      <td>0.6250</td>\n      <td>1.00</td>\n      <td>0.676113</td>\n    </tr>\n  </tbody>\n</table>\n</div>"
     },
     "execution_count": 61,
     "metadata": {},
     "output_type": "execute_result"
    }
   ],
   "source": [
    "best_ann_model_fold_scores"
   ],
   "metadata": {
    "collapsed": false,
    "ExecuteTime": {
     "end_time": "2024-04-14T23:35:44.548984Z",
     "start_time": "2024-04-14T23:35:44.543002Z"
    }
   },
   "id": "64cbb312940aabab"
  },
  {
   "cell_type": "code",
   "execution_count": 62,
   "outputs": [],
   "source": [
    "best_ann_model_fold_scores.to_csv(folds_results_path + 'pd_' + dataset_name + '_' + best_ann_model.replace(' ', '-') + '_fold_scores.csv', index=False)"
   ],
   "metadata": {
    "collapsed": false,
    "ExecuteTime": {
     "end_time": "2024-04-14T23:35:44.550003Z",
     "start_time": "2024-04-14T23:35:44.546346Z"
    }
   },
   "id": "a279e2644e288260"
  },
  {
   "cell_type": "markdown",
   "source": [
    "## Final Results"
   ],
   "metadata": {
    "collapsed": false
   },
   "id": "76134d21cd8f7c33"
  },
  {
   "cell_type": "code",
   "execution_count": 348,
   "outputs": [
    {
     "data": {
      "text/plain": "                     Model  Accuracy Precision Sensitivity Specificity  \\\n0      Logistic Regression  0.615917  0.615285    0.620948    0.678595   \n1   Support Vector Machine  0.554861  0.548465    0.551349    0.582545   \n2            Random Forest   0.64443  0.637103    0.645687    0.687829   \n3                ANN (1,1)  0.593678  0.614715    0.584144      0.7475   \n4                ANN (1,2)  0.620685  0.612174    0.565505    0.659635   \n5                ANN (1,3)  0.604435  0.617938    0.632596    0.658258   \n6                ANN (1,4)  0.615358  0.626882    0.623616    0.672196   \n7                ANN (1,5)  0.612984  0.611947    0.620316    0.653444   \n8                ANN (2,1)  0.631013  0.534949    0.652445     0.76807   \n9                ANN (2,2)  0.620751   0.62562    0.598143    0.669868   \n10               ANN (2,3)  0.618389  0.619181     0.62611    0.638601   \n11               ANN (2,4)   0.62392  0.619864    0.621449    0.658153   \n12               ANN (2,5)  0.613429  0.628155    0.624355    0.664968   \n13               ANN (3,1)  0.641408  0.606638    0.631136    0.655393   \n14               ANN (3,2)  0.605604  0.606071    0.615055    0.641306   \n15               ANN (3,3)  0.630377  0.606402    0.633275    0.666541   \n16               ANN (3,4)  0.612444  0.612388    0.625783    0.633982   \n17               ANN (3,5)  0.621967  0.623652    0.627109    0.660466   \n18               ANN (4,1)  0.620813  0.509633    0.618802    0.655007   \n19               ANN (4,2)  0.631525  0.617279    0.629449    0.656082   \n20               ANN (4,3)  0.628658  0.610646    0.616523    0.647516   \n21               ANN (4,4)  0.624148  0.631722     0.62121    0.653248   \n22               ANN (4,5)  0.624452  0.621175    0.613832    0.646344   \n23               ANN (5,1)  0.636653  0.616833    0.627566    0.649687   \n24               ANN (5,2)  0.631034  0.615484     0.63139    0.648284   \n25               ANN (5,3)  0.621176  0.628417    0.630787    0.663508   \n26               ANN (5,4)  0.630372  0.618857    0.631893    0.649897   \n27               ANN (5,5)  0.624889   0.60706    0.628268    0.662665   \n\n          F1  \n0   0.602702  \n1   0.540478  \n2   0.632876  \n3   0.481777  \n4   0.551622  \n5   0.614458  \n6   0.605667  \n7   0.603158  \n8   0.608689  \n9   0.606178  \n10  0.607774  \n11  0.617984  \n12   0.60261  \n13  0.531938  \n14  0.595485  \n15  0.605994  \n16  0.604004  \n17  0.600991  \n18   0.60574  \n19  0.622831  \n20  0.607139  \n21  0.599771  \n22  0.609978  \n23  0.581366  \n24  0.609561  \n25  0.614958  \n26  0.594162  \n27  0.603401  ",
      "text/html": "<div>\n<style scoped>\n    .dataframe tbody tr th:only-of-type {\n        vertical-align: middle;\n    }\n\n    .dataframe tbody tr th {\n        vertical-align: top;\n    }\n\n    .dataframe thead th {\n        text-align: right;\n    }\n</style>\n<table border=\"1\" class=\"dataframe\">\n  <thead>\n    <tr style=\"text-align: right;\">\n      <th></th>\n      <th>Model</th>\n      <th>Accuracy</th>\n      <th>Precision</th>\n      <th>Sensitivity</th>\n      <th>Specificity</th>\n      <th>F1</th>\n    </tr>\n  </thead>\n  <tbody>\n    <tr>\n      <th>0</th>\n      <td>Logistic Regression</td>\n      <td>0.615917</td>\n      <td>0.615285</td>\n      <td>0.620948</td>\n      <td>0.678595</td>\n      <td>0.602702</td>\n    </tr>\n    <tr>\n      <th>1</th>\n      <td>Support Vector Machine</td>\n      <td>0.554861</td>\n      <td>0.548465</td>\n      <td>0.551349</td>\n      <td>0.582545</td>\n      <td>0.540478</td>\n    </tr>\n    <tr>\n      <th>2</th>\n      <td>Random Forest</td>\n      <td>0.64443</td>\n      <td>0.637103</td>\n      <td>0.645687</td>\n      <td>0.687829</td>\n      <td>0.632876</td>\n    </tr>\n    <tr>\n      <th>3</th>\n      <td>ANN (1,1)</td>\n      <td>0.593678</td>\n      <td>0.614715</td>\n      <td>0.584144</td>\n      <td>0.7475</td>\n      <td>0.481777</td>\n    </tr>\n    <tr>\n      <th>4</th>\n      <td>ANN (1,2)</td>\n      <td>0.620685</td>\n      <td>0.612174</td>\n      <td>0.565505</td>\n      <td>0.659635</td>\n      <td>0.551622</td>\n    </tr>\n    <tr>\n      <th>5</th>\n      <td>ANN (1,3)</td>\n      <td>0.604435</td>\n      <td>0.617938</td>\n      <td>0.632596</td>\n      <td>0.658258</td>\n      <td>0.614458</td>\n    </tr>\n    <tr>\n      <th>6</th>\n      <td>ANN (1,4)</td>\n      <td>0.615358</td>\n      <td>0.626882</td>\n      <td>0.623616</td>\n      <td>0.672196</td>\n      <td>0.605667</td>\n    </tr>\n    <tr>\n      <th>7</th>\n      <td>ANN (1,5)</td>\n      <td>0.612984</td>\n      <td>0.611947</td>\n      <td>0.620316</td>\n      <td>0.653444</td>\n      <td>0.603158</td>\n    </tr>\n    <tr>\n      <th>8</th>\n      <td>ANN (2,1)</td>\n      <td>0.631013</td>\n      <td>0.534949</td>\n      <td>0.652445</td>\n      <td>0.76807</td>\n      <td>0.608689</td>\n    </tr>\n    <tr>\n      <th>9</th>\n      <td>ANN (2,2)</td>\n      <td>0.620751</td>\n      <td>0.62562</td>\n      <td>0.598143</td>\n      <td>0.669868</td>\n      <td>0.606178</td>\n    </tr>\n    <tr>\n      <th>10</th>\n      <td>ANN (2,3)</td>\n      <td>0.618389</td>\n      <td>0.619181</td>\n      <td>0.62611</td>\n      <td>0.638601</td>\n      <td>0.607774</td>\n    </tr>\n    <tr>\n      <th>11</th>\n      <td>ANN (2,4)</td>\n      <td>0.62392</td>\n      <td>0.619864</td>\n      <td>0.621449</td>\n      <td>0.658153</td>\n      <td>0.617984</td>\n    </tr>\n    <tr>\n      <th>12</th>\n      <td>ANN (2,5)</td>\n      <td>0.613429</td>\n      <td>0.628155</td>\n      <td>0.624355</td>\n      <td>0.664968</td>\n      <td>0.60261</td>\n    </tr>\n    <tr>\n      <th>13</th>\n      <td>ANN (3,1)</td>\n      <td>0.641408</td>\n      <td>0.606638</td>\n      <td>0.631136</td>\n      <td>0.655393</td>\n      <td>0.531938</td>\n    </tr>\n    <tr>\n      <th>14</th>\n      <td>ANN (3,2)</td>\n      <td>0.605604</td>\n      <td>0.606071</td>\n      <td>0.615055</td>\n      <td>0.641306</td>\n      <td>0.595485</td>\n    </tr>\n    <tr>\n      <th>15</th>\n      <td>ANN (3,3)</td>\n      <td>0.630377</td>\n      <td>0.606402</td>\n      <td>0.633275</td>\n      <td>0.666541</td>\n      <td>0.605994</td>\n    </tr>\n    <tr>\n      <th>16</th>\n      <td>ANN (3,4)</td>\n      <td>0.612444</td>\n      <td>0.612388</td>\n      <td>0.625783</td>\n      <td>0.633982</td>\n      <td>0.604004</td>\n    </tr>\n    <tr>\n      <th>17</th>\n      <td>ANN (3,5)</td>\n      <td>0.621967</td>\n      <td>0.623652</td>\n      <td>0.627109</td>\n      <td>0.660466</td>\n      <td>0.600991</td>\n    </tr>\n    <tr>\n      <th>18</th>\n      <td>ANN (4,1)</td>\n      <td>0.620813</td>\n      <td>0.509633</td>\n      <td>0.618802</td>\n      <td>0.655007</td>\n      <td>0.60574</td>\n    </tr>\n    <tr>\n      <th>19</th>\n      <td>ANN (4,2)</td>\n      <td>0.631525</td>\n      <td>0.617279</td>\n      <td>0.629449</td>\n      <td>0.656082</td>\n      <td>0.622831</td>\n    </tr>\n    <tr>\n      <th>20</th>\n      <td>ANN (4,3)</td>\n      <td>0.628658</td>\n      <td>0.610646</td>\n      <td>0.616523</td>\n      <td>0.647516</td>\n      <td>0.607139</td>\n    </tr>\n    <tr>\n      <th>21</th>\n      <td>ANN (4,4)</td>\n      <td>0.624148</td>\n      <td>0.631722</td>\n      <td>0.62121</td>\n      <td>0.653248</td>\n      <td>0.599771</td>\n    </tr>\n    <tr>\n      <th>22</th>\n      <td>ANN (4,5)</td>\n      <td>0.624452</td>\n      <td>0.621175</td>\n      <td>0.613832</td>\n      <td>0.646344</td>\n      <td>0.609978</td>\n    </tr>\n    <tr>\n      <th>23</th>\n      <td>ANN (5,1)</td>\n      <td>0.636653</td>\n      <td>0.616833</td>\n      <td>0.627566</td>\n      <td>0.649687</td>\n      <td>0.581366</td>\n    </tr>\n    <tr>\n      <th>24</th>\n      <td>ANN (5,2)</td>\n      <td>0.631034</td>\n      <td>0.615484</td>\n      <td>0.63139</td>\n      <td>0.648284</td>\n      <td>0.609561</td>\n    </tr>\n    <tr>\n      <th>25</th>\n      <td>ANN (5,3)</td>\n      <td>0.621176</td>\n      <td>0.628417</td>\n      <td>0.630787</td>\n      <td>0.663508</td>\n      <td>0.614958</td>\n    </tr>\n    <tr>\n      <th>26</th>\n      <td>ANN (5,4)</td>\n      <td>0.630372</td>\n      <td>0.618857</td>\n      <td>0.631893</td>\n      <td>0.649897</td>\n      <td>0.594162</td>\n    </tr>\n    <tr>\n      <th>27</th>\n      <td>ANN (5,5)</td>\n      <td>0.624889</td>\n      <td>0.60706</td>\n      <td>0.628268</td>\n      <td>0.662665</td>\n      <td>0.603401</td>\n    </tr>\n  </tbody>\n</table>\n</div>"
     },
     "execution_count": 348,
     "metadata": {},
     "output_type": "execute_result"
    }
   ],
   "source": [
    "avg_results"
   ],
   "metadata": {
    "collapsed": false,
    "ExecuteTime": {
     "end_time": "2024-04-02T21:49:31.386766Z",
     "start_time": "2024-04-02T21:49:31.384746Z"
    }
   },
   "id": "bb9d1e64622dde99"
  },
  {
   "cell_type": "code",
   "execution_count": 349,
   "outputs": [],
   "source": [
    "avg_results.to_csv(avg_results_path + 'pd_' + dataset_name + '_classification_avg_results.csv', index=False)"
   ],
   "metadata": {
    "collapsed": false,
    "ExecuteTime": {
     "end_time": "2024-04-02T21:49:31.390771Z",
     "start_time": "2024-04-02T21:49:31.387048Z"
    }
   },
   "id": "a7798b34f05fae01"
  }
 ],
 "metadata": {
  "kernelspec": {
   "display_name": "Python 3",
   "language": "python",
   "name": "python3"
  },
  "language_info": {
   "codemirror_mode": {
    "name": "ipython",
    "version": 2
   },
   "file_extension": ".py",
   "mimetype": "text/x-python",
   "name": "python",
   "nbconvert_exporter": "python",
   "pygments_lexer": "ipython2",
   "version": "2.7.6"
  }
 },
 "nbformat": 4,
 "nbformat_minor": 5
}
