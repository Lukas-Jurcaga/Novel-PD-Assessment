{
 "cells": [
  {
   "cell_type": "code",
   "execution_count": 126,
   "outputs": [],
   "source": [
    "from Scripts.utils.pd_feature_selection_funcs import *\n",
    "from sklearn.linear_model import LogisticRegression\n",
    "from Scripts.utils.pd_feature_preprocessing_funcs import get_all_dataset_paths"
   ],
   "metadata": {
    "collapsed": false,
    "ExecuteTime": {
     "end_time": "2024-04-01T22:33:42.574012Z",
     "start_time": "2024-04-01T22:33:42.541420Z"
    }
   },
   "id": "a6fb1f2cc9cc2f1e"
  },
  {
   "cell_type": "markdown",
   "source": [
    "# Feature Selection\n",
    "In this notebook, features from the normalised datasets are selected using random forest feature importance, correlation and backwards elimination."
   ],
   "metadata": {
    "collapsed": false
   },
   "id": "5794ec7a715b7ab9"
  },
  {
   "cell_type": "code",
   "execution_count": 127,
   "id": "initial_id",
   "metadata": {
    "collapsed": true,
    "ExecuteTime": {
     "end_time": "2024-04-01T22:33:42.620180Z",
     "start_time": "2024-04-01T22:33:42.549213Z"
    }
   },
   "outputs": [],
   "source": [
    "final_dataset_path = '../../Study/Data/features/filtered/'\n",
    "all_norm_dataset_paths = get_all_dataset_paths('normalised')"
   ]
  },
  {
   "cell_type": "code",
   "execution_count": 128,
   "outputs": [
    {
     "data": {
      "text/plain": "['../../Study/Data/features/normalised/pd_500-250-windows_normalised_features.csv',\n '../../Study/Data/features/normalised/pd_500-500-windows_normalised_features.csv',\n '../../Study/Data/features/normalised/.DS_Store',\n '../../Study/Data/features/normalised/pd_5000-1000-windows_normalised_features.csv',\n '../../Study/Data/features/normalised/pd_1000-1000-windows_normalised_features.csv',\n '../../Study/Data/features/normalised/pd_whole_normalised_features.csv',\n '../../Study/Data/features/normalised/pd_1000-250-windows_normalised_features.csv',\n '../../Study/Data/features/normalised/pd_500-100-windows_normalised_features.csv',\n '../../Study/Data/features/normalised/pd_light-intervals-windows_normalised_features.csv',\n '../../Study/Data/features/normalised/pd_250-250-windows_normalised_features.csv']"
     },
     "execution_count": 128,
     "metadata": {},
     "output_type": "execute_result"
    }
   ],
   "source": [
    "all_norm_dataset_paths"
   ],
   "metadata": {
    "collapsed": false,
    "ExecuteTime": {
     "end_time": "2024-04-01T22:33:42.627602Z",
     "start_time": "2024-04-01T22:33:42.552593Z"
    }
   },
   "id": "7ac5467ea5e2c60e"
  },
  {
   "cell_type": "code",
   "execution_count": 154,
   "outputs": [],
   "source": [
    "dataset_path = all_norm_dataset_paths[8]"
   ],
   "metadata": {
    "collapsed": false,
    "ExecuteTime": {
     "end_time": "2024-04-01T22:34:27.075005Z",
     "start_time": "2024-04-01T22:34:27.065257Z"
    }
   },
   "id": "b28f2800e307d35"
  },
  {
   "cell_type": "code",
   "execution_count": 155,
   "outputs": [
    {
     "data": {
      "text/plain": "'../../Study/Data/features/normalised/pd_light-intervals-windows_normalised_features.csv'"
     },
     "execution_count": 155,
     "metadata": {},
     "output_type": "execute_result"
    }
   ],
   "source": [
    "dataset_path"
   ],
   "metadata": {
    "collapsed": false,
    "ExecuteTime": {
     "end_time": "2024-04-01T22:34:27.228138Z",
     "start_time": "2024-04-01T22:34:27.225256Z"
    }
   },
   "id": "4b2ddee9423bbd01"
  },
  {
   "cell_type": "code",
   "execution_count": 131,
   "outputs": [],
   "source": [
    "dataset_name = dataset_path.split('/')[-1:][0].split('_')[1]"
   ],
   "metadata": {
    "collapsed": false,
    "ExecuteTime": {
     "end_time": "2024-04-01T22:33:42.665875Z",
     "start_time": "2024-04-01T22:33:42.561315Z"
    }
   },
   "id": "6e5a158a7ccec4f"
  },
  {
   "cell_type": "code",
   "execution_count": 132,
   "outputs": [],
   "source": [
    "dataset_df = pd.read_csv(dataset_path)"
   ],
   "metadata": {
    "collapsed": false,
    "ExecuteTime": {
     "end_time": "2024-04-01T22:33:43.182963Z",
     "start_time": "2024-04-01T22:33:42.563708Z"
    }
   },
   "id": "89650f6d7960f457"
  },
  {
   "cell_type": "code",
   "execution_count": 133,
   "outputs": [],
   "source": [
    "# removing all on records to balance out dataset\n",
    "dataset_df = dataset_df[dataset_df['Medication_Class'] != 1]"
   ],
   "metadata": {
    "collapsed": false,
    "ExecuteTime": {
     "end_time": "2024-04-01T22:33:43.194312Z",
     "start_time": "2024-04-01T22:33:43.183041Z"
    }
   },
   "id": "542a6a12eca2f2c"
  },
  {
   "cell_type": "code",
   "execution_count": 134,
   "outputs": [
    {
     "data": {
      "text/plain": "       ID  PD_Class Hand  Medication_Class    Light  Median_SigComplete_VT  \\\n0      ax         0    r                -1  1.44478              -1.629159   \n1      ax         0    r                -1  1.44478              -1.621143   \n2      ax         0    r                -1  1.44478              -1.613223   \n3      ax         0    r                -1  1.44478              -1.605318   \n4      ax         0    r                -1  1.44478              -1.597318   \n...    ..       ...  ...               ...      ...                    ...   \n41684  ba         0    r                -1  1.44478               2.296058   \n41685  ba         0    r                -1  1.44478               2.304074   \n41686  ba         0    r                -1  1.44478               2.312027   \n41687  ba         0    r                -1  1.44478               2.319963   \n41688  ba         0    r                -1  1.44478               2.324011   \n\n       Range_SigComplete_VT  RMS_SigComplete_VT  RMSratio_SigComplete_VT  \\\n0                  0.249458           -1.626900                -0.683968   \n1                  0.267646           -1.619651                -0.679299   \n2                  0.249458           -1.612134                -0.676900   \n3                  0.267646           -1.604436                -0.673271   \n4                  0.267646           -1.596638                -0.669549   \n...                     ...                 ...                      ...   \n41684              0.267646            2.296185                -0.295681   \n41685              0.267646            2.304193                 0.599139   \n41686              0.267646            2.312149                 0.774452   \n41687              0.267646            2.320104                 0.880046   \n41688             -4.206642            2.324127                 0.887716   \n\n       FirstDerivativeMean_SigComplete_VT  ...  MeanFreq_Plom_Magnitude  \\\n0                               -1.085783  ...                -0.313031   \n1                               -1.241521  ...                -0.336015   \n2                               -1.477679  ...                -0.336015   \n3                               -1.632511  ...                -0.358922   \n4                               -1.632511  ...                -0.358922   \n...                                   ...  ...                      ...   \n41684                            1.131923  ...                -0.196961   \n41685                            1.131923  ...                -0.196961   \n41686                            1.131923  ...                -0.196961   \n41687                            1.131923  ...                -0.196961   \n41688                            1.205073  ...                 4.365612   \n\n       MedianFreq_Plom_Magnitude  SumPSD_Plom_Magnitude  \\\n0                      -0.313031              -0.239105   \n1                      -0.336015              -0.242252   \n2                      -0.336015              -0.242571   \n3                      -0.358922              -0.242939   \n4                      -0.358922              -0.242960   \n...                          ...                    ...   \n41684                  -0.196961              -0.008532   \n41685                  -0.196961              -0.235409   \n41686                  -0.196961              -0.241805   \n41687                  -0.196961              -0.242382   \n41688                   4.365612              -0.242803   \n\n       Moment2ndPSD_Plom_Magnitude  Moment3rdPSD_Plom_Magnitude  \\\n0                        -0.119080                    -0.073968   \n1                        -0.119080                    -0.073968   \n2                        -0.119080                    -0.073968   \n3                        -0.119080                    -0.073968   \n4                        -0.119080                    -0.073968   \n...                            ...                          ...   \n41684                    -0.116737                    -0.073944   \n41685                    -0.119073                    -0.073968   \n41686                    -0.119080                    -0.073968   \n41687                    -0.119080                    -0.073968   \n41688                    -0.119080                    -0.073968   \n\n       SkewnessPSD_Plom_Magnitude  KurtosisPSD_Plom_Magnitude  \\\n0                       -1.334237                   -1.204187   \n1                       -1.000839                   -1.004366   \n2                        0.213617                    0.163932   \n3                       -0.147051                   -0.030216   \n4                       -0.169625                   -0.203445   \n...                           ...                         ...   \n41684                   -1.150645                   -0.995524   \n41685                   -0.210570                   -0.388786   \n41686                   -0.953592                   -0.850727   \n41687                   -1.420799                   -1.242924   \n41688                   -1.526809                   -1.350332   \n\n       ZeroCrossingRate_Magnitude  ModeSignal_Magnitude  \\\n0                       -0.751223             -0.246123   \n1                       -0.751223             -0.036618   \n2                       -0.751223             -0.036618   \n3                       -0.751223             -0.036618   \n4                       -0.751223             -0.036618   \n...                           ...                   ...   \n41684                    0.858149             -0.979392   \n41685                    0.053463             -1.084144   \n41686                   -0.751223             -1.084144   \n41687                   -0.751223             -1.084144   \n41688                   -0.751223             -1.084144   \n\n       EnergySignal_Magnitude  \n0                   -0.282732  \n1                   -0.286194  \n2                   -0.284387  \n3                   -0.284643  \n4                   -0.284879  \n...                       ...  \n41684               -0.058010  \n41685               -0.274153  \n41686               -0.279154  \n41687               -0.281372  \n41688               -0.285230  \n\n[27305 rows x 173 columns]",
      "text/html": "<div>\n<style scoped>\n    .dataframe tbody tr th:only-of-type {\n        vertical-align: middle;\n    }\n\n    .dataframe tbody tr th {\n        vertical-align: top;\n    }\n\n    .dataframe thead th {\n        text-align: right;\n    }\n</style>\n<table border=\"1\" class=\"dataframe\">\n  <thead>\n    <tr style=\"text-align: right;\">\n      <th></th>\n      <th>ID</th>\n      <th>PD_Class</th>\n      <th>Hand</th>\n      <th>Medication_Class</th>\n      <th>Light</th>\n      <th>Median_SigComplete_VT</th>\n      <th>Range_SigComplete_VT</th>\n      <th>RMS_SigComplete_VT</th>\n      <th>RMSratio_SigComplete_VT</th>\n      <th>FirstDerivativeMean_SigComplete_VT</th>\n      <th>...</th>\n      <th>MeanFreq_Plom_Magnitude</th>\n      <th>MedianFreq_Plom_Magnitude</th>\n      <th>SumPSD_Plom_Magnitude</th>\n      <th>Moment2ndPSD_Plom_Magnitude</th>\n      <th>Moment3rdPSD_Plom_Magnitude</th>\n      <th>SkewnessPSD_Plom_Magnitude</th>\n      <th>KurtosisPSD_Plom_Magnitude</th>\n      <th>ZeroCrossingRate_Magnitude</th>\n      <th>ModeSignal_Magnitude</th>\n      <th>EnergySignal_Magnitude</th>\n    </tr>\n  </thead>\n  <tbody>\n    <tr>\n      <th>0</th>\n      <td>ax</td>\n      <td>0</td>\n      <td>r</td>\n      <td>-1</td>\n      <td>1.44478</td>\n      <td>-1.629159</td>\n      <td>0.249458</td>\n      <td>-1.626900</td>\n      <td>-0.683968</td>\n      <td>-1.085783</td>\n      <td>...</td>\n      <td>-0.313031</td>\n      <td>-0.313031</td>\n      <td>-0.239105</td>\n      <td>-0.119080</td>\n      <td>-0.073968</td>\n      <td>-1.334237</td>\n      <td>-1.204187</td>\n      <td>-0.751223</td>\n      <td>-0.246123</td>\n      <td>-0.282732</td>\n    </tr>\n    <tr>\n      <th>1</th>\n      <td>ax</td>\n      <td>0</td>\n      <td>r</td>\n      <td>-1</td>\n      <td>1.44478</td>\n      <td>-1.621143</td>\n      <td>0.267646</td>\n      <td>-1.619651</td>\n      <td>-0.679299</td>\n      <td>-1.241521</td>\n      <td>...</td>\n      <td>-0.336015</td>\n      <td>-0.336015</td>\n      <td>-0.242252</td>\n      <td>-0.119080</td>\n      <td>-0.073968</td>\n      <td>-1.000839</td>\n      <td>-1.004366</td>\n      <td>-0.751223</td>\n      <td>-0.036618</td>\n      <td>-0.286194</td>\n    </tr>\n    <tr>\n      <th>2</th>\n      <td>ax</td>\n      <td>0</td>\n      <td>r</td>\n      <td>-1</td>\n      <td>1.44478</td>\n      <td>-1.613223</td>\n      <td>0.249458</td>\n      <td>-1.612134</td>\n      <td>-0.676900</td>\n      <td>-1.477679</td>\n      <td>...</td>\n      <td>-0.336015</td>\n      <td>-0.336015</td>\n      <td>-0.242571</td>\n      <td>-0.119080</td>\n      <td>-0.073968</td>\n      <td>0.213617</td>\n      <td>0.163932</td>\n      <td>-0.751223</td>\n      <td>-0.036618</td>\n      <td>-0.284387</td>\n    </tr>\n    <tr>\n      <th>3</th>\n      <td>ax</td>\n      <td>0</td>\n      <td>r</td>\n      <td>-1</td>\n      <td>1.44478</td>\n      <td>-1.605318</td>\n      <td>0.267646</td>\n      <td>-1.604436</td>\n      <td>-0.673271</td>\n      <td>-1.632511</td>\n      <td>...</td>\n      <td>-0.358922</td>\n      <td>-0.358922</td>\n      <td>-0.242939</td>\n      <td>-0.119080</td>\n      <td>-0.073968</td>\n      <td>-0.147051</td>\n      <td>-0.030216</td>\n      <td>-0.751223</td>\n      <td>-0.036618</td>\n      <td>-0.284643</td>\n    </tr>\n    <tr>\n      <th>4</th>\n      <td>ax</td>\n      <td>0</td>\n      <td>r</td>\n      <td>-1</td>\n      <td>1.44478</td>\n      <td>-1.597318</td>\n      <td>0.267646</td>\n      <td>-1.596638</td>\n      <td>-0.669549</td>\n      <td>-1.632511</td>\n      <td>...</td>\n      <td>-0.358922</td>\n      <td>-0.358922</td>\n      <td>-0.242960</td>\n      <td>-0.119080</td>\n      <td>-0.073968</td>\n      <td>-0.169625</td>\n      <td>-0.203445</td>\n      <td>-0.751223</td>\n      <td>-0.036618</td>\n      <td>-0.284879</td>\n    </tr>\n    <tr>\n      <th>...</th>\n      <td>...</td>\n      <td>...</td>\n      <td>...</td>\n      <td>...</td>\n      <td>...</td>\n      <td>...</td>\n      <td>...</td>\n      <td>...</td>\n      <td>...</td>\n      <td>...</td>\n      <td>...</td>\n      <td>...</td>\n      <td>...</td>\n      <td>...</td>\n      <td>...</td>\n      <td>...</td>\n      <td>...</td>\n      <td>...</td>\n      <td>...</td>\n      <td>...</td>\n      <td>...</td>\n    </tr>\n    <tr>\n      <th>41684</th>\n      <td>ba</td>\n      <td>0</td>\n      <td>r</td>\n      <td>-1</td>\n      <td>1.44478</td>\n      <td>2.296058</td>\n      <td>0.267646</td>\n      <td>2.296185</td>\n      <td>-0.295681</td>\n      <td>1.131923</td>\n      <td>...</td>\n      <td>-0.196961</td>\n      <td>-0.196961</td>\n      <td>-0.008532</td>\n      <td>-0.116737</td>\n      <td>-0.073944</td>\n      <td>-1.150645</td>\n      <td>-0.995524</td>\n      <td>0.858149</td>\n      <td>-0.979392</td>\n      <td>-0.058010</td>\n    </tr>\n    <tr>\n      <th>41685</th>\n      <td>ba</td>\n      <td>0</td>\n      <td>r</td>\n      <td>-1</td>\n      <td>1.44478</td>\n      <td>2.304074</td>\n      <td>0.267646</td>\n      <td>2.304193</td>\n      <td>0.599139</td>\n      <td>1.131923</td>\n      <td>...</td>\n      <td>-0.196961</td>\n      <td>-0.196961</td>\n      <td>-0.235409</td>\n      <td>-0.119073</td>\n      <td>-0.073968</td>\n      <td>-0.210570</td>\n      <td>-0.388786</td>\n      <td>0.053463</td>\n      <td>-1.084144</td>\n      <td>-0.274153</td>\n    </tr>\n    <tr>\n      <th>41686</th>\n      <td>ba</td>\n      <td>0</td>\n      <td>r</td>\n      <td>-1</td>\n      <td>1.44478</td>\n      <td>2.312027</td>\n      <td>0.267646</td>\n      <td>2.312149</td>\n      <td>0.774452</td>\n      <td>1.131923</td>\n      <td>...</td>\n      <td>-0.196961</td>\n      <td>-0.196961</td>\n      <td>-0.241805</td>\n      <td>-0.119080</td>\n      <td>-0.073968</td>\n      <td>-0.953592</td>\n      <td>-0.850727</td>\n      <td>-0.751223</td>\n      <td>-1.084144</td>\n      <td>-0.279154</td>\n    </tr>\n    <tr>\n      <th>41687</th>\n      <td>ba</td>\n      <td>0</td>\n      <td>r</td>\n      <td>-1</td>\n      <td>1.44478</td>\n      <td>2.319963</td>\n      <td>0.267646</td>\n      <td>2.320104</td>\n      <td>0.880046</td>\n      <td>1.131923</td>\n      <td>...</td>\n      <td>-0.196961</td>\n      <td>-0.196961</td>\n      <td>-0.242382</td>\n      <td>-0.119080</td>\n      <td>-0.073968</td>\n      <td>-1.420799</td>\n      <td>-1.242924</td>\n      <td>-0.751223</td>\n      <td>-1.084144</td>\n      <td>-0.281372</td>\n    </tr>\n    <tr>\n      <th>41688</th>\n      <td>ba</td>\n      <td>0</td>\n      <td>r</td>\n      <td>-1</td>\n      <td>1.44478</td>\n      <td>2.324011</td>\n      <td>-4.206642</td>\n      <td>2.324127</td>\n      <td>0.887716</td>\n      <td>1.205073</td>\n      <td>...</td>\n      <td>4.365612</td>\n      <td>4.365612</td>\n      <td>-0.242803</td>\n      <td>-0.119080</td>\n      <td>-0.073968</td>\n      <td>-1.526809</td>\n      <td>-1.350332</td>\n      <td>-0.751223</td>\n      <td>-1.084144</td>\n      <td>-0.285230</td>\n    </tr>\n  </tbody>\n</table>\n<p>27305 rows × 173 columns</p>\n</div>"
     },
     "execution_count": 134,
     "metadata": {},
     "output_type": "execute_result"
    }
   ],
   "source": [
    "dataset_df"
   ],
   "metadata": {
    "collapsed": false,
    "ExecuteTime": {
     "end_time": "2024-04-01T22:33:43.207342Z",
     "start_time": "2024-04-01T22:33:43.195152Z"
    }
   },
   "id": "1db61905c9ffa5d2"
  },
  {
   "cell_type": "markdown",
   "source": [
    "## Random Forest Feature Importance Selection"
   ],
   "metadata": {
    "collapsed": false
   },
   "id": "35a24b18b3c8516"
  },
  {
   "cell_type": "code",
   "execution_count": 135,
   "outputs": [],
   "source": [
    "# Gets the features and target values from each dataset\n",
    "dataset_features = dataset_df.iloc[:, 4:]\n",
    "dataset_target = dataset_df['PD_Class']"
   ],
   "metadata": {
    "collapsed": false,
    "ExecuteTime": {
     "end_time": "2024-04-01T22:33:43.222587Z",
     "start_time": "2024-04-01T22:33:43.204299Z"
    }
   },
   "id": "13f6c4a2ddd43f14"
  },
  {
   "cell_type": "markdown",
   "source": [
    "### Feature Importance Metric Calculation"
   ],
   "metadata": {
    "collapsed": false
   },
   "id": "f684510f93072a1f"
  },
  {
   "cell_type": "code",
   "execution_count": 136,
   "outputs": [],
   "source": [
    "# feature importance is extracted via a random forest classifier\n",
    "# each run may produce varying results\n",
    "dataset_feature_importance = get_feature_importance(dataset_features, dataset_target)"
   ],
   "metadata": {
    "collapsed": false,
    "ExecuteTime": {
     "end_time": "2024-04-01T22:33:57.777560Z",
     "start_time": "2024-04-01T22:33:43.210778Z"
    }
   },
   "id": "eccd9635e205dca9"
  },
  {
   "cell_type": "code",
   "execution_count": 137,
   "outputs": [
    {
     "data": {
      "text/plain": "array([2.44887848e-03, 6.88484224e-03, 8.22358213e-04, 7.38949614e-03,\n       7.78203784e-03, 6.82519782e-03, 5.27121500e-04, 5.62859759e-03,\n       5.83559361e-03, 7.21918252e-03, 4.89816353e-03, 4.86506832e-04,\n       7.89568019e-03, 1.70813747e-02, 3.49934900e-03, 2.07375837e-02,\n       9.33148535e-03, 2.74955188e-03, 3.03741791e-03, 6.52781864e-03,\n       2.48443158e-03, 3.64094408e-03, 2.55923713e-03, 6.14400120e-03,\n       1.28744504e-02, 5.91269388e-03, 1.15877383e-02, 1.00740893e-02,\n       3.97415876e-03, 2.63618524e-03, 6.86808793e-03, 3.04910803e-03,\n       4.09564150e-03, 3.69814910e-03, 7.53191565e-03, 9.53787595e-03,\n       4.12718999e-03, 7.84727365e-03, 4.04625637e-03, 3.23194093e-03,\n       6.98171937e-03, 3.94098629e-03, 6.41741291e-03, 5.29808173e-03,\n       4.65923497e-03, 2.82463587e-03, 7.31100554e-03, 7.10425767e-03,\n       3.13378964e-03, 6.82239849e-03, 3.91099134e-03, 3.31326957e-03,\n       1.62190123e-03, 7.17482559e-03, 6.65408685e-03, 7.03196103e-03,\n       6.44190070e-03, 6.30419495e-03, 5.31245401e-04, 3.53304587e-03,\n       4.47013803e-03, 5.58676426e-03, 5.90677538e-03, 5.54733402e-03,\n       3.06871658e-03, 4.82966443e-03, 2.03432726e-03, 2.07698446e-03,\n       3.39155924e-03, 3.00039004e-03, 3.11096775e-03, 5.62111510e-03,\n       5.54114775e-03, 1.96989402e-05, 6.56855601e-03, 7.09209121e-03,\n       1.87814455e-02, 7.37581461e-03, 5.36402485e-03, 9.18938476e-03,\n       8.02295827e-03, 2.12006605e-03, 4.38007485e-03, 6.56709642e-03,\n       7.95948089e-03, 8.17166527e-03, 8.03873952e-03, 0.00000000e+00,\n       6.29306495e-05, 4.08115919e-03, 4.00655478e-03, 5.25241844e-03,\n       2.42257825e-03, 3.61895237e-03, 3.53756063e-03, 7.38084539e-03,\n       6.49483457e-03, 2.51059839e-03, 1.96051014e-03, 6.69471707e-03,\n       1.73051337e-03, 1.29738340e-03, 8.03360819e-03, 7.46045918e-03,\n       2.60189633e-04, 1.53321112e-02, 9.33683734e-03, 1.58676398e-02,\n       1.04904739e-02, 7.73949935e-03, 5.65589054e-03, 6.60458299e-03,\n       2.71323221e-03, 9.73371505e-03, 8.01774783e-03, 1.05365050e-02,\n       1.05364384e-02, 1.29484675e-02, 8.45969318e-04, 1.40326965e-04,\n       6.98725564e-03, 6.61304260e-03, 9.54525940e-03, 6.85634448e-04,\n       4.50798930e-03, 4.69238338e-03, 8.74111222e-03, 7.01181038e-03,\n       2.56126841e-03, 2.10800418e-03, 9.69963685e-03, 2.67127260e-03,\n       1.58312682e-03, 1.58233970e-02, 1.17307337e-02, 2.95848281e-03,\n       1.10328511e-02, 1.39880066e-02, 1.13709386e-02, 7.52621167e-03,\n       6.45652031e-03, 5.89756477e-03, 6.09681192e-03, 4.06213547e-03,\n       8.01952535e-03, 6.71272585e-03, 9.14448401e-03, 6.72302682e-03,\n       7.36956219e-03, 1.05294105e-03, 2.61828145e-04, 1.01445439e-02,\n       8.06056195e-03, 7.57545647e-03, 2.97713025e-04, 4.44674754e-03,\n       4.55310942e-03, 6.73705791e-03, 7.26890663e-03, 2.11324458e-03,\n       2.16675979e-03, 7.55117067e-03, 2.70365938e-03, 1.22895572e-03,\n       1.08031200e-02, 9.86240460e-03, 3.73687391e-03, 7.98252055e-03,\n       7.44886633e-03])"
     },
     "execution_count": 137,
     "metadata": {},
     "output_type": "execute_result"
    }
   ],
   "source": [
    "dataset_feature_importance"
   ],
   "metadata": {
    "collapsed": false,
    "ExecuteTime": {
     "end_time": "2024-04-01T22:33:57.781018Z",
     "start_time": "2024-04-01T22:33:57.778378Z"
    }
   },
   "id": "c074c128e098f89a"
  },
  {
   "cell_type": "code",
   "execution_count": 138,
   "outputs": [],
   "source": [
    "# Getting feature importance for dataset\n",
    "# threshold is set very low to reduce only the least significant features\n",
    "dataset_best_features = get_fi_best_features(dataset_features, dataset_feature_importance, fi_threshold=0.0005)"
   ],
   "metadata": {
    "collapsed": false,
    "ExecuteTime": {
     "end_time": "2024-04-01T22:33:57.782075Z",
     "start_time": "2024-04-01T22:33:57.780674Z"
    }
   },
   "id": "e22285efd28ffc4a"
  },
  {
   "cell_type": "code",
   "execution_count": 139,
   "outputs": [
    {
     "name": "stdout",
     "output_type": "stream",
     "text": [
      "Number of best features for dataset: 161\n"
     ]
    }
   ],
   "source": [
    "print(\"Number of best features for dataset: \" + str(len(dataset_best_features)))"
   ],
   "metadata": {
    "collapsed": false,
    "ExecuteTime": {
     "end_time": "2024-04-01T22:33:57.784463Z",
     "start_time": "2024-04-01T22:33:57.782660Z"
    }
   },
   "id": "88e80ec89c17af94"
  },
  {
   "cell_type": "markdown",
   "source": [
    "### Filtering the Dataset based on Feature Importance"
   ],
   "metadata": {
    "collapsed": false
   },
   "id": "d93287f2e40dca23"
  },
  {
   "cell_type": "code",
   "execution_count": 140,
   "outputs": [],
   "source": [
    "# Keeping only the best features based on feature importance\n",
    "filtered_dataset_df = pd.concat([dataset_df.iloc[:, :4], dataset_df[dataset_best_features].copy()], axis=1)"
   ],
   "metadata": {
    "collapsed": false,
    "ExecuteTime": {
     "end_time": "2024-04-01T22:33:57.806014Z",
     "start_time": "2024-04-01T22:33:57.787094Z"
    }
   },
   "id": "790be2df844bf0c9"
  },
  {
   "cell_type": "code",
   "execution_count": 141,
   "outputs": [
    {
     "data": {
      "text/plain": "       ID  PD_Class Hand  Medication_Class    Light  Median_SigComplete_VT  \\\n0      ax         0    r                -1  1.44478              -1.629159   \n1      ax         0    r                -1  1.44478              -1.621143   \n2      ax         0    r                -1  1.44478              -1.613223   \n3      ax         0    r                -1  1.44478              -1.605318   \n4      ax         0    r                -1  1.44478              -1.597318   \n...    ..       ...  ...               ...      ...                    ...   \n41684  ba         0    r                -1  1.44478               2.296058   \n41685  ba         0    r                -1  1.44478               2.304074   \n41686  ba         0    r                -1  1.44478               2.312027   \n41687  ba         0    r                -1  1.44478               2.319963   \n41688  ba         0    r                -1  1.44478               2.324011   \n\n       Range_SigComplete_VT  RMS_SigComplete_VT  RMSratio_SigComplete_VT  \\\n0                  0.249458           -1.626900                -0.683968   \n1                  0.267646           -1.619651                -0.679299   \n2                  0.249458           -1.612134                -0.676900   \n3                  0.267646           -1.604436                -0.673271   \n4                  0.267646           -1.596638                -0.669549   \n...                     ...                 ...                      ...   \n41684              0.267646            2.296185                -0.295681   \n41685              0.267646            2.304193                 0.599139   \n41686              0.267646            2.312149                 0.774452   \n41687              0.267646            2.320104                 0.880046   \n41688             -4.206642            2.324127                 0.887716   \n\n       FirstDerivativeMean_SigComplete_VT  ...  MeanFreq_Plom_Magnitude  \\\n0                               -1.085783  ...                -0.313031   \n1                               -1.241521  ...                -0.336015   \n2                               -1.477679  ...                -0.336015   \n3                               -1.632511  ...                -0.358922   \n4                               -1.632511  ...                -0.358922   \n...                                   ...  ...                      ...   \n41684                            1.131923  ...                -0.196961   \n41685                            1.131923  ...                -0.196961   \n41686                            1.131923  ...                -0.196961   \n41687                            1.131923  ...                -0.196961   \n41688                            1.205073  ...                 4.365612   \n\n       MedianFreq_Plom_Magnitude  SumPSD_Plom_Magnitude  \\\n0                      -0.313031              -0.239105   \n1                      -0.336015              -0.242252   \n2                      -0.336015              -0.242571   \n3                      -0.358922              -0.242939   \n4                      -0.358922              -0.242960   \n...                          ...                    ...   \n41684                  -0.196961              -0.008532   \n41685                  -0.196961              -0.235409   \n41686                  -0.196961              -0.241805   \n41687                  -0.196961              -0.242382   \n41688                   4.365612              -0.242803   \n\n       Moment2ndPSD_Plom_Magnitude  Moment3rdPSD_Plom_Magnitude  \\\n0                        -0.119080                    -0.073968   \n1                        -0.119080                    -0.073968   \n2                        -0.119080                    -0.073968   \n3                        -0.119080                    -0.073968   \n4                        -0.119080                    -0.073968   \n...                            ...                          ...   \n41684                    -0.116737                    -0.073944   \n41685                    -0.119073                    -0.073968   \n41686                    -0.119080                    -0.073968   \n41687                    -0.119080                    -0.073968   \n41688                    -0.119080                    -0.073968   \n\n       SkewnessPSD_Plom_Magnitude  KurtosisPSD_Plom_Magnitude  \\\n0                       -1.334237                   -1.204187   \n1                       -1.000839                   -1.004366   \n2                        0.213617                    0.163932   \n3                       -0.147051                   -0.030216   \n4                       -0.169625                   -0.203445   \n...                           ...                         ...   \n41684                   -1.150645                   -0.995524   \n41685                   -0.210570                   -0.388786   \n41686                   -0.953592                   -0.850727   \n41687                   -1.420799                   -1.242924   \n41688                   -1.526809                   -1.350332   \n\n       ZeroCrossingRate_Magnitude  ModeSignal_Magnitude  \\\n0                       -0.751223             -0.246123   \n1                       -0.751223             -0.036618   \n2                       -0.751223             -0.036618   \n3                       -0.751223             -0.036618   \n4                       -0.751223             -0.036618   \n...                           ...                   ...   \n41684                    0.858149             -0.979392   \n41685                    0.053463             -1.084144   \n41686                   -0.751223             -1.084144   \n41687                   -0.751223             -1.084144   \n41688                   -0.751223             -1.084144   \n\n       EnergySignal_Magnitude  \n0                   -0.282732  \n1                   -0.286194  \n2                   -0.284387  \n3                   -0.284643  \n4                   -0.284879  \n...                       ...  \n41684               -0.058010  \n41685               -0.274153  \n41686               -0.279154  \n41687               -0.281372  \n41688               -0.285230  \n\n[27305 rows x 165 columns]",
      "text/html": "<div>\n<style scoped>\n    .dataframe tbody tr th:only-of-type {\n        vertical-align: middle;\n    }\n\n    .dataframe tbody tr th {\n        vertical-align: top;\n    }\n\n    .dataframe thead th {\n        text-align: right;\n    }\n</style>\n<table border=\"1\" class=\"dataframe\">\n  <thead>\n    <tr style=\"text-align: right;\">\n      <th></th>\n      <th>ID</th>\n      <th>PD_Class</th>\n      <th>Hand</th>\n      <th>Medication_Class</th>\n      <th>Light</th>\n      <th>Median_SigComplete_VT</th>\n      <th>Range_SigComplete_VT</th>\n      <th>RMS_SigComplete_VT</th>\n      <th>RMSratio_SigComplete_VT</th>\n      <th>FirstDerivativeMean_SigComplete_VT</th>\n      <th>...</th>\n      <th>MeanFreq_Plom_Magnitude</th>\n      <th>MedianFreq_Plom_Magnitude</th>\n      <th>SumPSD_Plom_Magnitude</th>\n      <th>Moment2ndPSD_Plom_Magnitude</th>\n      <th>Moment3rdPSD_Plom_Magnitude</th>\n      <th>SkewnessPSD_Plom_Magnitude</th>\n      <th>KurtosisPSD_Plom_Magnitude</th>\n      <th>ZeroCrossingRate_Magnitude</th>\n      <th>ModeSignal_Magnitude</th>\n      <th>EnergySignal_Magnitude</th>\n    </tr>\n  </thead>\n  <tbody>\n    <tr>\n      <th>0</th>\n      <td>ax</td>\n      <td>0</td>\n      <td>r</td>\n      <td>-1</td>\n      <td>1.44478</td>\n      <td>-1.629159</td>\n      <td>0.249458</td>\n      <td>-1.626900</td>\n      <td>-0.683968</td>\n      <td>-1.085783</td>\n      <td>...</td>\n      <td>-0.313031</td>\n      <td>-0.313031</td>\n      <td>-0.239105</td>\n      <td>-0.119080</td>\n      <td>-0.073968</td>\n      <td>-1.334237</td>\n      <td>-1.204187</td>\n      <td>-0.751223</td>\n      <td>-0.246123</td>\n      <td>-0.282732</td>\n    </tr>\n    <tr>\n      <th>1</th>\n      <td>ax</td>\n      <td>0</td>\n      <td>r</td>\n      <td>-1</td>\n      <td>1.44478</td>\n      <td>-1.621143</td>\n      <td>0.267646</td>\n      <td>-1.619651</td>\n      <td>-0.679299</td>\n      <td>-1.241521</td>\n      <td>...</td>\n      <td>-0.336015</td>\n      <td>-0.336015</td>\n      <td>-0.242252</td>\n      <td>-0.119080</td>\n      <td>-0.073968</td>\n      <td>-1.000839</td>\n      <td>-1.004366</td>\n      <td>-0.751223</td>\n      <td>-0.036618</td>\n      <td>-0.286194</td>\n    </tr>\n    <tr>\n      <th>2</th>\n      <td>ax</td>\n      <td>0</td>\n      <td>r</td>\n      <td>-1</td>\n      <td>1.44478</td>\n      <td>-1.613223</td>\n      <td>0.249458</td>\n      <td>-1.612134</td>\n      <td>-0.676900</td>\n      <td>-1.477679</td>\n      <td>...</td>\n      <td>-0.336015</td>\n      <td>-0.336015</td>\n      <td>-0.242571</td>\n      <td>-0.119080</td>\n      <td>-0.073968</td>\n      <td>0.213617</td>\n      <td>0.163932</td>\n      <td>-0.751223</td>\n      <td>-0.036618</td>\n      <td>-0.284387</td>\n    </tr>\n    <tr>\n      <th>3</th>\n      <td>ax</td>\n      <td>0</td>\n      <td>r</td>\n      <td>-1</td>\n      <td>1.44478</td>\n      <td>-1.605318</td>\n      <td>0.267646</td>\n      <td>-1.604436</td>\n      <td>-0.673271</td>\n      <td>-1.632511</td>\n      <td>...</td>\n      <td>-0.358922</td>\n      <td>-0.358922</td>\n      <td>-0.242939</td>\n      <td>-0.119080</td>\n      <td>-0.073968</td>\n      <td>-0.147051</td>\n      <td>-0.030216</td>\n      <td>-0.751223</td>\n      <td>-0.036618</td>\n      <td>-0.284643</td>\n    </tr>\n    <tr>\n      <th>4</th>\n      <td>ax</td>\n      <td>0</td>\n      <td>r</td>\n      <td>-1</td>\n      <td>1.44478</td>\n      <td>-1.597318</td>\n      <td>0.267646</td>\n      <td>-1.596638</td>\n      <td>-0.669549</td>\n      <td>-1.632511</td>\n      <td>...</td>\n      <td>-0.358922</td>\n      <td>-0.358922</td>\n      <td>-0.242960</td>\n      <td>-0.119080</td>\n      <td>-0.073968</td>\n      <td>-0.169625</td>\n      <td>-0.203445</td>\n      <td>-0.751223</td>\n      <td>-0.036618</td>\n      <td>-0.284879</td>\n    </tr>\n    <tr>\n      <th>...</th>\n      <td>...</td>\n      <td>...</td>\n      <td>...</td>\n      <td>...</td>\n      <td>...</td>\n      <td>...</td>\n      <td>...</td>\n      <td>...</td>\n      <td>...</td>\n      <td>...</td>\n      <td>...</td>\n      <td>...</td>\n      <td>...</td>\n      <td>...</td>\n      <td>...</td>\n      <td>...</td>\n      <td>...</td>\n      <td>...</td>\n      <td>...</td>\n      <td>...</td>\n      <td>...</td>\n    </tr>\n    <tr>\n      <th>41684</th>\n      <td>ba</td>\n      <td>0</td>\n      <td>r</td>\n      <td>-1</td>\n      <td>1.44478</td>\n      <td>2.296058</td>\n      <td>0.267646</td>\n      <td>2.296185</td>\n      <td>-0.295681</td>\n      <td>1.131923</td>\n      <td>...</td>\n      <td>-0.196961</td>\n      <td>-0.196961</td>\n      <td>-0.008532</td>\n      <td>-0.116737</td>\n      <td>-0.073944</td>\n      <td>-1.150645</td>\n      <td>-0.995524</td>\n      <td>0.858149</td>\n      <td>-0.979392</td>\n      <td>-0.058010</td>\n    </tr>\n    <tr>\n      <th>41685</th>\n      <td>ba</td>\n      <td>0</td>\n      <td>r</td>\n      <td>-1</td>\n      <td>1.44478</td>\n      <td>2.304074</td>\n      <td>0.267646</td>\n      <td>2.304193</td>\n      <td>0.599139</td>\n      <td>1.131923</td>\n      <td>...</td>\n      <td>-0.196961</td>\n      <td>-0.196961</td>\n      <td>-0.235409</td>\n      <td>-0.119073</td>\n      <td>-0.073968</td>\n      <td>-0.210570</td>\n      <td>-0.388786</td>\n      <td>0.053463</td>\n      <td>-1.084144</td>\n      <td>-0.274153</td>\n    </tr>\n    <tr>\n      <th>41686</th>\n      <td>ba</td>\n      <td>0</td>\n      <td>r</td>\n      <td>-1</td>\n      <td>1.44478</td>\n      <td>2.312027</td>\n      <td>0.267646</td>\n      <td>2.312149</td>\n      <td>0.774452</td>\n      <td>1.131923</td>\n      <td>...</td>\n      <td>-0.196961</td>\n      <td>-0.196961</td>\n      <td>-0.241805</td>\n      <td>-0.119080</td>\n      <td>-0.073968</td>\n      <td>-0.953592</td>\n      <td>-0.850727</td>\n      <td>-0.751223</td>\n      <td>-1.084144</td>\n      <td>-0.279154</td>\n    </tr>\n    <tr>\n      <th>41687</th>\n      <td>ba</td>\n      <td>0</td>\n      <td>r</td>\n      <td>-1</td>\n      <td>1.44478</td>\n      <td>2.319963</td>\n      <td>0.267646</td>\n      <td>2.320104</td>\n      <td>0.880046</td>\n      <td>1.131923</td>\n      <td>...</td>\n      <td>-0.196961</td>\n      <td>-0.196961</td>\n      <td>-0.242382</td>\n      <td>-0.119080</td>\n      <td>-0.073968</td>\n      <td>-1.420799</td>\n      <td>-1.242924</td>\n      <td>-0.751223</td>\n      <td>-1.084144</td>\n      <td>-0.281372</td>\n    </tr>\n    <tr>\n      <th>41688</th>\n      <td>ba</td>\n      <td>0</td>\n      <td>r</td>\n      <td>-1</td>\n      <td>1.44478</td>\n      <td>2.324011</td>\n      <td>-4.206642</td>\n      <td>2.324127</td>\n      <td>0.887716</td>\n      <td>1.205073</td>\n      <td>...</td>\n      <td>4.365612</td>\n      <td>4.365612</td>\n      <td>-0.242803</td>\n      <td>-0.119080</td>\n      <td>-0.073968</td>\n      <td>-1.526809</td>\n      <td>-1.350332</td>\n      <td>-0.751223</td>\n      <td>-1.084144</td>\n      <td>-0.285230</td>\n    </tr>\n  </tbody>\n</table>\n<p>27305 rows × 165 columns</p>\n</div>"
     },
     "execution_count": 141,
     "metadata": {},
     "output_type": "execute_result"
    }
   ],
   "source": [
    "filtered_dataset_df"
   ],
   "metadata": {
    "collapsed": false,
    "ExecuteTime": {
     "end_time": "2024-04-01T22:33:57.821870Z",
     "start_time": "2024-04-01T22:33:57.798974Z"
    }
   },
   "id": "d493257d8aa3a418"
  },
  {
   "cell_type": "markdown",
   "source": [
    "## Correlation Coefficient Selection"
   ],
   "metadata": {
    "collapsed": false
   },
   "id": "e80adcf402d3dacc"
  },
  {
   "cell_type": "markdown",
   "source": [
    "### Finding Redundant Features "
   ],
   "metadata": {
    "collapsed": false
   },
   "id": "4a966593e9de4e48"
  },
  {
   "cell_type": "code",
   "execution_count": 142,
   "outputs": [],
   "source": [
    "# Getting features which are redundant - correlates too much to another more important feature\n",
    "dataset_corr_redundant_features = get_corr_redundant_features(filtered_dataset_df.drop(columns=['ID', 'Hand', 'Medication_Class']), 'PD_Class')"
   ],
   "metadata": {
    "collapsed": false,
    "ExecuteTime": {
     "end_time": "2024-04-01T22:33:58.693328Z",
     "start_time": "2024-04-01T22:33:57.808723Z"
    }
   },
   "id": "1923aca3e0c81be1"
  },
  {
   "cell_type": "code",
   "execution_count": 143,
   "outputs": [
    {
     "name": "stdout",
     "output_type": "stream",
     "text": [
      "Number of redundant features for dataset: 128\n"
     ]
    }
   ],
   "source": [
    "print(\"Number of redundant features for dataset: \" + str(len(dataset_corr_redundant_features)))"
   ],
   "metadata": {
    "collapsed": false,
    "ExecuteTime": {
     "end_time": "2024-04-01T22:33:58.693511Z",
     "start_time": "2024-04-01T22:33:58.692872Z"
    }
   },
   "id": "cb6da0510dc45f46"
  },
  {
   "cell_type": "markdown",
   "source": [
    "### Removing Redundant Features from Dataset based on Correlation"
   ],
   "metadata": {
    "collapsed": false
   },
   "id": "9c493ad2a6fbb4ab"
  },
  {
   "cell_type": "code",
   "execution_count": 144,
   "outputs": [],
   "source": [
    "# filtering out redundant feature based on correlation\n",
    "filtered_dataset_df = filtered_dataset_df.drop(columns=dataset_corr_redundant_features)"
   ],
   "metadata": {
    "collapsed": false,
    "ExecuteTime": {
     "end_time": "2024-04-01T22:33:58.693549Z",
     "start_time": "2024-04-01T22:33:58.692969Z"
    }
   },
   "id": "245238ab05ebd4b9"
  },
  {
   "cell_type": "code",
   "execution_count": 145,
   "outputs": [
    {
     "data": {
      "text/plain": "       ID  PD_Class Hand  Medication_Class    Light  RMSratio_SigComplete_VT  \\\n0      ax         0    r                -1  1.44478                -0.683968   \n1      ax         0    r                -1  1.44478                -0.679299   \n2      ax         0    r                -1  1.44478                -0.676900   \n3      ax         0    r                -1  1.44478                -0.673271   \n4      ax         0    r                -1  1.44478                -0.669549   \n...    ..       ...  ...               ...      ...                      ...   \n41684  ba         0    r                -1  1.44478                -0.295681   \n41685  ba         0    r                -1  1.44478                 0.599139   \n41686  ba         0    r                -1  1.44478                 0.774452   \n41687  ba         0    r                -1  1.44478                 0.880046   \n41688  ba         0    r                -1  1.44478                 0.887716   \n\n       FirstDerivativeMean_SigComplete_VT  \\\n0                               -1.085783   \n1                               -1.241521   \n2                               -1.477679   \n3                               -1.632511   \n4                               -1.632511   \n...                                   ...   \n41684                            1.131923   \n41685                            1.131923   \n41686                            1.131923   \n41687                            1.131923   \n41688                            1.205073   \n\n       FirstDerivative_Kurtosis_SigComplete_VT  \\\n0                                     0.077698   \n1                                     0.075690   \n2                                    -0.115412   \n3                                    -0.116997   \n4                                    -0.116997   \n...                                        ...   \n41684                                -0.086202   \n41685                                -0.086202   \n41686                                -0.086202   \n41687                                -0.086202   \n41688                                -0.085312   \n\n       FirstDerivativeMean_SigComplete_ML  \\\n0                                0.012757   \n1                               -0.016937   \n2                                0.012757   \n3                                0.042403   \n4                               -0.016888   \n...                                   ...   \n41684                           -0.917023   \n41685                           -0.017236   \n41686                            0.102736   \n41687                            0.012757   \n41688                           -0.027033   \n\n       FirstDerivative_Moment3rd_SigComplete_ML  ...  \\\n0                                      0.042951  ...   \n1                                      0.042951  ...   \n2                                      0.042951  ...   \n3                                      0.042951  ...   \n4                                      0.042951  ...   \n...                                         ...  ...   \n41684                                  0.042366  ...   \n41685                                  0.042951  ...   \n41686                                  0.042951  ...   \n41687                                  0.042951  ...   \n41688                                  0.042951  ...   \n\n       RelativePower_5To10Hz_AP  RelativePower_AboveDomFr_AP  \\\n0                     -0.543854                     -0.01699   \n1                     -0.487736                     -0.01699   \n2                     -0.540033                     -0.01699   \n3                     -0.472653                     -0.01699   \n4                     -0.511081                     -0.01699   \n...                         ...                          ...   \n41684                  4.588981                     -0.01699   \n41685                 -0.419992                     -0.01699   \n41686                 -0.431249                     -0.01699   \n41687                 -0.496925                     -0.01699   \n41688                 -0.392111                     -0.01699   \n\n       Moment2ndPSD_Plom_AP  SkewnessPSD_Plom_AP  \\\n0                 -0.094941            -0.396022   \n1                 -0.094941             0.649559   \n2                 -0.094941             0.559425   \n3                 -0.094941            -0.775555   \n4                 -0.094941            -1.001580   \n...                     ...                  ...   \n41684             -0.091509            -0.647315   \n41685             -0.094935            -0.085267   \n41686             -0.094940            -0.033300   \n41687             -0.094941            -0.578576   \n41688             -0.094941            -0.916065   \n\n       Skewness_SigComplete_Magnitude  Kurtosis_SigComplete_Magnitude  \\\n0                            3.194668                        1.264729   \n1                            0.068687                       -0.278130   \n2                            0.130918                       -0.228231   \n3                            0.160301                       -0.232756   \n4                            0.180457                       -0.273160   \n...                               ...                             ...   \n41684                       -0.297425                        1.152003   \n41685                        0.415698                       -0.041594   \n41686                       -0.256817                       -0.277160   \n41687                       -0.484374                       -0.211051   \n41688                        0.155567                       -0.282907   \n\n       RelativePower_Below5Hz_Magnitude  RelativePower_5To10Hz_Magnitude  \\\n0                             -0.092979                         0.942985   \n1                             -0.676284                        -0.470143   \n2                             -0.484736                        -0.480413   \n3                             -0.815202                        -0.590434   \n4                             -0.905964                        -0.597159   \n...                                 ...                              ...   \n41684                         -0.170015                         3.967849   \n41685                         -0.356932                         1.345266   \n41686                         -0.508021                        -0.063521   \n41687                         -0.778505                        -0.481033   \n41688                         -0.895701                        -0.434682   \n\n       Moment2ndPSD_Plom_Magnitude  SkewnessPSD_Plom_Magnitude  \n0                        -0.119080                   -1.334237  \n1                        -0.119080                   -1.000839  \n2                        -0.119080                    0.213617  \n3                        -0.119080                   -0.147051  \n4                        -0.119080                   -0.169625  \n...                            ...                         ...  \n41684                    -0.116737                   -1.150645  \n41685                    -0.119073                   -0.210570  \n41686                    -0.119080                   -0.953592  \n41687                    -0.119080                   -1.420799  \n41688                    -0.119080                   -1.526809  \n\n[27305 rows x 37 columns]",
      "text/html": "<div>\n<style scoped>\n    .dataframe tbody tr th:only-of-type {\n        vertical-align: middle;\n    }\n\n    .dataframe tbody tr th {\n        vertical-align: top;\n    }\n\n    .dataframe thead th {\n        text-align: right;\n    }\n</style>\n<table border=\"1\" class=\"dataframe\">\n  <thead>\n    <tr style=\"text-align: right;\">\n      <th></th>\n      <th>ID</th>\n      <th>PD_Class</th>\n      <th>Hand</th>\n      <th>Medication_Class</th>\n      <th>Light</th>\n      <th>RMSratio_SigComplete_VT</th>\n      <th>FirstDerivativeMean_SigComplete_VT</th>\n      <th>FirstDerivative_Kurtosis_SigComplete_VT</th>\n      <th>FirstDerivativeMean_SigComplete_ML</th>\n      <th>FirstDerivative_Moment3rd_SigComplete_ML</th>\n      <th>...</th>\n      <th>RelativePower_5To10Hz_AP</th>\n      <th>RelativePower_AboveDomFr_AP</th>\n      <th>Moment2ndPSD_Plom_AP</th>\n      <th>SkewnessPSD_Plom_AP</th>\n      <th>Skewness_SigComplete_Magnitude</th>\n      <th>Kurtosis_SigComplete_Magnitude</th>\n      <th>RelativePower_Below5Hz_Magnitude</th>\n      <th>RelativePower_5To10Hz_Magnitude</th>\n      <th>Moment2ndPSD_Plom_Magnitude</th>\n      <th>SkewnessPSD_Plom_Magnitude</th>\n    </tr>\n  </thead>\n  <tbody>\n    <tr>\n      <th>0</th>\n      <td>ax</td>\n      <td>0</td>\n      <td>r</td>\n      <td>-1</td>\n      <td>1.44478</td>\n      <td>-0.683968</td>\n      <td>-1.085783</td>\n      <td>0.077698</td>\n      <td>0.012757</td>\n      <td>0.042951</td>\n      <td>...</td>\n      <td>-0.543854</td>\n      <td>-0.01699</td>\n      <td>-0.094941</td>\n      <td>-0.396022</td>\n      <td>3.194668</td>\n      <td>1.264729</td>\n      <td>-0.092979</td>\n      <td>0.942985</td>\n      <td>-0.119080</td>\n      <td>-1.334237</td>\n    </tr>\n    <tr>\n      <th>1</th>\n      <td>ax</td>\n      <td>0</td>\n      <td>r</td>\n      <td>-1</td>\n      <td>1.44478</td>\n      <td>-0.679299</td>\n      <td>-1.241521</td>\n      <td>0.075690</td>\n      <td>-0.016937</td>\n      <td>0.042951</td>\n      <td>...</td>\n      <td>-0.487736</td>\n      <td>-0.01699</td>\n      <td>-0.094941</td>\n      <td>0.649559</td>\n      <td>0.068687</td>\n      <td>-0.278130</td>\n      <td>-0.676284</td>\n      <td>-0.470143</td>\n      <td>-0.119080</td>\n      <td>-1.000839</td>\n    </tr>\n    <tr>\n      <th>2</th>\n      <td>ax</td>\n      <td>0</td>\n      <td>r</td>\n      <td>-1</td>\n      <td>1.44478</td>\n      <td>-0.676900</td>\n      <td>-1.477679</td>\n      <td>-0.115412</td>\n      <td>0.012757</td>\n      <td>0.042951</td>\n      <td>...</td>\n      <td>-0.540033</td>\n      <td>-0.01699</td>\n      <td>-0.094941</td>\n      <td>0.559425</td>\n      <td>0.130918</td>\n      <td>-0.228231</td>\n      <td>-0.484736</td>\n      <td>-0.480413</td>\n      <td>-0.119080</td>\n      <td>0.213617</td>\n    </tr>\n    <tr>\n      <th>3</th>\n      <td>ax</td>\n      <td>0</td>\n      <td>r</td>\n      <td>-1</td>\n      <td>1.44478</td>\n      <td>-0.673271</td>\n      <td>-1.632511</td>\n      <td>-0.116997</td>\n      <td>0.042403</td>\n      <td>0.042951</td>\n      <td>...</td>\n      <td>-0.472653</td>\n      <td>-0.01699</td>\n      <td>-0.094941</td>\n      <td>-0.775555</td>\n      <td>0.160301</td>\n      <td>-0.232756</td>\n      <td>-0.815202</td>\n      <td>-0.590434</td>\n      <td>-0.119080</td>\n      <td>-0.147051</td>\n    </tr>\n    <tr>\n      <th>4</th>\n      <td>ax</td>\n      <td>0</td>\n      <td>r</td>\n      <td>-1</td>\n      <td>1.44478</td>\n      <td>-0.669549</td>\n      <td>-1.632511</td>\n      <td>-0.116997</td>\n      <td>-0.016888</td>\n      <td>0.042951</td>\n      <td>...</td>\n      <td>-0.511081</td>\n      <td>-0.01699</td>\n      <td>-0.094941</td>\n      <td>-1.001580</td>\n      <td>0.180457</td>\n      <td>-0.273160</td>\n      <td>-0.905964</td>\n      <td>-0.597159</td>\n      <td>-0.119080</td>\n      <td>-0.169625</td>\n    </tr>\n    <tr>\n      <th>...</th>\n      <td>...</td>\n      <td>...</td>\n      <td>...</td>\n      <td>...</td>\n      <td>...</td>\n      <td>...</td>\n      <td>...</td>\n      <td>...</td>\n      <td>...</td>\n      <td>...</td>\n      <td>...</td>\n      <td>...</td>\n      <td>...</td>\n      <td>...</td>\n      <td>...</td>\n      <td>...</td>\n      <td>...</td>\n      <td>...</td>\n      <td>...</td>\n      <td>...</td>\n      <td>...</td>\n    </tr>\n    <tr>\n      <th>41684</th>\n      <td>ba</td>\n      <td>0</td>\n      <td>r</td>\n      <td>-1</td>\n      <td>1.44478</td>\n      <td>-0.295681</td>\n      <td>1.131923</td>\n      <td>-0.086202</td>\n      <td>-0.917023</td>\n      <td>0.042366</td>\n      <td>...</td>\n      <td>4.588981</td>\n      <td>-0.01699</td>\n      <td>-0.091509</td>\n      <td>-0.647315</td>\n      <td>-0.297425</td>\n      <td>1.152003</td>\n      <td>-0.170015</td>\n      <td>3.967849</td>\n      <td>-0.116737</td>\n      <td>-1.150645</td>\n    </tr>\n    <tr>\n      <th>41685</th>\n      <td>ba</td>\n      <td>0</td>\n      <td>r</td>\n      <td>-1</td>\n      <td>1.44478</td>\n      <td>0.599139</td>\n      <td>1.131923</td>\n      <td>-0.086202</td>\n      <td>-0.017236</td>\n      <td>0.042951</td>\n      <td>...</td>\n      <td>-0.419992</td>\n      <td>-0.01699</td>\n      <td>-0.094935</td>\n      <td>-0.085267</td>\n      <td>0.415698</td>\n      <td>-0.041594</td>\n      <td>-0.356932</td>\n      <td>1.345266</td>\n      <td>-0.119073</td>\n      <td>-0.210570</td>\n    </tr>\n    <tr>\n      <th>41686</th>\n      <td>ba</td>\n      <td>0</td>\n      <td>r</td>\n      <td>-1</td>\n      <td>1.44478</td>\n      <td>0.774452</td>\n      <td>1.131923</td>\n      <td>-0.086202</td>\n      <td>0.102736</td>\n      <td>0.042951</td>\n      <td>...</td>\n      <td>-0.431249</td>\n      <td>-0.01699</td>\n      <td>-0.094940</td>\n      <td>-0.033300</td>\n      <td>-0.256817</td>\n      <td>-0.277160</td>\n      <td>-0.508021</td>\n      <td>-0.063521</td>\n      <td>-0.119080</td>\n      <td>-0.953592</td>\n    </tr>\n    <tr>\n      <th>41687</th>\n      <td>ba</td>\n      <td>0</td>\n      <td>r</td>\n      <td>-1</td>\n      <td>1.44478</td>\n      <td>0.880046</td>\n      <td>1.131923</td>\n      <td>-0.086202</td>\n      <td>0.012757</td>\n      <td>0.042951</td>\n      <td>...</td>\n      <td>-0.496925</td>\n      <td>-0.01699</td>\n      <td>-0.094941</td>\n      <td>-0.578576</td>\n      <td>-0.484374</td>\n      <td>-0.211051</td>\n      <td>-0.778505</td>\n      <td>-0.481033</td>\n      <td>-0.119080</td>\n      <td>-1.420799</td>\n    </tr>\n    <tr>\n      <th>41688</th>\n      <td>ba</td>\n      <td>0</td>\n      <td>r</td>\n      <td>-1</td>\n      <td>1.44478</td>\n      <td>0.887716</td>\n      <td>1.205073</td>\n      <td>-0.085312</td>\n      <td>-0.027033</td>\n      <td>0.042951</td>\n      <td>...</td>\n      <td>-0.392111</td>\n      <td>-0.01699</td>\n      <td>-0.094941</td>\n      <td>-0.916065</td>\n      <td>0.155567</td>\n      <td>-0.282907</td>\n      <td>-0.895701</td>\n      <td>-0.434682</td>\n      <td>-0.119080</td>\n      <td>-1.526809</td>\n    </tr>\n  </tbody>\n</table>\n<p>27305 rows × 37 columns</p>\n</div>"
     },
     "execution_count": 145,
     "metadata": {},
     "output_type": "execute_result"
    }
   ],
   "source": [
    "filtered_dataset_df"
   ],
   "metadata": {
    "collapsed": false,
    "ExecuteTime": {
     "end_time": "2024-04-01T22:33:58.700199Z",
     "start_time": "2024-04-01T22:33:58.692991Z"
    }
   },
   "id": "13834fedcd69a97a"
  },
  {
   "cell_type": "markdown",
   "source": [
    "## Using Backwards Elimination - Logistic Regression"
   ],
   "metadata": {
    "collapsed": false
   },
   "id": "8198834fd12f50b6"
  },
  {
   "cell_type": "code",
   "execution_count": 146,
   "outputs": [],
   "source": [
    "model = LogisticRegression()\n",
    "# Getting groupings, features and targets\n",
    "dataset_id_groupings = dataset_df['ID']\n",
    "dataset_features = filtered_dataset_df.iloc[:, 4:]"
   ],
   "metadata": {
    "collapsed": false,
    "ExecuteTime": {
     "end_time": "2024-04-01T22:33:58.704201Z",
     "start_time": "2024-04-01T22:33:58.701367Z"
    }
   },
   "id": "b32db9215ae664b"
  },
  {
   "cell_type": "code",
   "execution_count": 147,
   "outputs": [],
   "source": [
    "# Finding best features for each dataset by testing it on a logistic regression model using Recursive feature elimination with cross-validation and group k folding\n",
    "dataset_selected_features = get_rfecv_selected_features(model=model, features=dataset_features, target=dataset_target, id_groupings=dataset_id_groupings, groupk_folds=5)"
   ],
   "metadata": {
    "collapsed": false,
    "ExecuteTime": {
     "end_time": "2024-04-01T22:34:03.865712Z",
     "start_time": "2024-04-01T22:33:58.707389Z"
    }
   },
   "id": "263558765b3a3666"
  },
  {
   "cell_type": "code",
   "execution_count": 148,
   "outputs": [
    {
     "name": "stdout",
     "output_type": "stream",
     "text": [
      "Number of features selected for dataset: 23\n"
     ]
    },
    {
     "data": {
      "text/plain": "Index(['Light', 'RMSratio_SigComplete_VT',\n       'FirstDerivativeMean_SigComplete_VT',\n       'FirstDerivative_Moment3rd_SigComplete_ML',\n       'Median_SigComplete_Magnitude',\n       'FirstDerivative_Moment3rd_SigComplete_Magnitude',\n       'FirstDerivative_Skweness_SigComplete_Magnitude',\n       'SumSq25_SigComplete_VT', 'NumPeaksSpectrum_Below5Hz_VT',\n       'RelativePower_BelowDomFr_VT', 'Percentile75_SigComplete_ML',\n       'RelativePower_AboveDomFr_ML', 'MeanPSD_Plomb_ML',\n       'KurtosisPSD_Plom_ML', 'Kurtosis_SigComplete_AP',\n       'Percentile25_SigComplete_AP', 'RelativePower_5To10Hz_AP',\n       'RelativePower_AboveDomFr_AP', 'Moment2ndPSD_Plom_AP',\n       'SkewnessPSD_Plom_AP', 'RelativePower_Below5Hz_Magnitude',\n       'Moment2ndPSD_Plom_Magnitude', 'SkewnessPSD_Plom_Magnitude'],\n      dtype='object')"
     },
     "execution_count": 148,
     "metadata": {},
     "output_type": "execute_result"
    }
   ],
   "source": [
    "print(\"Number of features selected for dataset: \" + str(len(dataset_selected_features)))\n",
    "dataset_selected_features"
   ],
   "metadata": {
    "collapsed": false,
    "ExecuteTime": {
     "end_time": "2024-04-01T22:34:03.872599Z",
     "start_time": "2024-04-01T22:34:03.867222Z"
    }
   },
   "id": "4fa8d868578a7bb7"
  },
  {
   "cell_type": "code",
   "execution_count": 149,
   "outputs": [],
   "source": [
    "# keeping only the selected features based on backwards elimination\n",
    "filtered_dataset_df = pd.concat([dataset_df.iloc[:, :4], dataset_df[dataset_selected_features].copy()], axis=1)"
   ],
   "metadata": {
    "collapsed": false,
    "ExecuteTime": {
     "end_time": "2024-04-01T22:34:03.877247Z",
     "start_time": "2024-04-01T22:34:03.871862Z"
    }
   },
   "id": "fe2dd4aa8a296e85"
  },
  {
   "cell_type": "markdown",
   "source": [
    "## Final Filtered Datasets"
   ],
   "metadata": {
    "collapsed": false
   },
   "id": "55f01ab07637b4aa"
  },
  {
   "cell_type": "code",
   "execution_count": 150,
   "outputs": [
    {
     "data": {
      "text/plain": "       ID  PD_Class Hand  Medication_Class    Light  RMSratio_SigComplete_VT  \\\n0      ax         0    r                -1  1.44478                -0.683968   \n1      ax         0    r                -1  1.44478                -0.679299   \n2      ax         0    r                -1  1.44478                -0.676900   \n3      ax         0    r                -1  1.44478                -0.673271   \n4      ax         0    r                -1  1.44478                -0.669549   \n...    ..       ...  ...               ...      ...                      ...   \n41684  ba         0    r                -1  1.44478                -0.295681   \n41685  ba         0    r                -1  1.44478                 0.599139   \n41686  ba         0    r                -1  1.44478                 0.774452   \n41687  ba         0    r                -1  1.44478                 0.880046   \n41688  ba         0    r                -1  1.44478                 0.887716   \n\n       FirstDerivativeMean_SigComplete_VT  \\\n0                               -1.085783   \n1                               -1.241521   \n2                               -1.477679   \n3                               -1.632511   \n4                               -1.632511   \n...                                   ...   \n41684                            1.131923   \n41685                            1.131923   \n41686                            1.131923   \n41687                            1.131923   \n41688                            1.205073   \n\n       FirstDerivative_Moment3rd_SigComplete_ML  Median_SigComplete_Magnitude  \\\n0                                      0.042951                     -0.171398   \n1                                      0.042951                     -0.060414   \n2                                      0.042951                     -0.060414   \n3                                      0.042951                     -0.060414   \n4                                      0.042951                     -0.060414   \n...                                         ...                           ...   \n41684                                  0.042366                     -1.170254   \n41685                                  0.042951                     -1.170254   \n41686                                  0.042951                     -1.281238   \n41687                                  0.042951                     -1.170254   \n41688                                  0.042951                     -1.170254   \n\n       FirstDerivative_Moment3rd_SigComplete_Magnitude  ...  \\\n0                                            -0.007397  ...   \n1                                            -0.007384  ...   \n2                                            -0.007385  ...   \n3                                            -0.007384  ...   \n4                                            -0.007384  ...   \n...                                                ...  ...   \n41684                                         0.020397  ...   \n41685                                        -0.007393  ...   \n41686                                        -0.007385  ...   \n41687                                        -0.007384  ...   \n41688                                        -0.007384  ...   \n\n       KurtosisPSD_Plom_ML  Kurtosis_SigComplete_AP  \\\n0                -0.662353                -0.177516   \n1                -0.295966                -0.126931   \n2                -0.287100                 0.134629   \n3                -0.713867                -0.085273   \n4                -0.660496                 0.010398   \n...                    ...                      ...   \n41684            -0.779811                 0.914998   \n41685            -0.236340                -0.203677   \n41686            -0.441427                -0.315022   \n41687            -0.497852                -0.304465   \n41688            -0.767925                -0.306386   \n\n       Percentile25_SigComplete_AP  RelativePower_5To10Hz_AP  \\\n0                        -0.594152                 -0.543854   \n1                        -0.520112                 -0.487736   \n2                        -0.446072                 -0.540033   \n3                        -0.446072                 -0.472653   \n4                        -0.446072                 -0.511081   \n...                            ...                       ...   \n41684                    -1.334551                  4.588981   \n41685                    -1.260511                 -0.419992   \n41686                    -1.260511                 -0.431249   \n41687                    -1.186471                 -0.496925   \n41688                    -1.186471                 -0.392111   \n\n       RelativePower_AboveDomFr_AP  Moment2ndPSD_Plom_AP  SkewnessPSD_Plom_AP  \\\n0                         -0.01699             -0.094941            -0.396022   \n1                         -0.01699             -0.094941             0.649559   \n2                         -0.01699             -0.094941             0.559425   \n3                         -0.01699             -0.094941            -0.775555   \n4                         -0.01699             -0.094941            -1.001580   \n...                            ...                   ...                  ...   \n41684                     -0.01699             -0.091509            -0.647315   \n41685                     -0.01699             -0.094935            -0.085267   \n41686                     -0.01699             -0.094940            -0.033300   \n41687                     -0.01699             -0.094941            -0.578576   \n41688                     -0.01699             -0.094941            -0.916065   \n\n       RelativePower_Below5Hz_Magnitude  Moment2ndPSD_Plom_Magnitude  \\\n0                             -0.092979                    -0.119080   \n1                             -0.676284                    -0.119080   \n2                             -0.484736                    -0.119080   \n3                             -0.815202                    -0.119080   \n4                             -0.905964                    -0.119080   \n...                                 ...                          ...   \n41684                         -0.170015                    -0.116737   \n41685                         -0.356932                    -0.119073   \n41686                         -0.508021                    -0.119080   \n41687                         -0.778505                    -0.119080   \n41688                         -0.895701                    -0.119080   \n\n       SkewnessPSD_Plom_Magnitude  \n0                       -1.334237  \n1                       -1.000839  \n2                        0.213617  \n3                       -0.147051  \n4                       -0.169625  \n...                           ...  \n41684                   -1.150645  \n41685                   -0.210570  \n41686                   -0.953592  \n41687                   -1.420799  \n41688                   -1.526809  \n\n[27305 rows x 27 columns]",
      "text/html": "<div>\n<style scoped>\n    .dataframe tbody tr th:only-of-type {\n        vertical-align: middle;\n    }\n\n    .dataframe tbody tr th {\n        vertical-align: top;\n    }\n\n    .dataframe thead th {\n        text-align: right;\n    }\n</style>\n<table border=\"1\" class=\"dataframe\">\n  <thead>\n    <tr style=\"text-align: right;\">\n      <th></th>\n      <th>ID</th>\n      <th>PD_Class</th>\n      <th>Hand</th>\n      <th>Medication_Class</th>\n      <th>Light</th>\n      <th>RMSratio_SigComplete_VT</th>\n      <th>FirstDerivativeMean_SigComplete_VT</th>\n      <th>FirstDerivative_Moment3rd_SigComplete_ML</th>\n      <th>Median_SigComplete_Magnitude</th>\n      <th>FirstDerivative_Moment3rd_SigComplete_Magnitude</th>\n      <th>...</th>\n      <th>KurtosisPSD_Plom_ML</th>\n      <th>Kurtosis_SigComplete_AP</th>\n      <th>Percentile25_SigComplete_AP</th>\n      <th>RelativePower_5To10Hz_AP</th>\n      <th>RelativePower_AboveDomFr_AP</th>\n      <th>Moment2ndPSD_Plom_AP</th>\n      <th>SkewnessPSD_Plom_AP</th>\n      <th>RelativePower_Below5Hz_Magnitude</th>\n      <th>Moment2ndPSD_Plom_Magnitude</th>\n      <th>SkewnessPSD_Plom_Magnitude</th>\n    </tr>\n  </thead>\n  <tbody>\n    <tr>\n      <th>0</th>\n      <td>ax</td>\n      <td>0</td>\n      <td>r</td>\n      <td>-1</td>\n      <td>1.44478</td>\n      <td>-0.683968</td>\n      <td>-1.085783</td>\n      <td>0.042951</td>\n      <td>-0.171398</td>\n      <td>-0.007397</td>\n      <td>...</td>\n      <td>-0.662353</td>\n      <td>-0.177516</td>\n      <td>-0.594152</td>\n      <td>-0.543854</td>\n      <td>-0.01699</td>\n      <td>-0.094941</td>\n      <td>-0.396022</td>\n      <td>-0.092979</td>\n      <td>-0.119080</td>\n      <td>-1.334237</td>\n    </tr>\n    <tr>\n      <th>1</th>\n      <td>ax</td>\n      <td>0</td>\n      <td>r</td>\n      <td>-1</td>\n      <td>1.44478</td>\n      <td>-0.679299</td>\n      <td>-1.241521</td>\n      <td>0.042951</td>\n      <td>-0.060414</td>\n      <td>-0.007384</td>\n      <td>...</td>\n      <td>-0.295966</td>\n      <td>-0.126931</td>\n      <td>-0.520112</td>\n      <td>-0.487736</td>\n      <td>-0.01699</td>\n      <td>-0.094941</td>\n      <td>0.649559</td>\n      <td>-0.676284</td>\n      <td>-0.119080</td>\n      <td>-1.000839</td>\n    </tr>\n    <tr>\n      <th>2</th>\n      <td>ax</td>\n      <td>0</td>\n      <td>r</td>\n      <td>-1</td>\n      <td>1.44478</td>\n      <td>-0.676900</td>\n      <td>-1.477679</td>\n      <td>0.042951</td>\n      <td>-0.060414</td>\n      <td>-0.007385</td>\n      <td>...</td>\n      <td>-0.287100</td>\n      <td>0.134629</td>\n      <td>-0.446072</td>\n      <td>-0.540033</td>\n      <td>-0.01699</td>\n      <td>-0.094941</td>\n      <td>0.559425</td>\n      <td>-0.484736</td>\n      <td>-0.119080</td>\n      <td>0.213617</td>\n    </tr>\n    <tr>\n      <th>3</th>\n      <td>ax</td>\n      <td>0</td>\n      <td>r</td>\n      <td>-1</td>\n      <td>1.44478</td>\n      <td>-0.673271</td>\n      <td>-1.632511</td>\n      <td>0.042951</td>\n      <td>-0.060414</td>\n      <td>-0.007384</td>\n      <td>...</td>\n      <td>-0.713867</td>\n      <td>-0.085273</td>\n      <td>-0.446072</td>\n      <td>-0.472653</td>\n      <td>-0.01699</td>\n      <td>-0.094941</td>\n      <td>-0.775555</td>\n      <td>-0.815202</td>\n      <td>-0.119080</td>\n      <td>-0.147051</td>\n    </tr>\n    <tr>\n      <th>4</th>\n      <td>ax</td>\n      <td>0</td>\n      <td>r</td>\n      <td>-1</td>\n      <td>1.44478</td>\n      <td>-0.669549</td>\n      <td>-1.632511</td>\n      <td>0.042951</td>\n      <td>-0.060414</td>\n      <td>-0.007384</td>\n      <td>...</td>\n      <td>-0.660496</td>\n      <td>0.010398</td>\n      <td>-0.446072</td>\n      <td>-0.511081</td>\n      <td>-0.01699</td>\n      <td>-0.094941</td>\n      <td>-1.001580</td>\n      <td>-0.905964</td>\n      <td>-0.119080</td>\n      <td>-0.169625</td>\n    </tr>\n    <tr>\n      <th>...</th>\n      <td>...</td>\n      <td>...</td>\n      <td>...</td>\n      <td>...</td>\n      <td>...</td>\n      <td>...</td>\n      <td>...</td>\n      <td>...</td>\n      <td>...</td>\n      <td>...</td>\n      <td>...</td>\n      <td>...</td>\n      <td>...</td>\n      <td>...</td>\n      <td>...</td>\n      <td>...</td>\n      <td>...</td>\n      <td>...</td>\n      <td>...</td>\n      <td>...</td>\n      <td>...</td>\n    </tr>\n    <tr>\n      <th>41684</th>\n      <td>ba</td>\n      <td>0</td>\n      <td>r</td>\n      <td>-1</td>\n      <td>1.44478</td>\n      <td>-0.295681</td>\n      <td>1.131923</td>\n      <td>0.042366</td>\n      <td>-1.170254</td>\n      <td>0.020397</td>\n      <td>...</td>\n      <td>-0.779811</td>\n      <td>0.914998</td>\n      <td>-1.334551</td>\n      <td>4.588981</td>\n      <td>-0.01699</td>\n      <td>-0.091509</td>\n      <td>-0.647315</td>\n      <td>-0.170015</td>\n      <td>-0.116737</td>\n      <td>-1.150645</td>\n    </tr>\n    <tr>\n      <th>41685</th>\n      <td>ba</td>\n      <td>0</td>\n      <td>r</td>\n      <td>-1</td>\n      <td>1.44478</td>\n      <td>0.599139</td>\n      <td>1.131923</td>\n      <td>0.042951</td>\n      <td>-1.170254</td>\n      <td>-0.007393</td>\n      <td>...</td>\n      <td>-0.236340</td>\n      <td>-0.203677</td>\n      <td>-1.260511</td>\n      <td>-0.419992</td>\n      <td>-0.01699</td>\n      <td>-0.094935</td>\n      <td>-0.085267</td>\n      <td>-0.356932</td>\n      <td>-0.119073</td>\n      <td>-0.210570</td>\n    </tr>\n    <tr>\n      <th>41686</th>\n      <td>ba</td>\n      <td>0</td>\n      <td>r</td>\n      <td>-1</td>\n      <td>1.44478</td>\n      <td>0.774452</td>\n      <td>1.131923</td>\n      <td>0.042951</td>\n      <td>-1.281238</td>\n      <td>-0.007385</td>\n      <td>...</td>\n      <td>-0.441427</td>\n      <td>-0.315022</td>\n      <td>-1.260511</td>\n      <td>-0.431249</td>\n      <td>-0.01699</td>\n      <td>-0.094940</td>\n      <td>-0.033300</td>\n      <td>-0.508021</td>\n      <td>-0.119080</td>\n      <td>-0.953592</td>\n    </tr>\n    <tr>\n      <th>41687</th>\n      <td>ba</td>\n      <td>0</td>\n      <td>r</td>\n      <td>-1</td>\n      <td>1.44478</td>\n      <td>0.880046</td>\n      <td>1.131923</td>\n      <td>0.042951</td>\n      <td>-1.170254</td>\n      <td>-0.007384</td>\n      <td>...</td>\n      <td>-0.497852</td>\n      <td>-0.304465</td>\n      <td>-1.186471</td>\n      <td>-0.496925</td>\n      <td>-0.01699</td>\n      <td>-0.094941</td>\n      <td>-0.578576</td>\n      <td>-0.778505</td>\n      <td>-0.119080</td>\n      <td>-1.420799</td>\n    </tr>\n    <tr>\n      <th>41688</th>\n      <td>ba</td>\n      <td>0</td>\n      <td>r</td>\n      <td>-1</td>\n      <td>1.44478</td>\n      <td>0.887716</td>\n      <td>1.205073</td>\n      <td>0.042951</td>\n      <td>-1.170254</td>\n      <td>-0.007384</td>\n      <td>...</td>\n      <td>-0.767925</td>\n      <td>-0.306386</td>\n      <td>-1.186471</td>\n      <td>-0.392111</td>\n      <td>-0.01699</td>\n      <td>-0.094941</td>\n      <td>-0.916065</td>\n      <td>-0.895701</td>\n      <td>-0.119080</td>\n      <td>-1.526809</td>\n    </tr>\n  </tbody>\n</table>\n<p>27305 rows × 27 columns</p>\n</div>"
     },
     "execution_count": 150,
     "metadata": {},
     "output_type": "execute_result"
    }
   ],
   "source": [
    "filtered_dataset_df"
   ],
   "metadata": {
    "collapsed": false,
    "ExecuteTime": {
     "end_time": "2024-04-01T22:34:03.930463Z",
     "start_time": "2024-04-01T22:34:03.879843Z"
    }
   },
   "id": "4721d4c3dfda2ccc"
  },
  {
   "cell_type": "markdown",
   "source": [
    "### Saving to CSV"
   ],
   "metadata": {
    "collapsed": false
   },
   "id": "bf0fd5b3dbee0f83"
  },
  {
   "cell_type": "code",
   "execution_count": 151,
   "outputs": [],
   "source": [
    "filtered_dataset_df.to_csv(final_dataset_path + 'pd_' + dataset_name + '_filtered_features.csv', index=False)"
   ],
   "metadata": {
    "collapsed": false,
    "ExecuteTime": {
     "end_time": "2024-04-01T22:34:04.283088Z",
     "start_time": "2024-04-01T22:34:03.897515Z"
    }
   },
   "id": "3463ffc8dfd10499"
  }
 ],
 "metadata": {
  "kernelspec": {
   "display_name": "Python 3",
   "language": "python",
   "name": "python3"
  },
  "language_info": {
   "codemirror_mode": {
    "name": "ipython",
    "version": 2
   },
   "file_extension": ".py",
   "mimetype": "text/x-python",
   "name": "python",
   "nbconvert_exporter": "python",
   "pygments_lexer": "ipython2",
   "version": "2.7.6"
  }
 },
 "nbformat": 4,
 "nbformat_minor": 5
}
