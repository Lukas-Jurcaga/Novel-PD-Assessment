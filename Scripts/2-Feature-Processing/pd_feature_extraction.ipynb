{
 "cells": [
  {
   "cell_type": "code",
   "execution_count": 20,
   "id": "initial_id",
   "metadata": {
    "collapsed": true,
    "ExecuteTime": {
     "end_time": "2024-03-03T14:32:58.894125Z",
     "start_time": "2024-03-03T14:32:58.891592Z"
    }
   },
   "outputs": [],
   "source": [
    "import pandas as pd\n",
    "import matlab.engine as mat_eng\n",
    "import Scripts.utils.pd_record_extraction as re\n",
    "from Scripts.utils.pd_signal_preprocessing_funcs import get_all_light_intervals_index\n",
    "from Scripts.utils.pd_feature_extraction_funcs import *"
   ]
  },
  {
   "cell_type": "code",
   "execution_count": 21,
   "outputs": [],
   "source": [
    "feature_dataset_path = '../../Study/Data/features/'"
   ],
   "metadata": {
    "collapsed": false,
    "ExecuteTime": {
     "end_time": "2024-03-03T14:32:59.447223Z",
     "start_time": "2024-03-03T14:32:59.445360Z"
    }
   },
   "id": "b5e5c3d1f0deea50"
  },
  {
   "cell_type": "code",
   "execution_count": 22,
   "outputs": [],
   "source": [
    "eng = mat_eng.start_matlab()\n",
    "eng.eval(\"addpath('../Matlab')\", nargout=0)\n",
    "eng.eval(\"addpath('../Matlab/Functional Functions')\", nargout=0)"
   ],
   "metadata": {
    "collapsed": false,
    "ExecuteTime": {
     "end_time": "2024-03-03T14:33:08.045051Z",
     "start_time": "2024-03-03T14:33:00.076711Z"
    }
   },
   "id": "7041a83827bea155"
  },
  {
   "cell_type": "code",
   "execution_count": 23,
   "outputs": [],
   "source": [
    "dataset_paths = re.get_record_set()"
   ],
   "metadata": {
    "collapsed": false,
    "ExecuteTime": {
     "end_time": "2024-03-03T14:33:08.047810Z",
     "start_time": "2024-03-03T14:33:08.045855Z"
    }
   },
   "id": "ca1fc4dbdfde63c9"
  },
  {
   "cell_type": "markdown",
   "source": [
    "## Features Whole"
   ],
   "metadata": {
    "collapsed": false
   },
   "id": "fd6788b0961df415"
  },
  {
   "cell_type": "code",
   "execution_count": 52,
   "outputs": [
    {
     "data": {
      "text/plain": "     ID    State Hand Medication  Median_SigComplete_VT  Range_SigComplete_VT  \\\n0    ax  healthy    r        N/A                54560.5              109090.0   \n1    bf  healthy    l        N/A                54647.0              109152.0   \n2    ag       pd    l        off                43289.0               86679.0   \n3    ad       pd    r        off                62359.0              124697.0   \n4    ae       pd    l         on                50918.0              101986.0   \n..   ..      ...  ...        ...                    ...                   ...   \n117  bg  healthy    l        N/A                47016.0               94014.0   \n118  ay  healthy    r        N/A                47155.0               94362.0   \n119  be  healthy    r        N/A                54784.0              109584.0   \n120  ab       pd    l         on                54581.0              109427.0   \n121  ba  healthy    r        N/A                62492.0              124910.0   \n\n     RMS_SigComplete_VT  RMSratio_SigComplete_VT  \\\n0          62981.530451            268375.066833   \n1          63050.572563            227228.773459   \n2          50030.776466            261034.243180   \n3          72004.991309            347768.551168   \n4          58853.796158            455835.962958   \n..                  ...                      ...   \n117        54284.590015            247644.428194   \n118        54467.711324            140026.095521   \n119        63243.090212            205538.314332   \n120        63120.086036            319094.873684   \n121        72159.641057            166189.058085   \n\n     FirstDerivativeMean_SigComplete_VT  FirstDerivativeMax_SigComplete_VT  \\\n0                            345.900395                             1040.0   \n1                            346.186698                              832.0   \n2                            346.702665                             2288.0   \n3                            348.119292                             1664.0   \n4                            346.596432                              832.0   \n..                                  ...                                ...   \n117                          345.383306                             2080.0   \n118                          346.900723                              416.0   \n119                          347.896334                             1040.0   \n120                          345.803950                             1248.0   \n121                          346.842527                             2704.0   \n\n     ...  MeanFreq_Plom_Magnitude  MedianFreq_Plom_Magnitude  \\\n0    ...                52.000396                  52.000396   \n1    ...                52.000396                  52.000396   \n2    ...                52.000500                  52.000500   \n3    ...                52.000349                  52.000349   \n4    ...                52.000425                  52.000425   \n..   ...                      ...                        ...   \n117  ...                52.000459                  52.000459   \n118  ...                52.000460                  52.000460   \n119  ...                52.000397                  52.000397   \n120  ...                52.000395                  52.000395   \n121  ...                52.000347                  52.000347   \n\n     SumPSD_Plom_Magnitude  Moment2ndPSD_Plom_Magnitude  \\\n0                64.394223                     0.000023   \n1                79.277008                     0.000037   \n2                36.622090                     0.000021   \n3                52.772968                     0.000012   \n4                16.952239                     0.000004   \n..                     ...                          ...   \n117              51.121089                     0.000021   \n118             164.600450                     0.000151   \n119             116.458352                     0.000068   \n120              40.614513                     0.000031   \n121             270.996204                     0.000210   \n\n     Moment3rdPSD_Plom_Magnitude  SkewnessPSD_Plom_Magnitude  \\\n0                   3.039229e-06                   27.438790   \n1                   4.958072e-06                   21.886001   \n2                   4.215737e-06                   43.783746   \n3                   1.136034e-06                   28.622058   \n4                   3.744408e-07                   51.632919   \n..                           ...                         ...   \n117                 1.917977e-06                   19.264699   \n118                 2.463183e-05                   13.269987   \n119                 1.092407e-05                   19.553610   \n120                 1.615268e-05                   92.091307   \n121                 4.009132e-05                   13.161423   \n\n     KurtosisPSD_Plom_Magnitude  ZeroCrossingRate_Magnitude  \\\n0                   1333.798157                    0.004970   \n1                    802.247670                    0.004574   \n2                   3199.502914                    0.003077   \n3                   1474.100333                    0.011972   \n4                   3852.642986                    0.004738   \n..                          ...                         ...   \n117                  462.709114                    0.008778   \n118                  219.192474                    0.013574   \n119                  581.258532                    0.008852   \n120                12688.986370                    0.002735   \n121                  248.764131                    0.005180   \n\n     ModeSignal_Magnitude  EnergySignal_Magnitude  \n0                    0.09               3612.8167  \n1                    0.13               5049.4340  \n2                    0.05               1910.3279  \n3                    0.05               3194.0497  \n4                    0.08               1020.2784  \n..                    ...                     ...  \n117                 -0.02               2720.5593  \n118                 -0.01               8560.9752  \n119                  0.08               6203.0866  \n120                  0.09               2575.4907  \n121                  0.08              14122.7046  \n\n[122 rows x 192 columns]",
      "text/html": "<div>\n<style scoped>\n    .dataframe tbody tr th:only-of-type {\n        vertical-align: middle;\n    }\n\n    .dataframe tbody tr th {\n        vertical-align: top;\n    }\n\n    .dataframe thead th {\n        text-align: right;\n    }\n</style>\n<table border=\"1\" class=\"dataframe\">\n  <thead>\n    <tr style=\"text-align: right;\">\n      <th></th>\n      <th>ID</th>\n      <th>State</th>\n      <th>Hand</th>\n      <th>Medication</th>\n      <th>Median_SigComplete_VT</th>\n      <th>Range_SigComplete_VT</th>\n      <th>RMS_SigComplete_VT</th>\n      <th>RMSratio_SigComplete_VT</th>\n      <th>FirstDerivativeMean_SigComplete_VT</th>\n      <th>FirstDerivativeMax_SigComplete_VT</th>\n      <th>...</th>\n      <th>MeanFreq_Plom_Magnitude</th>\n      <th>MedianFreq_Plom_Magnitude</th>\n      <th>SumPSD_Plom_Magnitude</th>\n      <th>Moment2ndPSD_Plom_Magnitude</th>\n      <th>Moment3rdPSD_Plom_Magnitude</th>\n      <th>SkewnessPSD_Plom_Magnitude</th>\n      <th>KurtosisPSD_Plom_Magnitude</th>\n      <th>ZeroCrossingRate_Magnitude</th>\n      <th>ModeSignal_Magnitude</th>\n      <th>EnergySignal_Magnitude</th>\n    </tr>\n  </thead>\n  <tbody>\n    <tr>\n      <th>0</th>\n      <td>ax</td>\n      <td>healthy</td>\n      <td>r</td>\n      <td>N/A</td>\n      <td>54560.5</td>\n      <td>109090.0</td>\n      <td>62981.530451</td>\n      <td>268375.066833</td>\n      <td>345.900395</td>\n      <td>1040.0</td>\n      <td>...</td>\n      <td>52.000396</td>\n      <td>52.000396</td>\n      <td>64.394223</td>\n      <td>0.000023</td>\n      <td>3.039229e-06</td>\n      <td>27.438790</td>\n      <td>1333.798157</td>\n      <td>0.004970</td>\n      <td>0.09</td>\n      <td>3612.8167</td>\n    </tr>\n    <tr>\n      <th>1</th>\n      <td>bf</td>\n      <td>healthy</td>\n      <td>l</td>\n      <td>N/A</td>\n      <td>54647.0</td>\n      <td>109152.0</td>\n      <td>63050.572563</td>\n      <td>227228.773459</td>\n      <td>346.186698</td>\n      <td>832.0</td>\n      <td>...</td>\n      <td>52.000396</td>\n      <td>52.000396</td>\n      <td>79.277008</td>\n      <td>0.000037</td>\n      <td>4.958072e-06</td>\n      <td>21.886001</td>\n      <td>802.247670</td>\n      <td>0.004574</td>\n      <td>0.13</td>\n      <td>5049.4340</td>\n    </tr>\n    <tr>\n      <th>2</th>\n      <td>ag</td>\n      <td>pd</td>\n      <td>l</td>\n      <td>off</td>\n      <td>43289.0</td>\n      <td>86679.0</td>\n      <td>50030.776466</td>\n      <td>261034.243180</td>\n      <td>346.702665</td>\n      <td>2288.0</td>\n      <td>...</td>\n      <td>52.000500</td>\n      <td>52.000500</td>\n      <td>36.622090</td>\n      <td>0.000021</td>\n      <td>4.215737e-06</td>\n      <td>43.783746</td>\n      <td>3199.502914</td>\n      <td>0.003077</td>\n      <td>0.05</td>\n      <td>1910.3279</td>\n    </tr>\n    <tr>\n      <th>3</th>\n      <td>ad</td>\n      <td>pd</td>\n      <td>r</td>\n      <td>off</td>\n      <td>62359.0</td>\n      <td>124697.0</td>\n      <td>72004.991309</td>\n      <td>347768.551168</td>\n      <td>348.119292</td>\n      <td>1664.0</td>\n      <td>...</td>\n      <td>52.000349</td>\n      <td>52.000349</td>\n      <td>52.772968</td>\n      <td>0.000012</td>\n      <td>1.136034e-06</td>\n      <td>28.622058</td>\n      <td>1474.100333</td>\n      <td>0.011972</td>\n      <td>0.05</td>\n      <td>3194.0497</td>\n    </tr>\n    <tr>\n      <th>4</th>\n      <td>ae</td>\n      <td>pd</td>\n      <td>l</td>\n      <td>on</td>\n      <td>50918.0</td>\n      <td>101986.0</td>\n      <td>58853.796158</td>\n      <td>455835.962958</td>\n      <td>346.596432</td>\n      <td>832.0</td>\n      <td>...</td>\n      <td>52.000425</td>\n      <td>52.000425</td>\n      <td>16.952239</td>\n      <td>0.000004</td>\n      <td>3.744408e-07</td>\n      <td>51.632919</td>\n      <td>3852.642986</td>\n      <td>0.004738</td>\n      <td>0.08</td>\n      <td>1020.2784</td>\n    </tr>\n    <tr>\n      <th>...</th>\n      <td>...</td>\n      <td>...</td>\n      <td>...</td>\n      <td>...</td>\n      <td>...</td>\n      <td>...</td>\n      <td>...</td>\n      <td>...</td>\n      <td>...</td>\n      <td>...</td>\n      <td>...</td>\n      <td>...</td>\n      <td>...</td>\n      <td>...</td>\n      <td>...</td>\n      <td>...</td>\n      <td>...</td>\n      <td>...</td>\n      <td>...</td>\n      <td>...</td>\n      <td>...</td>\n    </tr>\n    <tr>\n      <th>117</th>\n      <td>bg</td>\n      <td>healthy</td>\n      <td>l</td>\n      <td>N/A</td>\n      <td>47016.0</td>\n      <td>94014.0</td>\n      <td>54284.590015</td>\n      <td>247644.428194</td>\n      <td>345.383306</td>\n      <td>2080.0</td>\n      <td>...</td>\n      <td>52.000459</td>\n      <td>52.000459</td>\n      <td>51.121089</td>\n      <td>0.000021</td>\n      <td>1.917977e-06</td>\n      <td>19.264699</td>\n      <td>462.709114</td>\n      <td>0.008778</td>\n      <td>-0.02</td>\n      <td>2720.5593</td>\n    </tr>\n    <tr>\n      <th>118</th>\n      <td>ay</td>\n      <td>healthy</td>\n      <td>r</td>\n      <td>N/A</td>\n      <td>47155.0</td>\n      <td>94362.0</td>\n      <td>54467.711324</td>\n      <td>140026.095521</td>\n      <td>346.900723</td>\n      <td>416.0</td>\n      <td>...</td>\n      <td>52.000460</td>\n      <td>52.000460</td>\n      <td>164.600450</td>\n      <td>0.000151</td>\n      <td>2.463183e-05</td>\n      <td>13.269987</td>\n      <td>219.192474</td>\n      <td>0.013574</td>\n      <td>-0.01</td>\n      <td>8560.9752</td>\n    </tr>\n    <tr>\n      <th>119</th>\n      <td>be</td>\n      <td>healthy</td>\n      <td>r</td>\n      <td>N/A</td>\n      <td>54784.0</td>\n      <td>109584.0</td>\n      <td>63243.090212</td>\n      <td>205538.314332</td>\n      <td>347.896334</td>\n      <td>1040.0</td>\n      <td>...</td>\n      <td>52.000397</td>\n      <td>52.000397</td>\n      <td>116.458352</td>\n      <td>0.000068</td>\n      <td>1.092407e-05</td>\n      <td>19.553610</td>\n      <td>581.258532</td>\n      <td>0.008852</td>\n      <td>0.08</td>\n      <td>6203.0866</td>\n    </tr>\n    <tr>\n      <th>120</th>\n      <td>ab</td>\n      <td>pd</td>\n      <td>l</td>\n      <td>on</td>\n      <td>54581.0</td>\n      <td>109427.0</td>\n      <td>63120.086036</td>\n      <td>319094.873684</td>\n      <td>345.803950</td>\n      <td>1248.0</td>\n      <td>...</td>\n      <td>52.000395</td>\n      <td>52.000395</td>\n      <td>40.614513</td>\n      <td>0.000031</td>\n      <td>1.615268e-05</td>\n      <td>92.091307</td>\n      <td>12688.986370</td>\n      <td>0.002735</td>\n      <td>0.09</td>\n      <td>2575.4907</td>\n    </tr>\n    <tr>\n      <th>121</th>\n      <td>ba</td>\n      <td>healthy</td>\n      <td>r</td>\n      <td>N/A</td>\n      <td>62492.0</td>\n      <td>124910.0</td>\n      <td>72159.641057</td>\n      <td>166189.058085</td>\n      <td>346.842527</td>\n      <td>2704.0</td>\n      <td>...</td>\n      <td>52.000347</td>\n      <td>52.000347</td>\n      <td>270.996204</td>\n      <td>0.000210</td>\n      <td>4.009132e-05</td>\n      <td>13.161423</td>\n      <td>248.764131</td>\n      <td>0.005180</td>\n      <td>0.08</td>\n      <td>14122.7046</td>\n    </tr>\n  </tbody>\n</table>\n<p>122 rows × 192 columns</p>\n</div>"
     },
     "execution_count": 52,
     "metadata": {},
     "output_type": "execute_result"
    }
   ],
   "source": [
    "all_features_whole = {}\n",
    "\n",
    "for data_path in dataset_paths:\n",
    "    df = re.get_record_df(data_path, ['t', 'x', 'y', 'z'])\n",
    "    header_columns = get_header_columns(data_path)\n",
    "    all_features_whole = extract_all_features(df, eng, prefix_columns=header_columns, output_df=all_features_whole)"
   ],
   "metadata": {
    "collapsed": false,
    "ExecuteTime": {
     "end_time": "2024-03-02T19:14:47.246255Z",
     "start_time": "2024-03-02T19:12:57.974553Z"
    }
   },
   "id": "9c038958c390b560"
  },
  {
   "cell_type": "code",
   "execution_count": 53,
   "outputs": [
    {
     "data": {
      "text/plain": "     ID    State Hand Medication  Median_SigComplete_VT  Range_SigComplete_VT  \\\n0    ax  healthy    r        N/A                54560.5              109090.0   \n1    bf  healthy    l        N/A                54647.0              109152.0   \n2    ag       pd    l        off                43289.0               86679.0   \n3    ad       pd    r        off                62359.0              124697.0   \n4    ae       pd    l         on                50918.0              101986.0   \n..   ..      ...  ...        ...                    ...                   ...   \n117  bg  healthy    l        N/A                47016.0               94014.0   \n118  ay  healthy    r        N/A                47155.0               94362.0   \n119  be  healthy    r        N/A                54784.0              109584.0   \n120  ab       pd    l         on                54581.0              109427.0   \n121  ba  healthy    r        N/A                62492.0              124910.0   \n\n     RMS_SigComplete_VT  RMSratio_SigComplete_VT  \\\n0          62981.530451            268375.066833   \n1          63050.572563            227228.773459   \n2          50030.776466            261034.243180   \n3          72004.991309            347768.551168   \n4          58853.796158            455835.962958   \n..                  ...                      ...   \n117        54284.590015            247644.428194   \n118        54467.711324            140026.095521   \n119        63243.090212            205538.314332   \n120        63120.086036            319094.873684   \n121        72159.641057            166189.058085   \n\n     FirstDerivativeMean_SigComplete_VT  FirstDerivativeMax_SigComplete_VT  \\\n0                            345.900395                             1040.0   \n1                            346.186698                              832.0   \n2                            346.702665                             2288.0   \n3                            348.119292                             1664.0   \n4                            346.596432                              832.0   \n..                                  ...                                ...   \n117                          345.383306                             2080.0   \n118                          346.900723                              416.0   \n119                          347.896334                             1040.0   \n120                          345.803950                             1248.0   \n121                          346.842527                             2704.0   \n\n     ...  MeanFreq_Plom_Magnitude  MedianFreq_Plom_Magnitude  \\\n0    ...                52.000396                  52.000396   \n1    ...                52.000396                  52.000396   \n2    ...                52.000500                  52.000500   \n3    ...                52.000349                  52.000349   \n4    ...                52.000425                  52.000425   \n..   ...                      ...                        ...   \n117  ...                52.000459                  52.000459   \n118  ...                52.000460                  52.000460   \n119  ...                52.000397                  52.000397   \n120  ...                52.000395                  52.000395   \n121  ...                52.000347                  52.000347   \n\n     SumPSD_Plom_Magnitude  Moment2ndPSD_Plom_Magnitude  \\\n0                64.394223                     0.000023   \n1                79.277008                     0.000037   \n2                36.622090                     0.000021   \n3                52.772968                     0.000012   \n4                16.952239                     0.000004   \n..                     ...                          ...   \n117              51.121089                     0.000021   \n118             164.600450                     0.000151   \n119             116.458352                     0.000068   \n120              40.614513                     0.000031   \n121             270.996204                     0.000210   \n\n     Moment3rdPSD_Plom_Magnitude  SkewnessPSD_Plom_Magnitude  \\\n0                   3.039229e-06                   27.438790   \n1                   4.958072e-06                   21.886001   \n2                   4.215737e-06                   43.783746   \n3                   1.136034e-06                   28.622058   \n4                   3.744408e-07                   51.632919   \n..                           ...                         ...   \n117                 1.917977e-06                   19.264699   \n118                 2.463183e-05                   13.269987   \n119                 1.092407e-05                   19.553610   \n120                 1.615268e-05                   92.091307   \n121                 4.009132e-05                   13.161423   \n\n     KurtosisPSD_Plom_Magnitude  ZeroCrossingRate_Magnitude  \\\n0                   1333.798157                    0.004970   \n1                    802.247670                    0.004574   \n2                   3199.502914                    0.003077   \n3                   1474.100333                    0.011972   \n4                   3852.642986                    0.004738   \n..                          ...                         ...   \n117                  462.709114                    0.008778   \n118                  219.192474                    0.013574   \n119                  581.258532                    0.008852   \n120                12688.986370                    0.002735   \n121                  248.764131                    0.005180   \n\n     ModeSignal_Magnitude  EnergySignal_Magnitude  \n0                    0.09               3612.8167  \n1                    0.13               5049.4340  \n2                    0.05               1910.3279  \n3                    0.05               3194.0497  \n4                    0.08               1020.2784  \n..                    ...                     ...  \n117                 -0.02               2720.5593  \n118                 -0.01               8560.9752  \n119                  0.08               6203.0866  \n120                  0.09               2575.4907  \n121                  0.08              14122.7046  \n\n[122 rows x 192 columns]",
      "text/html": "<div>\n<style scoped>\n    .dataframe tbody tr th:only-of-type {\n        vertical-align: middle;\n    }\n\n    .dataframe tbody tr th {\n        vertical-align: top;\n    }\n\n    .dataframe thead th {\n        text-align: right;\n    }\n</style>\n<table border=\"1\" class=\"dataframe\">\n  <thead>\n    <tr style=\"text-align: right;\">\n      <th></th>\n      <th>ID</th>\n      <th>State</th>\n      <th>Hand</th>\n      <th>Medication</th>\n      <th>Median_SigComplete_VT</th>\n      <th>Range_SigComplete_VT</th>\n      <th>RMS_SigComplete_VT</th>\n      <th>RMSratio_SigComplete_VT</th>\n      <th>FirstDerivativeMean_SigComplete_VT</th>\n      <th>FirstDerivativeMax_SigComplete_VT</th>\n      <th>...</th>\n      <th>MeanFreq_Plom_Magnitude</th>\n      <th>MedianFreq_Plom_Magnitude</th>\n      <th>SumPSD_Plom_Magnitude</th>\n      <th>Moment2ndPSD_Plom_Magnitude</th>\n      <th>Moment3rdPSD_Plom_Magnitude</th>\n      <th>SkewnessPSD_Plom_Magnitude</th>\n      <th>KurtosisPSD_Plom_Magnitude</th>\n      <th>ZeroCrossingRate_Magnitude</th>\n      <th>ModeSignal_Magnitude</th>\n      <th>EnergySignal_Magnitude</th>\n    </tr>\n  </thead>\n  <tbody>\n    <tr>\n      <th>0</th>\n      <td>ax</td>\n      <td>healthy</td>\n      <td>r</td>\n      <td>N/A</td>\n      <td>54560.5</td>\n      <td>109090.0</td>\n      <td>62981.530451</td>\n      <td>268375.066833</td>\n      <td>345.900395</td>\n      <td>1040.0</td>\n      <td>...</td>\n      <td>52.000396</td>\n      <td>52.000396</td>\n      <td>64.394223</td>\n      <td>0.000023</td>\n      <td>3.039229e-06</td>\n      <td>27.438790</td>\n      <td>1333.798157</td>\n      <td>0.004970</td>\n      <td>0.09</td>\n      <td>3612.8167</td>\n    </tr>\n    <tr>\n      <th>1</th>\n      <td>bf</td>\n      <td>healthy</td>\n      <td>l</td>\n      <td>N/A</td>\n      <td>54647.0</td>\n      <td>109152.0</td>\n      <td>63050.572563</td>\n      <td>227228.773459</td>\n      <td>346.186698</td>\n      <td>832.0</td>\n      <td>...</td>\n      <td>52.000396</td>\n      <td>52.000396</td>\n      <td>79.277008</td>\n      <td>0.000037</td>\n      <td>4.958072e-06</td>\n      <td>21.886001</td>\n      <td>802.247670</td>\n      <td>0.004574</td>\n      <td>0.13</td>\n      <td>5049.4340</td>\n    </tr>\n    <tr>\n      <th>2</th>\n      <td>ag</td>\n      <td>pd</td>\n      <td>l</td>\n      <td>off</td>\n      <td>43289.0</td>\n      <td>86679.0</td>\n      <td>50030.776466</td>\n      <td>261034.243180</td>\n      <td>346.702665</td>\n      <td>2288.0</td>\n      <td>...</td>\n      <td>52.000500</td>\n      <td>52.000500</td>\n      <td>36.622090</td>\n      <td>0.000021</td>\n      <td>4.215737e-06</td>\n      <td>43.783746</td>\n      <td>3199.502914</td>\n      <td>0.003077</td>\n      <td>0.05</td>\n      <td>1910.3279</td>\n    </tr>\n    <tr>\n      <th>3</th>\n      <td>ad</td>\n      <td>pd</td>\n      <td>r</td>\n      <td>off</td>\n      <td>62359.0</td>\n      <td>124697.0</td>\n      <td>72004.991309</td>\n      <td>347768.551168</td>\n      <td>348.119292</td>\n      <td>1664.0</td>\n      <td>...</td>\n      <td>52.000349</td>\n      <td>52.000349</td>\n      <td>52.772968</td>\n      <td>0.000012</td>\n      <td>1.136034e-06</td>\n      <td>28.622058</td>\n      <td>1474.100333</td>\n      <td>0.011972</td>\n      <td>0.05</td>\n      <td>3194.0497</td>\n    </tr>\n    <tr>\n      <th>4</th>\n      <td>ae</td>\n      <td>pd</td>\n      <td>l</td>\n      <td>on</td>\n      <td>50918.0</td>\n      <td>101986.0</td>\n      <td>58853.796158</td>\n      <td>455835.962958</td>\n      <td>346.596432</td>\n      <td>832.0</td>\n      <td>...</td>\n      <td>52.000425</td>\n      <td>52.000425</td>\n      <td>16.952239</td>\n      <td>0.000004</td>\n      <td>3.744408e-07</td>\n      <td>51.632919</td>\n      <td>3852.642986</td>\n      <td>0.004738</td>\n      <td>0.08</td>\n      <td>1020.2784</td>\n    </tr>\n    <tr>\n      <th>...</th>\n      <td>...</td>\n      <td>...</td>\n      <td>...</td>\n      <td>...</td>\n      <td>...</td>\n      <td>...</td>\n      <td>...</td>\n      <td>...</td>\n      <td>...</td>\n      <td>...</td>\n      <td>...</td>\n      <td>...</td>\n      <td>...</td>\n      <td>...</td>\n      <td>...</td>\n      <td>...</td>\n      <td>...</td>\n      <td>...</td>\n      <td>...</td>\n      <td>...</td>\n      <td>...</td>\n    </tr>\n    <tr>\n      <th>117</th>\n      <td>bg</td>\n      <td>healthy</td>\n      <td>l</td>\n      <td>N/A</td>\n      <td>47016.0</td>\n      <td>94014.0</td>\n      <td>54284.590015</td>\n      <td>247644.428194</td>\n      <td>345.383306</td>\n      <td>2080.0</td>\n      <td>...</td>\n      <td>52.000459</td>\n      <td>52.000459</td>\n      <td>51.121089</td>\n      <td>0.000021</td>\n      <td>1.917977e-06</td>\n      <td>19.264699</td>\n      <td>462.709114</td>\n      <td>0.008778</td>\n      <td>-0.02</td>\n      <td>2720.5593</td>\n    </tr>\n    <tr>\n      <th>118</th>\n      <td>ay</td>\n      <td>healthy</td>\n      <td>r</td>\n      <td>N/A</td>\n      <td>47155.0</td>\n      <td>94362.0</td>\n      <td>54467.711324</td>\n      <td>140026.095521</td>\n      <td>346.900723</td>\n      <td>416.0</td>\n      <td>...</td>\n      <td>52.000460</td>\n      <td>52.000460</td>\n      <td>164.600450</td>\n      <td>0.000151</td>\n      <td>2.463183e-05</td>\n      <td>13.269987</td>\n      <td>219.192474</td>\n      <td>0.013574</td>\n      <td>-0.01</td>\n      <td>8560.9752</td>\n    </tr>\n    <tr>\n      <th>119</th>\n      <td>be</td>\n      <td>healthy</td>\n      <td>r</td>\n      <td>N/A</td>\n      <td>54784.0</td>\n      <td>109584.0</td>\n      <td>63243.090212</td>\n      <td>205538.314332</td>\n      <td>347.896334</td>\n      <td>1040.0</td>\n      <td>...</td>\n      <td>52.000397</td>\n      <td>52.000397</td>\n      <td>116.458352</td>\n      <td>0.000068</td>\n      <td>1.092407e-05</td>\n      <td>19.553610</td>\n      <td>581.258532</td>\n      <td>0.008852</td>\n      <td>0.08</td>\n      <td>6203.0866</td>\n    </tr>\n    <tr>\n      <th>120</th>\n      <td>ab</td>\n      <td>pd</td>\n      <td>l</td>\n      <td>on</td>\n      <td>54581.0</td>\n      <td>109427.0</td>\n      <td>63120.086036</td>\n      <td>319094.873684</td>\n      <td>345.803950</td>\n      <td>1248.0</td>\n      <td>...</td>\n      <td>52.000395</td>\n      <td>52.000395</td>\n      <td>40.614513</td>\n      <td>0.000031</td>\n      <td>1.615268e-05</td>\n      <td>92.091307</td>\n      <td>12688.986370</td>\n      <td>0.002735</td>\n      <td>0.09</td>\n      <td>2575.4907</td>\n    </tr>\n    <tr>\n      <th>121</th>\n      <td>ba</td>\n      <td>healthy</td>\n      <td>r</td>\n      <td>N/A</td>\n      <td>62492.0</td>\n      <td>124910.0</td>\n      <td>72159.641057</td>\n      <td>166189.058085</td>\n      <td>346.842527</td>\n      <td>2704.0</td>\n      <td>...</td>\n      <td>52.000347</td>\n      <td>52.000347</td>\n      <td>270.996204</td>\n      <td>0.000210</td>\n      <td>4.009132e-05</td>\n      <td>13.161423</td>\n      <td>248.764131</td>\n      <td>0.005180</td>\n      <td>0.08</td>\n      <td>14122.7046</td>\n    </tr>\n  </tbody>\n</table>\n<p>122 rows × 192 columns</p>\n</div>"
     },
     "execution_count": 53,
     "metadata": {},
     "output_type": "execute_result"
    }
   ],
   "source": [
    "all_features_whole"
   ],
   "metadata": {
    "collapsed": false,
    "ExecuteTime": {
     "end_time": "2024-03-02T19:14:47.265011Z",
     "start_time": "2024-03-02T19:14:47.262056Z"
    }
   },
   "id": "f8874de7f8beda04"
  },
  {
   "cell_type": "markdown",
   "source": [
    "## Features Windows\n",
    "Extracting features from sliding windows. Independent variables:\n",
    "- Window size\n",
    "- Window shift"
   ],
   "metadata": {
    "collapsed": false
   },
   "id": "33613481fff6e962"
  },
  {
   "cell_type": "code",
   "execution_count": 25,
   "outputs": [],
   "source": [
    "only_light_windows = True       # Ignores windows sizes/shifts and makes the windows the light intervals\n",
    "w_size = 500      # window size - how big the capturing window is in ms\n",
    "w_shift = 250     # window shift - how much the window shifts forward after each iteration in ms. if w_size = w_shift then no overlapping\n",
    "min_win_records = 100 # minimum number of time recordings to contract a window - applicable only when reaching the end of a record/interval\n",
    "\n",
    "all_features_windows = {}\n",
    "\n",
    "for data_path in dataset_paths:\n",
    "    df = re.get_record_df(data_path, ['t', 'l', 'x', 'y', 'z'])\n",
    "    header_columns = get_header_columns(data_path)\n",
    "    \n",
    "    all_light_intervals = get_all_light_intervals_index(df)\n",
    "    for index, row in all_light_intervals.iterrows():\n",
    "        header_columns['Light'] = row['light']\n",
    "        curr_interval_df = df[row['start_index']: row['end_index'] + 1]\n",
    "        curr_interval_df = curr_interval_df.reset_index(drop=True)\n",
    "        curr_interval_df = curr_interval_df.drop(columns=['l'])\n",
    "        \n",
    "        if not only_light_windows:\n",
    "            flag = False\n",
    "            curr_min_time = curr_interval_df['t'].min()\n",
    "            start_index = 0\n",
    "            while not flag:\n",
    "                curr_max_time = curr_min_time + w_size    \n",
    "                start_index = (curr_interval_df['t'] - curr_min_time).abs().idxmin()\n",
    "                end_index = (curr_interval_df['t'] - curr_max_time).abs().idxmin()\n",
    "                \n",
    "                window_df = curr_interval_df[start_index: end_index + 1]\n",
    "                \n",
    "                all_features_windows = extract_all_features(window_df, eng, prefix_columns=header_columns, output_df=all_features_windows)\n",
    "    \n",
    "                curr_min_time += w_shift\n",
    "                if end_index + min_win_records >= len(curr_interval_df['t']) - 1:\n",
    "                    flag = True\n",
    "        else:\n",
    "            all_features_windows = extract_all_features(curr_interval_df, eng, prefix_columns=header_columns, output_df=all_features_windows)"
   ],
   "metadata": {
    "collapsed": false,
    "ExecuteTime": {
     "end_time": "2024-03-03T14:38:35.043121Z",
     "start_time": "2024-03-03T14:34:22.467038Z"
    }
   },
   "id": "cb853717ae0b15fa"
  },
  {
   "cell_type": "code",
   "execution_count": 26,
   "outputs": [
    {
     "data": {
      "text/plain": "      ID    State Hand Medication  Light  Median_SigComplete_VT  \\\n0     ax  healthy    r        N/A      1                 1251.0   \n1     ax  healthy    r        N/A      0                 5082.5   \n2     ax  healthy    r        N/A      1                 8916.5   \n3     ax  healthy    r        N/A      0                12724.0   \n4     ax  healthy    r        N/A      1                16534.5   \n...   ..      ...  ...        ...    ...                    ...   \n3249  ba  healthy    r        N/A      1               108265.0   \n3250  ba  healthy    r        N/A      0               112106.5   \n3251  ba  healthy    r        N/A      1               115941.0   \n3252  ba  healthy    r        N/A      0               119798.0   \n3253  ba  healthy    r        N/A      1               123654.0   \n\n      Range_SigComplete_VT  RMS_SigComplete_VT  RMSratio_SigComplete_VT  \\\n0                   2502.0         1444.837082             2.881328e+04   \n1                   5159.0         5296.684356             8.637357e+04   \n2                   2503.0         8945.900434             2.511543e+04   \n3                   5113.0        12810.134716             1.475847e+05   \n4                   2502.0        16549.952378             3.400827e+04   \n...                    ...                 ...                      ...   \n3249                2502.0       108265.828015             2.394255e+05   \n3250                5171.0       112114.436357             2.441041e+06   \n3251                2502.0       115942.431010             3.936409e+05   \n3252                5210.0       119808.023722             1.459442e+06   \n3253                2503.0       123656.670789             2.336050e+05   \n\n      FirstDerivativeMean_SigComplete_VT  ...  MeanFreq_Plom_Magnitude  \\\n0                             344.874751  ...                52.017219   \n1                             344.928319  ...                52.008355   \n2                             345.470471  ...                52.017241   \n3                             345.293506  ...                52.008439   \n4                             346.712858  ...                52.017310   \n...                                  ...  ...                      ...   \n3249                          346.021277  ...                52.017276   \n3250                          345.286677  ...                52.008344   \n3251                          346.021277  ...                52.017276   \n3252                          345.230965  ...                52.008280   \n3253                          347.778223  ...                52.017356   \n\n      MedianFreq_Plom_Magnitude  SumPSD_Plom_Magnitude  \\\n0                     52.017219               0.010348   \n1                     52.008355               0.002661   \n2                     52.017241               3.675697   \n3                     52.008439               0.007842   \n4                     52.017310               6.337434   \n...                         ...                    ...   \n3249                  52.017276               5.474398   \n3250                  52.008344               0.082052   \n3251                  52.017276               1.980984   \n3252                  52.008280               0.003179   \n3253                  52.017356               8.038108   \n\n      Moment2ndPSD_Plom_Magnitude  Moment3rdPSD_Plom_Magnitude  \\\n0                    2.285097e-10                 2.413191e-14   \n1                    2.877585e-11                 5.327848e-15   \n2                    7.827506e-05                 6.860289e-06   \n3                    2.414687e-10                 1.006939e-13   \n4                    3.975045e-04                 9.493637e-05   \n...                           ...                          ...   \n3249                 1.097233e-04                 7.648087e-06   \n3250                 1.812884e-08                 6.601380e-11   \n3251                 1.503066e-05                 4.508611e-07   \n3252                 9.932285e-12                 3.909879e-16   \n3253                 2.143328e-04                 2.046789e-05   \n\n      SkewnessPSD_Plom_Magnitude  KurtosisPSD_Plom_Magnitude  \\\n0                       6.986100                   58.924606   \n1                      34.515136                 1344.871845   \n2                       9.906205                  113.183056   \n3                      26.835647                  836.403164   \n4                      11.978971                  154.534673   \n...                          ...                         ...   \n3249                    6.654329                   49.152677   \n3250                   27.044536                  886.688511   \n3251                    7.737056                   66.966285   \n3252                   12.490781                  193.187477   \n3253                    6.522889                   47.870505   \n\n      ZeroCrossingRate_Magnitude  ModeSignal_Magnitude  EnergySignal_Magnitude  \n0                       0.000000                  0.05                  3.7969  \n1                       0.000000                  0.06                 11.7027  \n2                       0.005305                  0.04                191.3235  \n3                       0.000000                  0.09                 23.2122  \n4                       0.002663                  0.17                355.7085  \n...                          ...                   ...                     ...  \n3249                    0.012625                  0.08                307.7362  \n3250                    0.013158                  0.05                  6.5731  \n3251                    0.003987                  0.08                130.5632  \n3252                    0.000000                  0.08                 21.1606  \n3253                    0.008678                 -0.05                419.7422  \n\n[3254 rows x 193 columns]",
      "text/html": "<div>\n<style scoped>\n    .dataframe tbody tr th:only-of-type {\n        vertical-align: middle;\n    }\n\n    .dataframe tbody tr th {\n        vertical-align: top;\n    }\n\n    .dataframe thead th {\n        text-align: right;\n    }\n</style>\n<table border=\"1\" class=\"dataframe\">\n  <thead>\n    <tr style=\"text-align: right;\">\n      <th></th>\n      <th>ID</th>\n      <th>State</th>\n      <th>Hand</th>\n      <th>Medication</th>\n      <th>Light</th>\n      <th>Median_SigComplete_VT</th>\n      <th>Range_SigComplete_VT</th>\n      <th>RMS_SigComplete_VT</th>\n      <th>RMSratio_SigComplete_VT</th>\n      <th>FirstDerivativeMean_SigComplete_VT</th>\n      <th>...</th>\n      <th>MeanFreq_Plom_Magnitude</th>\n      <th>MedianFreq_Plom_Magnitude</th>\n      <th>SumPSD_Plom_Magnitude</th>\n      <th>Moment2ndPSD_Plom_Magnitude</th>\n      <th>Moment3rdPSD_Plom_Magnitude</th>\n      <th>SkewnessPSD_Plom_Magnitude</th>\n      <th>KurtosisPSD_Plom_Magnitude</th>\n      <th>ZeroCrossingRate_Magnitude</th>\n      <th>ModeSignal_Magnitude</th>\n      <th>EnergySignal_Magnitude</th>\n    </tr>\n  </thead>\n  <tbody>\n    <tr>\n      <th>0</th>\n      <td>ax</td>\n      <td>healthy</td>\n      <td>r</td>\n      <td>N/A</td>\n      <td>1</td>\n      <td>1251.0</td>\n      <td>2502.0</td>\n      <td>1444.837082</td>\n      <td>2.881328e+04</td>\n      <td>344.874751</td>\n      <td>...</td>\n      <td>52.017219</td>\n      <td>52.017219</td>\n      <td>0.010348</td>\n      <td>2.285097e-10</td>\n      <td>2.413191e-14</td>\n      <td>6.986100</td>\n      <td>58.924606</td>\n      <td>0.000000</td>\n      <td>0.05</td>\n      <td>3.7969</td>\n    </tr>\n    <tr>\n      <th>1</th>\n      <td>ax</td>\n      <td>healthy</td>\n      <td>r</td>\n      <td>N/A</td>\n      <td>0</td>\n      <td>5082.5</td>\n      <td>5159.0</td>\n      <td>5296.684356</td>\n      <td>8.637357e+04</td>\n      <td>344.928319</td>\n      <td>...</td>\n      <td>52.008355</td>\n      <td>52.008355</td>\n      <td>0.002661</td>\n      <td>2.877585e-11</td>\n      <td>5.327848e-15</td>\n      <td>34.515136</td>\n      <td>1344.871845</td>\n      <td>0.000000</td>\n      <td>0.06</td>\n      <td>11.7027</td>\n    </tr>\n    <tr>\n      <th>2</th>\n      <td>ax</td>\n      <td>healthy</td>\n      <td>r</td>\n      <td>N/A</td>\n      <td>1</td>\n      <td>8916.5</td>\n      <td>2503.0</td>\n      <td>8945.900434</td>\n      <td>2.511543e+04</td>\n      <td>345.470471</td>\n      <td>...</td>\n      <td>52.017241</td>\n      <td>52.017241</td>\n      <td>3.675697</td>\n      <td>7.827506e-05</td>\n      <td>6.860289e-06</td>\n      <td>9.906205</td>\n      <td>113.183056</td>\n      <td>0.005305</td>\n      <td>0.04</td>\n      <td>191.3235</td>\n    </tr>\n    <tr>\n      <th>3</th>\n      <td>ax</td>\n      <td>healthy</td>\n      <td>r</td>\n      <td>N/A</td>\n      <td>0</td>\n      <td>12724.0</td>\n      <td>5113.0</td>\n      <td>12810.134716</td>\n      <td>1.475847e+05</td>\n      <td>345.293506</td>\n      <td>...</td>\n      <td>52.008439</td>\n      <td>52.008439</td>\n      <td>0.007842</td>\n      <td>2.414687e-10</td>\n      <td>1.006939e-13</td>\n      <td>26.835647</td>\n      <td>836.403164</td>\n      <td>0.000000</td>\n      <td>0.09</td>\n      <td>23.2122</td>\n    </tr>\n    <tr>\n      <th>4</th>\n      <td>ax</td>\n      <td>healthy</td>\n      <td>r</td>\n      <td>N/A</td>\n      <td>1</td>\n      <td>16534.5</td>\n      <td>2502.0</td>\n      <td>16549.952378</td>\n      <td>3.400827e+04</td>\n      <td>346.712858</td>\n      <td>...</td>\n      <td>52.017310</td>\n      <td>52.017310</td>\n      <td>6.337434</td>\n      <td>3.975045e-04</td>\n      <td>9.493637e-05</td>\n      <td>11.978971</td>\n      <td>154.534673</td>\n      <td>0.002663</td>\n      <td>0.17</td>\n      <td>355.7085</td>\n    </tr>\n    <tr>\n      <th>...</th>\n      <td>...</td>\n      <td>...</td>\n      <td>...</td>\n      <td>...</td>\n      <td>...</td>\n      <td>...</td>\n      <td>...</td>\n      <td>...</td>\n      <td>...</td>\n      <td>...</td>\n      <td>...</td>\n      <td>...</td>\n      <td>...</td>\n      <td>...</td>\n      <td>...</td>\n      <td>...</td>\n      <td>...</td>\n      <td>...</td>\n      <td>...</td>\n      <td>...</td>\n      <td>...</td>\n    </tr>\n    <tr>\n      <th>3249</th>\n      <td>ba</td>\n      <td>healthy</td>\n      <td>r</td>\n      <td>N/A</td>\n      <td>1</td>\n      <td>108265.0</td>\n      <td>2502.0</td>\n      <td>108265.828015</td>\n      <td>2.394255e+05</td>\n      <td>346.021277</td>\n      <td>...</td>\n      <td>52.017276</td>\n      <td>52.017276</td>\n      <td>5.474398</td>\n      <td>1.097233e-04</td>\n      <td>7.648087e-06</td>\n      <td>6.654329</td>\n      <td>49.152677</td>\n      <td>0.012625</td>\n      <td>0.08</td>\n      <td>307.7362</td>\n    </tr>\n    <tr>\n      <th>3250</th>\n      <td>ba</td>\n      <td>healthy</td>\n      <td>r</td>\n      <td>N/A</td>\n      <td>0</td>\n      <td>112106.5</td>\n      <td>5171.0</td>\n      <td>112114.436357</td>\n      <td>2.441041e+06</td>\n      <td>345.286677</td>\n      <td>...</td>\n      <td>52.008344</td>\n      <td>52.008344</td>\n      <td>0.082052</td>\n      <td>1.812884e-08</td>\n      <td>6.601380e-11</td>\n      <td>27.044536</td>\n      <td>886.688511</td>\n      <td>0.013158</td>\n      <td>0.05</td>\n      <td>6.5731</td>\n    </tr>\n    <tr>\n      <th>3251</th>\n      <td>ba</td>\n      <td>healthy</td>\n      <td>r</td>\n      <td>N/A</td>\n      <td>1</td>\n      <td>115941.0</td>\n      <td>2502.0</td>\n      <td>115942.431010</td>\n      <td>3.936409e+05</td>\n      <td>346.021277</td>\n      <td>...</td>\n      <td>52.017276</td>\n      <td>52.017276</td>\n      <td>1.980984</td>\n      <td>1.503066e-05</td>\n      <td>4.508611e-07</td>\n      <td>7.737056</td>\n      <td>66.966285</td>\n      <td>0.003987</td>\n      <td>0.08</td>\n      <td>130.5632</td>\n    </tr>\n    <tr>\n      <th>3252</th>\n      <td>ba</td>\n      <td>healthy</td>\n      <td>r</td>\n      <td>N/A</td>\n      <td>0</td>\n      <td>119798.0</td>\n      <td>5210.0</td>\n      <td>119808.023722</td>\n      <td>1.459442e+06</td>\n      <td>345.230965</td>\n      <td>...</td>\n      <td>52.008280</td>\n      <td>52.008280</td>\n      <td>0.003179</td>\n      <td>9.932285e-12</td>\n      <td>3.909879e-16</td>\n      <td>12.490781</td>\n      <td>193.187477</td>\n      <td>0.000000</td>\n      <td>0.08</td>\n      <td>21.1606</td>\n    </tr>\n    <tr>\n      <th>3253</th>\n      <td>ba</td>\n      <td>healthy</td>\n      <td>r</td>\n      <td>N/A</td>\n      <td>1</td>\n      <td>123654.0</td>\n      <td>2503.0</td>\n      <td>123656.670789</td>\n      <td>2.336050e+05</td>\n      <td>347.778223</td>\n      <td>...</td>\n      <td>52.017356</td>\n      <td>52.017356</td>\n      <td>8.038108</td>\n      <td>2.143328e-04</td>\n      <td>2.046789e-05</td>\n      <td>6.522889</td>\n      <td>47.870505</td>\n      <td>0.008678</td>\n      <td>-0.05</td>\n      <td>419.7422</td>\n    </tr>\n  </tbody>\n</table>\n<p>3254 rows × 193 columns</p>\n</div>"
     },
     "execution_count": 26,
     "metadata": {},
     "output_type": "execute_result"
    }
   ],
   "source": [
    "all_features_windows"
   ],
   "metadata": {
    "collapsed": false,
    "ExecuteTime": {
     "end_time": "2024-03-03T14:38:35.061763Z",
     "start_time": "2024-03-03T14:38:35.042734Z"
    }
   },
   "id": "95739814bec4f75d"
  },
  {
   "cell_type": "markdown",
   "source": [
    "## Totals"
   ],
   "metadata": {
    "collapsed": false
   },
   "id": "9cbd3e0f72ec0079"
  },
  {
   "cell_type": "code",
   "execution_count": 7,
   "outputs": [
    {
     "ename": "NameError",
     "evalue": "name 'all_features_whole' is not defined",
     "output_type": "error",
     "traceback": [
      "\u001B[0;31m---------------------------------------------------------------------------\u001B[0m",
      "\u001B[0;31mNameError\u001B[0m                                 Traceback (most recent call last)",
      "Cell \u001B[0;32mIn[7], line 1\u001B[0m\n\u001B[0;32m----> 1\u001B[0m \u001B[38;5;28mprint\u001B[39m(\u001B[38;5;124m\"\u001B[39m\u001B[38;5;124mTotal features: \u001B[39m\u001B[38;5;124m\"\u001B[39m \u001B[38;5;241m+\u001B[39m \u001B[38;5;28mstr\u001B[39m(\u001B[38;5;28mlen\u001B[39m(\u001B[43mall_features_whole\u001B[49m\u001B[38;5;241m.\u001B[39mcolumns) \u001B[38;5;241m-\u001B[39m \u001B[38;5;241m4\u001B[39m))\n",
      "\u001B[0;31mNameError\u001B[0m: name 'all_features_whole' is not defined"
     ]
    }
   ],
   "source": [
    "print(\"Total features: \" + str(len(all_features_whole.columns) - 4))"
   ],
   "metadata": {
    "collapsed": false,
    "ExecuteTime": {
     "end_time": "2024-03-03T01:25:20.656866Z",
     "start_time": "2024-03-03T01:25:20.509885Z"
    }
   },
   "id": "52473d21e49fa900"
  },
  {
   "cell_type": "code",
   "execution_count": null,
   "outputs": [],
   "source": [
    "print(\"Total records for whole: \" + str(len(all_features_whole)))"
   ],
   "metadata": {
    "collapsed": false,
    "ExecuteTime": {
     "start_time": "2024-03-03T01:25:20.648085Z"
    }
   },
   "id": "665dad5ed485b869"
  },
  {
   "cell_type": "code",
   "execution_count": 27,
   "outputs": [
    {
     "name": "stdout",
     "output_type": "stream",
     "text": [
      "Total records for windows: 3254\n"
     ]
    }
   ],
   "source": [
    "print(\"Total records for windows: \" + str(len(all_features_windows)))"
   ],
   "metadata": {
    "collapsed": false,
    "ExecuteTime": {
     "end_time": "2024-03-03T14:38:35.062665Z",
     "start_time": "2024-03-03T14:38:35.056047Z"
    }
   },
   "id": "eb63e282b9103d8b"
  },
  {
   "cell_type": "code",
   "execution_count": 28,
   "outputs": [],
   "source": [
    "eng.exit()"
   ],
   "metadata": {
    "collapsed": false,
    "ExecuteTime": {
     "end_time": "2024-03-03T14:38:35.063943Z",
     "start_time": "2024-03-03T14:38:35.060019Z"
    }
   },
   "id": "d1fbd9f161eef707"
  },
  {
   "cell_type": "code",
   "execution_count": 60,
   "outputs": [],
   "source": [
    "all_features_whole.to_csv(feature_dataset_path + 'pd_whole_extracted_features.csv', index=False)"
   ],
   "metadata": {
    "collapsed": false,
    "ExecuteTime": {
     "end_time": "2024-03-02T20:16:22.398175Z",
     "start_time": "2024-03-02T20:16:12.328215Z"
    }
   },
   "id": "47db2f64998c0d44"
  },
  {
   "cell_type": "code",
   "execution_count": 29,
   "outputs": [],
   "source": [
    "windows_desc = str(w_size) + '-' + str(w_shift)\n",
    "if only_light_windows:\n",
    "    windows_desc = 'light-intervals'\n",
    "\n",
    "all_features_windows.to_csv(feature_dataset_path + 'pd_' + windows_desc + '-windows_extracted_features.csv', index=False)"
   ],
   "metadata": {
    "collapsed": false,
    "ExecuteTime": {
     "end_time": "2024-03-03T14:38:35.381478Z",
     "start_time": "2024-03-03T14:38:35.065775Z"
    }
   },
   "id": "b86e398441addcbf"
  },
  {
   "cell_type": "code",
   "execution_count": null,
   "outputs": [],
   "source": [],
   "metadata": {
    "collapsed": false
   },
   "id": "20c66a1bf728e6e8"
  }
 ],
 "metadata": {
  "kernelspec": {
   "display_name": "Python 3",
   "language": "python",
   "name": "python3"
  },
  "language_info": {
   "codemirror_mode": {
    "name": "ipython",
    "version": 2
   },
   "file_extension": ".py",
   "mimetype": "text/x-python",
   "name": "python",
   "nbconvert_exporter": "python",
   "pygments_lexer": "ipython2",
   "version": "2.7.6"
  }
 },
 "nbformat": 4,
 "nbformat_minor": 5
}
